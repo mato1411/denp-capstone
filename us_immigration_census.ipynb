{
 "cells": [
  {
   "cell_type": "markdown",
   "metadata": {
    "editable": true
   },
   "source": [
    "# Udacity Data Engineering Capstone Project\n",
    "\n",
    "## US Immigrations, Demographics and Airports\n",
    "\n",
    "The project focuses on the provision of a database containing United States (US) immigration from 2016, city demographics from 2015 and airport data for data analysts, statisticians or researcher within that field.\n",
    "\n",
    "----\n",
    "\n",
    "## Table of Contents\n",
    "\n",
    "1. [Scope](#scope)\n",
    "1. [Tools & Technologies](#tools-tech)\n",
    "1. [Data Wrangling](#wrangling)\n",
    "<br>3.1. [Gathering and Assessing Data](#gathering-assessing)\n",
    "<br>3.2. [Cleaning Data](#cleaning)\n",
    "<br>3.2.1. [I94 Immigration](#c-immigration)\n",
    "<br>3.2.2. [Airport Codes](#c-airport)\n",
    "<br>3.2.3. [US City Demographic](#c-demographic)\n",
    "1. [Data Model Definition](#model-definition)\n",
    "<br>4.1. [Conceptual Data Model](#model-conceptual)\n",
    "<br>4.2. [ETL Definition](#etl-definition)\n",
    "1. [Run ETL Pipeline](#etl-run)\n",
    "<br>5.1. [Data Model Creation](#model-creation)\n",
    "<br>5.2. [Data Dictionary ](#dict)\n",
    "<br>5.3. [Data Quality Checks](#quality)\n",
    "1. [Further Scenarios and Approaches](#scenarios)\n",
    "1. [Known Issues](#issues)"
   ]
  },
  {
   "cell_type": "code",
   "execution_count": 1,
   "metadata": {
    "editable": true
   },
   "outputs": [],
   "source": [
    "from pathlib import Path\n",
    "import collections\n",
    "import os \n",
    "import re\n",
    "import datetime\n",
    "import pandas as pd\n",
    "import json\n",
    "from pyspark.sql import SparkSession\n",
    "from pyspark.sql import functions as F\n",
    "from pyspark.sql import types as T\n",
    "from pyspark.sql.window import Window\n",
    "import utils"
   ]
  },
  {
   "cell_type": "markdown",
   "metadata": {
    "editable": true
   },
   "source": [
    "<a id='scope'></a>\n",
    "## 1. Scope\n",
    "\n",
    "The goal of the project is to provide a database containing United States (US) immigration from 2016, city demographics from 2015 and airport data for data analysts, statisticians or researcher within that field.\n",
    "\n",
    "The process of the database creation is outlined and implemented in this notebook.\n",
    "\n",
    "The database will consist of analytic tables stored in a data lake in Apache parquet format. Fact and dimension tables will be created (star schema). For following use cases and queries the database could be used:\n",
    "1. Is there any relation between US immigrations and US city demographics?\n",
    "1. How long is the average stay of immigrants in the US and how does it vary per month?\n",
    "1. Which Airport is the most frequent one used by immigrants?\n",
    "1. Which type of visa is most popular?\n",
    "1. How does the city population impact the number and size of Airports in a municipality?\n",
    "\n",
    "<a id='tools-tech'></a>\n",
    "## 2. Tools & Technologies\n",
    "1. Python with Pandas for data wrangling of small datasets\n",
    "1. Pyspark for data wrangling and ETL-steps to allow parellel processing of large datasets\n",
    "1. Parquet for storing analytics table\n",
    "1. Optional: AWS S3 as storage (data lake)\n",
    "\n",
    "The tools and technologies were chosen, because Pandas allows data processing of small datasets. Pyspark was chosen, because it's made for processing of large datasets.\n",
    "\n",
    "Pandas as well as Pyspark allow reading the format of the raw datasets provided. To store the target data model as star schema for OLAP and BI purposes, the Apache parquet format was chosen. Parquet allows storing data in columnar format (column oriented) and to partition the data, which will make the analytics queries, processing and joins using Pypsark in a compute cluster environment faster. For data storage AWS S3 was chosen, because it's an objet store suitable as data lake with a great performance and interoperability."
   ]
  },
  {
   "cell_type": "code",
   "execution_count": 2,
   "metadata": {
    "editable": true
   },
   "outputs": [],
   "source": [
    "### Constants used within the project below\n",
    "\n",
    "## ------ EDIT THE FOLLOWING CONSTANTS AS REQUIRED ------\n",
    "\n",
    "# Set this to True, if Udacity workspace is used. For Udacity workspace symlinks will be created automatically\n",
    "UDACITY_WS = True\n",
    "# Set this to True, if data is stored on S3\n",
    "S3 = False\n",
    "# Set this to True, to use only a sample file for world temparature dataset\n",
    "SAMPLE_TEMPERATURE = False\n",
    "# Set this to True, to use only a sample file for US immigration dataset\n",
    "SAMPLE_IMMIGRATION = True\n",
    "# Set this to True, to use only a single month file for US immigration dataset\n",
    "SAMPLE_IMMIGRATION_SAS = False"
   ]
  },
  {
   "cell_type": "code",
   "execution_count": 3,
   "metadata": {
    "editable": true
   },
   "outputs": [
    {
     "name": "stdout",
     "output_type": "stream",
     "text": [
      "ln: failed to create symbolic link '/home/workspace/data/raw/18-83510-I94-Data-2016': File exists\n",
      "ln: failed to create symbolic link '/home/workspace/data/raw/I94_SAS_Labels_Descriptions.SAS': File exists\n",
      "ln: failed to create symbolic link '/home/workspace/data/raw/GlobalLandTemperaturesByCity.csv': File exists\n"
     ]
    }
   ],
   "source": [
    "if UDACITY_WS:\n",
    "    !ln -s /data/18-83510-I94-Data-2016/ /home/workspace/data/raw/\n",
    "    !ln -s /data/I94_SAS_Labels_Descriptions.SAS /home/workspace/data/raw/\n",
    "    !ln -s /data2/GlobalLandTemperaturesByCity.csv /home/workspace/data/raw/"
   ]
  },
  {
   "cell_type": "code",
   "execution_count": 4,
   "metadata": {
    "editable": true
   },
   "outputs": [],
   "source": [
    "## ------ DO NOT CHANGE THE FOLLOWING CONSTANTS ------\n",
    "\n",
    "# Relative data dirs\n",
    "DATA_RAW = Path(f\"s3://{utils.S3_BUCKET_NAME}/raw\") if S3 else Path(\"data/raw\")\n",
    "DATA_RAW_AIRPORT_CSV = DATA_RAW / \"airport-codes.csv\"\n",
    "DATA_RAW_IMMIGRATION_SAMPLE_CSV = DATA_RAW / \"immigration_data_sample.csv\"\n",
    "DATA_RAW_IMMIGRATION_SAS_DIR = DATA_RAW / \"18-83510-I94-Data-2016\"\n",
    "DATA_RAW_IMMIGRATION_SAS_DATA_DICT = DATA_RAW / \"I94_SAS_Labels_Descriptions.SAS\"\n",
    "DATA_RAW_TEMP_CSV = DATA_RAW / \"GlobalLandTemperaturesByCity.csv\"\n",
    "DATA_RAW_TEMP_SAMPLE_CSV = DATA_RAW / \"global-land-temperature-by-city-sample.csv\"\n",
    "DATA_RAW_US_DEMO_CSV = DATA_RAW / \"us-cities-demographics.csv\"\n",
    "\n",
    "DATA_CLEANED = Path(f\"s3://{S3_BUCKET_NAME}/cleaned\") if S3 else Path(\"data/cleaned\")\n",
    "DATA_CLEANED_IMMIGRATION = DATA_CLEANED / \"immigration\"\n",
    "if SAMPLE_IMMIGRATION:\n",
    "    DATA_CLEANED_IMMIGRATION_PARQUET = str(DATA_CLEANED_IMMIGRATION / \"sample_csv_pq\")\n",
    "elif SAMPLE_IMMIGRATION_SAS:\n",
    "    DATA_CLEANED_IMMIGRATION_PARQUET = str(DATA_CLEANED_IMMIGRATION / \"sample_month_pq\")\n",
    "else:\n",
    "    DATA_CLEANED_IMMIGRATION_PARQUET = str(DATA_CLEANED_IMMIGRATION / \"complete_pq\")\n",
    "DATA_CLEANED_AIRPORT_PARQUET = str(DATA_CLEANED / \"airport_pq\")\n",
    "DATA_CLEANED_DEMO_PARQUET = str(DATA_CLEANED / \"demographic_pq\")\n",
    "\n",
    "DATA_PROCESSED = Path(f\"s3://{S3_BUCKET_NAME}/processed\") if S3 else Path(\"data/processed\")\n",
    "DATA_PROCESSED_IMMIGRATION_DATA_DICT = DATA_PROCESSED / \"immigration_data_dict\"\n",
    "if SAMPLE_IMMIGRATION:\n",
    "    DATA_PROCESSED_IMMIGRATION = DATA_PROCESSED / \"immigration_sample_csv\"\n",
    "elif SAMPLE_IMMIGRATION_SAS:\n",
    "    DATA_PROCESSED_IMMIGRATION = DATA_PROCESSED / \"immigration_sample_month\"\n",
    "else:\n",
    "    DATA_PROCESSED_IMMIGRATION = DATA_PROCESSED / \"immigration_complete\"\n",
    "DATA_PROCESSED_F_IMMIGRATIONS = str(DATA_PROCESSED_IMMIGRATION / \"f_us_immigrations_pq\")\n",
    "DATA_PROCESSED_D_AIRPORTS = str(DATA_PROCESSED / \"d_us_airports_pq\")\n",
    "DATA_PROCESSED_D_DEMOGRAPHIC = str(DATA_PROCESSED / \"d_us_demographics_pq\")\n",
    "DATA_PROCESSED_D_VISITORS = str(DATA_PROCESSED / \"d_visitors_pq\")\n",
    "\n",
    "for d in [DATA_RAW_IMMIGRATION_SAS_DIR, DATA_PROCESSED_IMMIGRATION_DATA_DICT, DATA_PROCESSED_IMMIGRATION]:\n",
    "    os.makedirs(d, exist_ok=True)"
   ]
  },
  {
   "cell_type": "code",
   "execution_count": 5,
   "metadata": {
    "editable": true
   },
   "outputs": [],
   "source": [
    "### Initialize Spark - Adapt, if using AWS EMR Spark Cluster\n",
    "spark = SparkSession.builder \\\n",
    "    .config(\"spark.jars.repositories\", \"https://repos.spark-packages.org/\") \\\n",
    "    .config(\"spark.jars.packages\", \"saurfang:spark-sas7bdat:2.0.0-s_2.11\") \\\n",
    "    .enableHiveSupport() \\\n",
    "    .getOrCreate()"
   ]
  },
  {
   "cell_type": "markdown",
   "metadata": {
    "editable": true
   },
   "source": [
    "<a id='wrangling'></a>\n",
    "## 3. Data Wrangling\n",
    "\n",
    "<a id='gathering-assessing'></a>\n",
    "### 3.1. Gathering and Assessing Data\n",
    "\n",
    "The following datasets will be used:\n",
    "* I94 Immigration: This dataset comes from the [US National Tourism and Trade Office](https://travel.trade.gov/research/reports/i94/historical/2016.html). It consists of:\n",
    "    * Sample CSV file containing 1000 rows\n",
    "    * SAS files partioned by month for the complete year 2016\n",
    "    * Data dictionary \n",
    "* World Temperature: This dataset came from [Kaggle](https://www.kaggle.com/berkeleyearth/climate-change-earth-surface-temperature-data). It provides monthly average temparature data for cities around the global.\n",
    "* Airport Codes: This is a simple table of airport codes and corresponding cities. It comes from [here](https://datahub.io/core/airport-codes#data).\n",
    "* US City Demographic: This data comes from [OpenSoft](https://public.opendatasoft.com/explore/dataset/us-cities-demographics/export/). It covers information about demographic of cities collect by the US Census Bureau's 2015 American Community Survey.\n",
    "\n",
    "The data will be gathered and explored using Pandas and Pyspark in the following. This will cover visual and programmatic assessment in order to identify quality and tidiness issues. The findings will be summarized and cleaning actions defined within the next section.\n",
    "\n",
    "**Load the datasets initially to allow cross-dataset checks**"
   ]
  },
  {
   "cell_type": "code",
   "execution_count": 6,
   "metadata": {
    "editable": true
   },
   "outputs": [],
   "source": [
    "df_immigration_sample = pd.read_csv(DATA_RAW_IMMIGRATION_SAMPLE_CSV)\n",
    "df_temp = pd.read_csv(DATA_RAW_TEMP_SAMPLE_CSV) if SAMPLE_TEMPERATURE else pd.read_csv(DATA_RAW_TEMP_CSV)\n",
    "df_airport = pd.read_csv(DATA_RAW_AIRPORT_CSV)\n",
    "df_demo = pd.read_csv(DATA_RAW_US_DEMO_CSV, sep=\";\")"
   ]
  },
  {
   "cell_type": "markdown",
   "metadata": {
    "editable": true
   },
   "source": [
    "**I94 Immigration**"
   ]
  },
  {
   "cell_type": "code",
   "execution_count": 7,
   "metadata": {
    "editable": true
   },
   "outputs": [
    {
     "data": {
      "text/html": [
       "<div>\n",
       "<style scoped>\n",
       "    .dataframe tbody tr th:only-of-type {\n",
       "        vertical-align: middle;\n",
       "    }\n",
       "\n",
       "    .dataframe tbody tr th {\n",
       "        vertical-align: top;\n",
       "    }\n",
       "\n",
       "    .dataframe thead th {\n",
       "        text-align: right;\n",
       "    }\n",
       "</style>\n",
       "<table border=\"1\" class=\"dataframe\">\n",
       "  <thead>\n",
       "    <tr style=\"text-align: right;\">\n",
       "      <th></th>\n",
       "      <th>Unnamed: 0</th>\n",
       "      <th>cicid</th>\n",
       "      <th>i94yr</th>\n",
       "      <th>i94mon</th>\n",
       "      <th>i94cit</th>\n",
       "      <th>i94res</th>\n",
       "      <th>i94port</th>\n",
       "      <th>arrdate</th>\n",
       "      <th>i94mode</th>\n",
       "      <th>i94addr</th>\n",
       "      <th>...</th>\n",
       "      <th>entdepu</th>\n",
       "      <th>matflag</th>\n",
       "      <th>biryear</th>\n",
       "      <th>dtaddto</th>\n",
       "      <th>gender</th>\n",
       "      <th>insnum</th>\n",
       "      <th>airline</th>\n",
       "      <th>admnum</th>\n",
       "      <th>fltno</th>\n",
       "      <th>visatype</th>\n",
       "    </tr>\n",
       "  </thead>\n",
       "  <tbody>\n",
       "    <tr>\n",
       "      <th>0</th>\n",
       "      <td>2027561</td>\n",
       "      <td>4084316.0</td>\n",
       "      <td>2016.0</td>\n",
       "      <td>4.0</td>\n",
       "      <td>209.0</td>\n",
       "      <td>209.0</td>\n",
       "      <td>HHW</td>\n",
       "      <td>20566.0</td>\n",
       "      <td>1.0</td>\n",
       "      <td>HI</td>\n",
       "      <td>...</td>\n",
       "      <td>NaN</td>\n",
       "      <td>M</td>\n",
       "      <td>1955.0</td>\n",
       "      <td>07202016</td>\n",
       "      <td>F</td>\n",
       "      <td>NaN</td>\n",
       "      <td>JL</td>\n",
       "      <td>5.658267e+10</td>\n",
       "      <td>00782</td>\n",
       "      <td>WT</td>\n",
       "    </tr>\n",
       "    <tr>\n",
       "      <th>1</th>\n",
       "      <td>2171295</td>\n",
       "      <td>4422636.0</td>\n",
       "      <td>2016.0</td>\n",
       "      <td>4.0</td>\n",
       "      <td>582.0</td>\n",
       "      <td>582.0</td>\n",
       "      <td>MCA</td>\n",
       "      <td>20567.0</td>\n",
       "      <td>1.0</td>\n",
       "      <td>TX</td>\n",
       "      <td>...</td>\n",
       "      <td>NaN</td>\n",
       "      <td>M</td>\n",
       "      <td>1990.0</td>\n",
       "      <td>10222016</td>\n",
       "      <td>M</td>\n",
       "      <td>NaN</td>\n",
       "      <td>*GA</td>\n",
       "      <td>9.436200e+10</td>\n",
       "      <td>XBLNG</td>\n",
       "      <td>B2</td>\n",
       "    </tr>\n",
       "    <tr>\n",
       "      <th>2</th>\n",
       "      <td>589494</td>\n",
       "      <td>1195600.0</td>\n",
       "      <td>2016.0</td>\n",
       "      <td>4.0</td>\n",
       "      <td>148.0</td>\n",
       "      <td>112.0</td>\n",
       "      <td>OGG</td>\n",
       "      <td>20551.0</td>\n",
       "      <td>1.0</td>\n",
       "      <td>FL</td>\n",
       "      <td>...</td>\n",
       "      <td>NaN</td>\n",
       "      <td>M</td>\n",
       "      <td>1940.0</td>\n",
       "      <td>07052016</td>\n",
       "      <td>M</td>\n",
       "      <td>NaN</td>\n",
       "      <td>LH</td>\n",
       "      <td>5.578047e+10</td>\n",
       "      <td>00464</td>\n",
       "      <td>WT</td>\n",
       "    </tr>\n",
       "    <tr>\n",
       "      <th>3</th>\n",
       "      <td>2631158</td>\n",
       "      <td>5291768.0</td>\n",
       "      <td>2016.0</td>\n",
       "      <td>4.0</td>\n",
       "      <td>297.0</td>\n",
       "      <td>297.0</td>\n",
       "      <td>LOS</td>\n",
       "      <td>20572.0</td>\n",
       "      <td>1.0</td>\n",
       "      <td>CA</td>\n",
       "      <td>...</td>\n",
       "      <td>NaN</td>\n",
       "      <td>M</td>\n",
       "      <td>1991.0</td>\n",
       "      <td>10272016</td>\n",
       "      <td>M</td>\n",
       "      <td>NaN</td>\n",
       "      <td>QR</td>\n",
       "      <td>9.478970e+10</td>\n",
       "      <td>00739</td>\n",
       "      <td>B2</td>\n",
       "    </tr>\n",
       "    <tr>\n",
       "      <th>4</th>\n",
       "      <td>3032257</td>\n",
       "      <td>985523.0</td>\n",
       "      <td>2016.0</td>\n",
       "      <td>4.0</td>\n",
       "      <td>111.0</td>\n",
       "      <td>111.0</td>\n",
       "      <td>CHM</td>\n",
       "      <td>20550.0</td>\n",
       "      <td>3.0</td>\n",
       "      <td>NY</td>\n",
       "      <td>...</td>\n",
       "      <td>NaN</td>\n",
       "      <td>M</td>\n",
       "      <td>1997.0</td>\n",
       "      <td>07042016</td>\n",
       "      <td>F</td>\n",
       "      <td>NaN</td>\n",
       "      <td>NaN</td>\n",
       "      <td>4.232257e+10</td>\n",
       "      <td>LAND</td>\n",
       "      <td>WT</td>\n",
       "    </tr>\n",
       "  </tbody>\n",
       "</table>\n",
       "<p>5 rows × 29 columns</p>\n",
       "</div>"
      ],
      "text/plain": [
       "   Unnamed: 0      cicid   i94yr  i94mon  i94cit  i94res i94port  arrdate  \\\n",
       "0     2027561  4084316.0  2016.0     4.0   209.0   209.0     HHW  20566.0   \n",
       "1     2171295  4422636.0  2016.0     4.0   582.0   582.0     MCA  20567.0   \n",
       "2      589494  1195600.0  2016.0     4.0   148.0   112.0     OGG  20551.0   \n",
       "3     2631158  5291768.0  2016.0     4.0   297.0   297.0     LOS  20572.0   \n",
       "4     3032257   985523.0  2016.0     4.0   111.0   111.0     CHM  20550.0   \n",
       "\n",
       "   i94mode i94addr    ...     entdepu  matflag  biryear   dtaddto  gender  \\\n",
       "0      1.0      HI    ...         NaN        M   1955.0  07202016       F   \n",
       "1      1.0      TX    ...         NaN        M   1990.0  10222016       M   \n",
       "2      1.0      FL    ...         NaN        M   1940.0  07052016       M   \n",
       "3      1.0      CA    ...         NaN        M   1991.0  10272016       M   \n",
       "4      3.0      NY    ...         NaN        M   1997.0  07042016       F   \n",
       "\n",
       "  insnum airline        admnum  fltno  visatype  \n",
       "0    NaN      JL  5.658267e+10  00782        WT  \n",
       "1    NaN     *GA  9.436200e+10  XBLNG        B2  \n",
       "2    NaN      LH  5.578047e+10  00464        WT  \n",
       "3    NaN      QR  9.478970e+10  00739        B2  \n",
       "4    NaN     NaN  4.232257e+10   LAND        WT  \n",
       "\n",
       "[5 rows x 29 columns]"
      ]
     },
     "execution_count": 7,
     "metadata": {},
     "output_type": "execute_result"
    }
   ],
   "source": [
    "df_immigration_sample.head()"
   ]
  },
  {
   "cell_type": "code",
   "execution_count": 8,
   "metadata": {
    "editable": true
   },
   "outputs": [
    {
     "name": "stdout",
     "output_type": "stream",
     "text": [
      "<class 'pandas.core.frame.DataFrame'>\n",
      "RangeIndex: 1000 entries, 0 to 999\n",
      "Data columns (total 29 columns):\n",
      "Unnamed: 0    1000 non-null int64\n",
      "cicid         1000 non-null float64\n",
      "i94yr         1000 non-null float64\n",
      "i94mon        1000 non-null float64\n",
      "i94cit        1000 non-null float64\n",
      "i94res        1000 non-null float64\n",
      "i94port       1000 non-null object\n",
      "arrdate       1000 non-null float64\n",
      "i94mode       1000 non-null float64\n",
      "i94addr       941 non-null object\n",
      "depdate       951 non-null float64\n",
      "i94bir        1000 non-null float64\n",
      "i94visa       1000 non-null float64\n",
      "count         1000 non-null float64\n",
      "dtadfile      1000 non-null int64\n",
      "visapost      382 non-null object\n",
      "occup         4 non-null object\n",
      "entdepa       1000 non-null object\n",
      "entdepd       954 non-null object\n",
      "entdepu       0 non-null float64\n",
      "matflag       954 non-null object\n",
      "biryear       1000 non-null float64\n",
      "dtaddto       1000 non-null object\n",
      "gender        859 non-null object\n",
      "insnum        35 non-null float64\n",
      "airline       967 non-null object\n",
      "admnum        1000 non-null float64\n",
      "fltno         992 non-null object\n",
      "visatype      1000 non-null object\n",
      "dtypes: float64(15), int64(2), object(12)\n",
      "memory usage: 226.6+ KB\n"
     ]
    }
   ],
   "source": [
    "df_immigration_sample.info()"
   ]
  },
  {
   "cell_type": "code",
   "execution_count": 9,
   "metadata": {
    "editable": true
   },
   "outputs": [
    {
     "data": {
      "text/html": [
       "<div>\n",
       "<style scoped>\n",
       "    .dataframe tbody tr th:only-of-type {\n",
       "        vertical-align: middle;\n",
       "    }\n",
       "\n",
       "    .dataframe tbody tr th {\n",
       "        vertical-align: top;\n",
       "    }\n",
       "\n",
       "    .dataframe thead th {\n",
       "        text-align: right;\n",
       "    }\n",
       "</style>\n",
       "<table border=\"1\" class=\"dataframe\">\n",
       "  <thead>\n",
       "    <tr style=\"text-align: right;\">\n",
       "      <th></th>\n",
       "      <th>Unnamed: 0</th>\n",
       "      <th>cicid</th>\n",
       "      <th>i94yr</th>\n",
       "      <th>i94mon</th>\n",
       "      <th>i94cit</th>\n",
       "      <th>i94res</th>\n",
       "      <th>arrdate</th>\n",
       "      <th>i94mode</th>\n",
       "      <th>depdate</th>\n",
       "      <th>i94bir</th>\n",
       "      <th>i94visa</th>\n",
       "      <th>count</th>\n",
       "      <th>dtadfile</th>\n",
       "      <th>entdepu</th>\n",
       "      <th>biryear</th>\n",
       "      <th>insnum</th>\n",
       "      <th>admnum</th>\n",
       "    </tr>\n",
       "  </thead>\n",
       "  <tbody>\n",
       "    <tr>\n",
       "      <th>count</th>\n",
       "      <td>1.000000e+03</td>\n",
       "      <td>1.000000e+03</td>\n",
       "      <td>1000.0</td>\n",
       "      <td>1000.0</td>\n",
       "      <td>1000.000000</td>\n",
       "      <td>1000.00000</td>\n",
       "      <td>1000.000000</td>\n",
       "      <td>1000.000000</td>\n",
       "      <td>951.000000</td>\n",
       "      <td>1000.000000</td>\n",
       "      <td>1000.000000</td>\n",
       "      <td>1000.0</td>\n",
       "      <td>1.000000e+03</td>\n",
       "      <td>0.0</td>\n",
       "      <td>1000.000000</td>\n",
       "      <td>35.000000</td>\n",
       "      <td>1.000000e+03</td>\n",
       "    </tr>\n",
       "    <tr>\n",
       "      <th>mean</th>\n",
       "      <td>1.542097e+06</td>\n",
       "      <td>3.040461e+06</td>\n",
       "      <td>2016.0</td>\n",
       "      <td>4.0</td>\n",
       "      <td>302.928000</td>\n",
       "      <td>298.26200</td>\n",
       "      <td>20559.680000</td>\n",
       "      <td>1.078000</td>\n",
       "      <td>20575.037855</td>\n",
       "      <td>42.382000</td>\n",
       "      <td>1.859000</td>\n",
       "      <td>1.0</td>\n",
       "      <td>2.016042e+07</td>\n",
       "      <td>NaN</td>\n",
       "      <td>1973.618000</td>\n",
       "      <td>3826.857143</td>\n",
       "      <td>6.937237e+10</td>\n",
       "    </tr>\n",
       "    <tr>\n",
       "      <th>std</th>\n",
       "      <td>9.152879e+05</td>\n",
       "      <td>1.799818e+06</td>\n",
       "      <td>0.0</td>\n",
       "      <td>0.0</td>\n",
       "      <td>206.485285</td>\n",
       "      <td>202.12039</td>\n",
       "      <td>8.995027</td>\n",
       "      <td>0.485955</td>\n",
       "      <td>24.211234</td>\n",
       "      <td>17.903424</td>\n",
       "      <td>0.386353</td>\n",
       "      <td>0.0</td>\n",
       "      <td>4.951657e+01</td>\n",
       "      <td>NaN</td>\n",
       "      <td>17.903424</td>\n",
       "      <td>221.742583</td>\n",
       "      <td>2.338134e+10</td>\n",
       "    </tr>\n",
       "    <tr>\n",
       "      <th>min</th>\n",
       "      <td>1.092500e+04</td>\n",
       "      <td>1.320800e+04</td>\n",
       "      <td>2016.0</td>\n",
       "      <td>4.0</td>\n",
       "      <td>103.000000</td>\n",
       "      <td>103.00000</td>\n",
       "      <td>20545.000000</td>\n",
       "      <td>1.000000</td>\n",
       "      <td>20547.000000</td>\n",
       "      <td>1.000000</td>\n",
       "      <td>1.000000</td>\n",
       "      <td>1.0</td>\n",
       "      <td>2.016040e+07</td>\n",
       "      <td>NaN</td>\n",
       "      <td>1923.000000</td>\n",
       "      <td>3468.000000</td>\n",
       "      <td>0.000000e+00</td>\n",
       "    </tr>\n",
       "    <tr>\n",
       "      <th>25%</th>\n",
       "      <td>7.214422e+05</td>\n",
       "      <td>1.412170e+06</td>\n",
       "      <td>2016.0</td>\n",
       "      <td>4.0</td>\n",
       "      <td>135.000000</td>\n",
       "      <td>131.00000</td>\n",
       "      <td>20552.000000</td>\n",
       "      <td>1.000000</td>\n",
       "      <td>20561.000000</td>\n",
       "      <td>30.750000</td>\n",
       "      <td>2.000000</td>\n",
       "      <td>1.0</td>\n",
       "      <td>2.016041e+07</td>\n",
       "      <td>NaN</td>\n",
       "      <td>1961.000000</td>\n",
       "      <td>3668.000000</td>\n",
       "      <td>5.599301e+10</td>\n",
       "    </tr>\n",
       "    <tr>\n",
       "      <th>50%</th>\n",
       "      <td>1.494568e+06</td>\n",
       "      <td>2.941176e+06</td>\n",
       "      <td>2016.0</td>\n",
       "      <td>4.0</td>\n",
       "      <td>213.000000</td>\n",
       "      <td>213.00000</td>\n",
       "      <td>20560.000000</td>\n",
       "      <td>1.000000</td>\n",
       "      <td>20570.000000</td>\n",
       "      <td>42.000000</td>\n",
       "      <td>2.000000</td>\n",
       "      <td>1.0</td>\n",
       "      <td>2.016042e+07</td>\n",
       "      <td>NaN</td>\n",
       "      <td>1974.000000</td>\n",
       "      <td>3887.000000</td>\n",
       "      <td>5.931477e+10</td>\n",
       "    </tr>\n",
       "    <tr>\n",
       "      <th>75%</th>\n",
       "      <td>2.360901e+06</td>\n",
       "      <td>4.694151e+06</td>\n",
       "      <td>2016.0</td>\n",
       "      <td>4.0</td>\n",
       "      <td>438.000000</td>\n",
       "      <td>438.00000</td>\n",
       "      <td>20567.250000</td>\n",
       "      <td>1.000000</td>\n",
       "      <td>20580.000000</td>\n",
       "      <td>55.000000</td>\n",
       "      <td>2.000000</td>\n",
       "      <td>1.0</td>\n",
       "      <td>2.016042e+07</td>\n",
       "      <td>NaN</td>\n",
       "      <td>1985.250000</td>\n",
       "      <td>3943.000000</td>\n",
       "      <td>9.343623e+10</td>\n",
       "    </tr>\n",
       "    <tr>\n",
       "      <th>max</th>\n",
       "      <td>3.095749e+06</td>\n",
       "      <td>6.061994e+06</td>\n",
       "      <td>2016.0</td>\n",
       "      <td>4.0</td>\n",
       "      <td>746.000000</td>\n",
       "      <td>696.00000</td>\n",
       "      <td>20574.000000</td>\n",
       "      <td>9.000000</td>\n",
       "      <td>20715.000000</td>\n",
       "      <td>93.000000</td>\n",
       "      <td>3.000000</td>\n",
       "      <td>1.0</td>\n",
       "      <td>2.016080e+07</td>\n",
       "      <td>NaN</td>\n",
       "      <td>2015.000000</td>\n",
       "      <td>4686.000000</td>\n",
       "      <td>9.502151e+10</td>\n",
       "    </tr>\n",
       "  </tbody>\n",
       "</table>\n",
       "</div>"
      ],
      "text/plain": [
       "         Unnamed: 0         cicid   i94yr  i94mon       i94cit      i94res  \\\n",
       "count  1.000000e+03  1.000000e+03  1000.0  1000.0  1000.000000  1000.00000   \n",
       "mean   1.542097e+06  3.040461e+06  2016.0     4.0   302.928000   298.26200   \n",
       "std    9.152879e+05  1.799818e+06     0.0     0.0   206.485285   202.12039   \n",
       "min    1.092500e+04  1.320800e+04  2016.0     4.0   103.000000   103.00000   \n",
       "25%    7.214422e+05  1.412170e+06  2016.0     4.0   135.000000   131.00000   \n",
       "50%    1.494568e+06  2.941176e+06  2016.0     4.0   213.000000   213.00000   \n",
       "75%    2.360901e+06  4.694151e+06  2016.0     4.0   438.000000   438.00000   \n",
       "max    3.095749e+06  6.061994e+06  2016.0     4.0   746.000000   696.00000   \n",
       "\n",
       "            arrdate      i94mode       depdate       i94bir      i94visa  \\\n",
       "count   1000.000000  1000.000000    951.000000  1000.000000  1000.000000   \n",
       "mean   20559.680000     1.078000  20575.037855    42.382000     1.859000   \n",
       "std        8.995027     0.485955     24.211234    17.903424     0.386353   \n",
       "min    20545.000000     1.000000  20547.000000     1.000000     1.000000   \n",
       "25%    20552.000000     1.000000  20561.000000    30.750000     2.000000   \n",
       "50%    20560.000000     1.000000  20570.000000    42.000000     2.000000   \n",
       "75%    20567.250000     1.000000  20580.000000    55.000000     2.000000   \n",
       "max    20574.000000     9.000000  20715.000000    93.000000     3.000000   \n",
       "\n",
       "        count      dtadfile  entdepu      biryear       insnum        admnum  \n",
       "count  1000.0  1.000000e+03      0.0  1000.000000    35.000000  1.000000e+03  \n",
       "mean      1.0  2.016042e+07      NaN  1973.618000  3826.857143  6.937237e+10  \n",
       "std       0.0  4.951657e+01      NaN    17.903424   221.742583  2.338134e+10  \n",
       "min       1.0  2.016040e+07      NaN  1923.000000  3468.000000  0.000000e+00  \n",
       "25%       1.0  2.016041e+07      NaN  1961.000000  3668.000000  5.599301e+10  \n",
       "50%       1.0  2.016042e+07      NaN  1974.000000  3887.000000  5.931477e+10  \n",
       "75%       1.0  2.016042e+07      NaN  1985.250000  3943.000000  9.343623e+10  \n",
       "max       1.0  2.016080e+07      NaN  2015.000000  4686.000000  9.502151e+10  "
      ]
     },
     "execution_count": 9,
     "metadata": {},
     "output_type": "execute_result"
    }
   ],
   "source": [
    "df_immigration_sample.describe()"
   ]
  },
  {
   "cell_type": "markdown",
   "metadata": {
    "editable": true
   },
   "source": [
    "Switch to Spark to avoid implementation in Pandas to be transfered to Spark, because SAS files are very large"
   ]
  },
  {
   "cell_type": "code",
   "execution_count": 10,
   "metadata": {
    "editable": true
   },
   "outputs": [
    {
     "data": {
      "text/plain": [
       "['i94_apr16_sub.sas7bdat',\n",
       " 'i94_sep16_sub.sas7bdat',\n",
       " 'i94_nov16_sub.sas7bdat',\n",
       " 'i94_mar16_sub.sas7bdat',\n",
       " 'i94_jun16_sub.sas7bdat',\n",
       " 'i94_aug16_sub.sas7bdat',\n",
       " 'i94_may16_sub.sas7bdat',\n",
       " 'i94_jan16_sub.sas7bdat',\n",
       " 'i94_oct16_sub.sas7bdat',\n",
       " 'i94_jul16_sub.sas7bdat',\n",
       " 'i94_feb16_sub.sas7bdat',\n",
       " 'i94_dec16_sub.sas7bdat']"
      ]
     },
     "execution_count": 10,
     "metadata": {},
     "output_type": "execute_result"
    }
   ],
   "source": [
    "sas_files = os.listdir(DATA_RAW_IMMIGRATION_SAS_DIR)\n",
    "sas_files"
   ]
  },
  {
   "cell_type": "code",
   "execution_count": 11,
   "metadata": {
    "editable": true
   },
   "outputs": [],
   "source": [
    "def get_immigration_df(sas_files):\n",
    "    # Pyspark 3.x: df_immigration = spark.read.format('com.github.saurfang.sas.spark').load(sas_data_dir, pathGlobFilter=\"*.sas7bdat\")\n",
    "    for i, f in enumerate(sas_files): \n",
    "        if i == 0:\n",
    "            if SAMPLE_IMMIGRATION:\n",
    "                df = spark.read.option(\"header\", True).csv(str(DATA_RAW_IMMIGRATION_SAMPLE_CSV))\n",
    "            else:\n",
    "                df = spark.read.format('com.github.saurfang.sas.spark').load(f\"{DATA_RAW_IMMIGRATION_SAS_DIR / f}\")\n",
    "            continue\n",
    "        if SAMPLE_IMMIGRATION_SAS or SAMPLE_IMMIGRATION:\n",
    "            break\n",
    "        df_month = spark.read.format('com.github.saurfang.sas.spark').load(f\"{DATA_RAW_IMMIGRATION_SAS_DIR / f}\")\n",
    "        df = df.unionByName(df_month)\n",
    "    return df"
   ]
  },
  {
   "cell_type": "code",
   "execution_count": 12,
   "metadata": {
    "editable": true
   },
   "outputs": [
    {
     "name": "stdout",
     "output_type": "stream",
     "text": [
      "root\n",
      " |-- _c0: string (nullable = true)\n",
      " |-- cicid: string (nullable = true)\n",
      " |-- i94yr: string (nullable = true)\n",
      " |-- i94mon: string (nullable = true)\n",
      " |-- i94cit: string (nullable = true)\n",
      " |-- i94res: string (nullable = true)\n",
      " |-- i94port: string (nullable = true)\n",
      " |-- arrdate: string (nullable = true)\n",
      " |-- i94mode: string (nullable = true)\n",
      " |-- i94addr: string (nullable = true)\n",
      " |-- depdate: string (nullable = true)\n",
      " |-- i94bir: string (nullable = true)\n",
      " |-- i94visa: string (nullable = true)\n",
      " |-- count: string (nullable = true)\n",
      " |-- dtadfile: string (nullable = true)\n",
      " |-- visapost: string (nullable = true)\n",
      " |-- occup: string (nullable = true)\n",
      " |-- entdepa: string (nullable = true)\n",
      " |-- entdepd: string (nullable = true)\n",
      " |-- entdepu: string (nullable = true)\n",
      " |-- matflag: string (nullable = true)\n",
      " |-- biryear: string (nullable = true)\n",
      " |-- dtaddto: string (nullable = true)\n",
      " |-- gender: string (nullable = true)\n",
      " |-- insnum: string (nullable = true)\n",
      " |-- airline: string (nullable = true)\n",
      " |-- admnum: string (nullable = true)\n",
      " |-- fltno: string (nullable = true)\n",
      " |-- visatype: string (nullable = true)\n",
      "\n"
     ]
    }
   ],
   "source": [
    "df_immigration = get_immigration_df(sas_files)\n",
    "df_immigration.printSchema()"
   ]
  },
  {
   "cell_type": "code",
   "execution_count": 13,
   "metadata": {
    "editable": true
   },
   "outputs": [
    {
     "data": {
      "text/plain": [
       "1000"
      ]
     },
     "execution_count": 13,
     "metadata": {},
     "output_type": "execute_result"
    }
   ],
   "source": [
    "df_immigration.count()"
   ]
  },
  {
   "cell_type": "code",
   "execution_count": 14,
   "metadata": {
    "editable": true
   },
   "outputs": [
    {
     "data": {
      "text/plain": [
       "29"
      ]
     },
     "execution_count": 14,
     "metadata": {},
     "output_type": "execute_result"
    }
   ],
   "source": [
    "len(df_immigration.columns)"
   ]
  },
  {
   "cell_type": "code",
   "execution_count": 15,
   "metadata": {
    "editable": true
   },
   "outputs": [
    {
     "data": {
      "text/plain": [
       "[Row(_c0='2027561', cicid='4084316.0', i94yr='2016.0', i94mon='4.0', i94cit='209.0', i94res='209.0', i94port='HHW', arrdate='20566.0', i94mode='1.0', i94addr='HI', depdate='20573.0', i94bir='61.0', i94visa='2.0', count='1.0', dtadfile='20160422', visapost=None, occup=None, entdepa='G', entdepd='O', entdepu=None, matflag='M', biryear='1955.0', dtaddto='07202016', gender='F', insnum=None, airline='JL', admnum='56582674633.0', fltno='00782', visatype='WT'),\n",
       " Row(_c0='2171295', cicid='4422636.0', i94yr='2016.0', i94mon='4.0', i94cit='582.0', i94res='582.0', i94port='MCA', arrdate='20567.0', i94mode='1.0', i94addr='TX', depdate='20568.0', i94bir='26.0', i94visa='2.0', count='1.0', dtadfile='20160423', visapost='MTR', occup=None, entdepa='G', entdepd='R', entdepu=None, matflag='M', biryear='1990.0', dtaddto='10222016', gender='M', insnum=None, airline='*GA', admnum='94361995930.0', fltno='XBLNG', visatype='B2'),\n",
       " Row(_c0='589494', cicid='1195600.0', i94yr='2016.0', i94mon='4.0', i94cit='148.0', i94res='112.0', i94port='OGG', arrdate='20551.0', i94mode='1.0', i94addr='FL', depdate='20571.0', i94bir='76.0', i94visa='2.0', count='1.0', dtadfile='20160407', visapost=None, occup=None, entdepa='G', entdepd='O', entdepu=None, matflag='M', biryear='1940.0', dtaddto='07052016', gender='M', insnum=None, airline='LH', admnum='55780468433.0', fltno='00464', visatype='WT'),\n",
       " Row(_c0='2631158', cicid='5291768.0', i94yr='2016.0', i94mon='4.0', i94cit='297.0', i94res='297.0', i94port='LOS', arrdate='20572.0', i94mode='1.0', i94addr='CA', depdate='20581.0', i94bir='25.0', i94visa='2.0', count='1.0', dtadfile='20160428', visapost='DOH', occup=None, entdepa='G', entdepd='O', entdepu=None, matflag='M', biryear='1991.0', dtaddto='10272016', gender='M', insnum=None, airline='QR', admnum='94789696030.0', fltno='00739', visatype='B2'),\n",
       " Row(_c0='3032257', cicid='985523.0', i94yr='2016.0', i94mon='4.0', i94cit='111.0', i94res='111.0', i94port='CHM', arrdate='20550.0', i94mode='3.0', i94addr='NY', depdate='20553.0', i94bir='19.0', i94visa='2.0', count='1.0', dtadfile='20160406', visapost=None, occup=None, entdepa='Z', entdepd='K', entdepu=None, matflag='M', biryear='1997.0', dtaddto='07042016', gender='F', insnum=None, airline=None, admnum='42322572633.0', fltno='LAND', visatype='WT')]"
      ]
     },
     "execution_count": 15,
     "metadata": {},
     "output_type": "execute_result"
    }
   ],
   "source": [
    "df_immigration.head(5)"
   ]
  },
  {
   "cell_type": "code",
   "execution_count": 16,
   "metadata": {
    "editable": true
   },
   "outputs": [],
   "source": [
    "def print_null_nan_values(df):\n",
    "    df.select([F.count(F.when(F.isnan(c) |  F.col(c).isNull(), c)).alias(c) for c in df.columns if \"date\" not in c]).show()"
   ]
  },
  {
   "cell_type": "code",
   "execution_count": 17,
   "metadata": {
    "editable": true
   },
   "outputs": [],
   "source": [
    "def print_null_values_date(df):\n",
    "    df.select([F.count(F.when( F.col(c).isNull(), c)).alias(c) for c in df.columns if \"date\" in c]).show()"
   ]
  },
  {
   "cell_type": "code",
   "execution_count": 18,
   "metadata": {
    "editable": true
   },
   "outputs": [
    {
     "name": "stdout",
     "output_type": "stream",
     "text": [
      "+---+-----+-----+------+------+------+-------+-------+-------+------+-------+-----+--------+--------+-----+-------+-------+-------+-------+-------+-------+------+------+-------+------+-----+--------+\n",
      "|_c0|cicid|i94yr|i94mon|i94cit|i94res|i94port|i94mode|i94addr|i94bir|i94visa|count|dtadfile|visapost|occup|entdepa|entdepd|entdepu|matflag|biryear|dtaddto|gender|insnum|airline|admnum|fltno|visatype|\n",
      "+---+-----+-----+------+------+------+-------+-------+-------+------+-------+-----+--------+--------+-----+-------+-------+-------+-------+-------+-------+------+------+-------+------+-----+--------+\n",
      "|  0|    0|    0|     0|     0|     0|      0|      0|     59|     0|      0|    0|       0|     618|  996|      0|     46|   1000|     46|      0|      0|   141|   965|     33|     0|    8|       0|\n",
      "+---+-----+-----+------+------+------+-------+-------+-------+------+-------+-----+--------+--------+-----+-------+-------+-------+-------+-------+-------+------+------+-------+------+-----+--------+\n",
      "\n"
     ]
    }
   ],
   "source": [
    "print_null_nan_values(df_immigration)"
   ]
  },
  {
   "cell_type": "code",
   "execution_count": 19,
   "metadata": {
    "editable": true
   },
   "outputs": [
    {
     "name": "stdout",
     "output_type": "stream",
     "text": [
      "+-------+-------+\n",
      "|arrdate|depdate|\n",
      "+-------+-------+\n",
      "|      0|     49|\n",
      "+-------+-------+\n",
      "\n"
     ]
    }
   ],
   "source": [
    "print_null_values_date(df_immigration)"
   ]
  },
  {
   "cell_type": "code",
   "execution_count": 20,
   "metadata": {
    "editable": true
   },
   "outputs": [
    {
     "data": {
      "text/plain": [
       "[Row(_c0='1339656', cicid='2711583.0', i94yr='2016.0', i94mon='4.0', i94cit='148.0', i94res='112.0', i94port='FTL', arrdate='20559.0', i94mode='2.0', i94addr=None, depdate='20565.0', i94bir='54.0', i94visa='2.0', count='1.0', dtadfile='20160415', visapost=None, occup=None, entdepa='G', entdepd='O', entdepu=None, matflag='M', biryear='1962.0', dtaddto='07132016', gender='F', insnum=None, airline='VES', admnum='56175860733.0', fltno='93724', visatype='WT'),\n",
       " Row(_c0='2938436', cicid='5960799.0', i94yr='2016.0', i94mon='4.0', i94cit='245.0', i94res='245.0', i94port='SAI', arrdate='20545.0', i94mode='1.0', i94addr=None, depdate='20550.0', i94bir='30.0', i94visa='2.0', count='1.0', dtadfile='20160615', visapost=None, occup=None, entdepa='P', entdepd='D', entdepu=None, matflag='M', biryear='1986.0', dtaddto='04132016', gender='M', insnum='3882', airline='MU', admnum='44162582033.0', fltno='00763', visatype='CP'),\n",
       " Row(_c0='1808498', cicid='3669540.0', i94yr='2016.0', i94mon='4.0', i94cit='129.0', i94res='585.0', i94port='BAL', arrdate='20564.0', i94mode='1.0', i94addr=None, depdate='20576.0', i94bir='22.0', i94visa='2.0', count='1.0', dtadfile='20160420', visapost=None, occup=None, entdepa='G', entdepd='O', entdepu=None, matflag='M', biryear='1994.0', dtaddto='07182016', gender='M', insnum=None, airline='WN', admnum='56486704133.0', fltno='00812', visatype='WT'),\n",
       " Row(_c0='426957', cicid='861557.0', i94yr='2016.0', i94mon='4.0', i94cit='209.0', i94res='209.0', i94port='SDP', arrdate='20549.0', i94mode='1.0', i94addr=None, depdate='20552.0', i94bir='46.0', i94visa='2.0', count='1.0', dtadfile='20160405', visapost=None, occup=None, entdepa='G', entdepd='I', entdepu=None, matflag='M', biryear='1970.0', dtaddto='07032016', gender='M', insnum=None, airline='JL', admnum='55663229533.0', fltno='00066', visatype='WT'),\n",
       " Row(_c0='2951108', cicid='5973747.0', i94yr='2016.0', i94mon='4.0', i94cit='252.0', i94res='209.0', i94port='SAI', arrdate='20552.0', i94mode='1.0', i94addr=None, depdate='20554.0', i94bir='65.0', i94visa='2.0', count='1.0', dtadfile='20160615', visapost=None, occup=None, entdepa='A', entdepd='D', entdepu=None, matflag='M', biryear='1951.0', dtaddto='05222016', gender='M', insnum='3971', airline='DL', admnum='47291108533.0', fltno='00298', visatype='GMT')]"
      ]
     },
     "execution_count": 20,
     "metadata": {},
     "output_type": "execute_result"
    }
   ],
   "source": [
    "df_immigration.filter( F.col(\"i94addr\").isNull()).head(5)"
   ]
  },
  {
   "cell_type": "markdown",
   "metadata": {
    "editable": true
   },
   "source": [
    "Read the data dictionary to understand the data"
   ]
  },
  {
   "cell_type": "code",
   "execution_count": 21,
   "metadata": {
    "editable": true
   },
   "outputs": [],
   "source": [
    "with open(DATA_RAW_IMMIGRATION_SAS_DATA_DICT) as f:\n",
    "    immigration_labels = f.read()"
   ]
  },
  {
   "cell_type": "code",
   "execution_count": 22,
   "metadata": {
    "editable": true,
    "toggleable": true,
    "ulab": {
     "buttons": {
      "ulab-button-toggle-0ed71af8": {
       "style": "primary"
      }
     }
    }
   },
   "outputs": [
    {
     "data": {
      "text/plain": [
       "\"libname library 'Your file location' ;\\nproc format library=library ;\\n\\n/* I94YR - 4 digit year */\\n\\n/* I94MON - Numeric month */\\n\\n/* I94CIT & I94RES - This format shows all the valid and invalid codes for processing */\\n  value i94cntyl\\n   582 =  'MEXICO Air Sea, and Not Reported (I-94, no land arrivals)'\\n   236 =  'AFGHANISTAN'\\n   101 =  'ALBANIA'\\n   316 =  'ALGERIA'\\n   102 =  'ANDORRA'\\n   324 =  'ANGOLA'\\n   529 =  'ANGUILLA'\\n   518 =  'ANTIGUA-BARBUDA'\\n   687 =  'ARGENTINA '\\n   151 =  'ARMENIA'\\n   532 =  'ARUBA'\\n   438 =  'AUSTRALIA'\\n   103 =  'AUSTRIA'\\n   152 =  'AZERBAIJAN'\\n   512 =  'BAHAMAS'\\n   298 =  'BAHRAIN'\\n   274 =  'BANGLADESH'\\n   513 =  'BARBADOS'\\n   104 =  'BELGIUM'\\n   581 =  'BELIZE'\\n   386 =  'BENIN'\\n   509 =  'BERMUDA'\\n   153 =  'BELARUS'\\n   242 =  'BHUTAN'\\n   688 =  'BOLIVIA'\\n   717 =  'BONAIRE, ST EUSTATIUS, SABA' \\n   164 =  'BOSNIA-HERZEGOVINA'\\n   336 =  'BOTSWANA'\\n   689 =  'BRAZIL'\\n   525 =  'BRITISH VIRGIN ISLANDS'\\n   217 =  'BRUNEI'\\n   105 =  'BULGARIA'\\n   393 =  'BURKINA FASO'\\n   243 =  'BURMA'\\n   375 =  'BURUNDI'\\n   310 =  'CAMEROON'\\n   326 =  'CAPE VERDE'\\n   526 =  'CAYMAN ISLANDS'\\n   383 =  'CENTRAL AFRICAN REPUBLIC'\\n   384 =  'CHAD'\\n   690 =  'CHILE'\\n   245 =  'CHINA, PRC'\\n   721 =  'CURACAO' \\n   270 =  'CHRISTMAS ISLAND'\\n   271 =  'COCOS ISLANDS'\\n   691 =  'COLOMBIA'\\n   317 =  'COMOROS'\\n   385 =  'CONGO'\\n   467 =  'COOK ISLANDS'\\n   575 =  'COSTA RICA'\\n   165 =  'CROATIA'\\n   584 =  'CUBA'\\n   218 =  'CYPRUS'\\n   140 =  'CZECH REPUBLIC'\\n   723 =  'FAROE ISLANDS (PART OF DENMARK)'  \\n   108 =  'DENMARK'\\n   322 =  'DJIBOUTI'\\n   519 =  'DOMINICA'\\n   585 =  'DOMINICAN REPUBLIC'\\n   240 =  'EAST TIMOR'\\n   692 =  'ECUADOR'\\n   368 =  'EGYPT'\\n   576 =  'EL SALVADOR'\\n   399 =  'EQUATORIAL GUINEA'\\n   372 =  'ERITREA'\\n   109 =  'ESTONIA'\\n   369 =  'ETHIOPIA'\\n   604 =  'FALKLAND ISLANDS'\\n   413 =  'FIJI'\\n   110 =  'FINLAND'\\n   111 =  'FRANCE'\\n   601 =  'FRENCH GUIANA'\\n   411 =  'FRENCH POLYNESIA'\\n   387 =  'GABON'\\n   338 =  'GAMBIA'\\n   758 =  'GAZA STRIP' \\n   154 =  'GEORGIA'\\n   112 =  'GERMANY'\\n   339 =  'GHANA'\\n   143 =  'GIBRALTAR'\\n   113 =  'GREECE'\\n   520 =  'GRENADA'\\n   507 =  'GUADELOUPE'\\n   577 =  'GUATEMALA'\\n   382 =  'GUINEA'\\n   327 =  'GUINEA-BISSAU'\\n   603 =  'GUYANA'\\n   586 =  'HAITI'\\n   726 =  'HEARD AND MCDONALD IS.'\\n   149 =  'HOLY SEE/VATICAN'\\n   528 =  'HONDURAS'\\n   206 =  'HONG KONG'\\n   114 =  'HUNGARY'\\n   115 =  'ICELAND'\\n   213 =  'INDIA'\\n   759 =  'INDIAN OCEAN AREAS (FRENCH)' \\n   729 =  'INDIAN OCEAN TERRITORY' \\n   204 =  'INDONESIA'\\n   249 =  'IRAN'\\n   250 =  'IRAQ'\\n   116 =  'IRELAND'\\n   251 =  'ISRAEL'\\n   117 =  'ITALY'\\n   388 =  'IVORY COAST'\\n   514 =  'JAMAICA'\\n   209 =  'JAPAN'\\n   253 =  'JORDAN'\\n   201 =  'KAMPUCHEA'\\n   155 =  'KAZAKHSTAN'\\n   340 =  'KENYA'\\n   414 =  'KIRIBATI'\\n   732 =  'KOSOVO' \\n   272 =  'KUWAIT'\\n   156 =  'KYRGYZSTAN'\\n   203 =  'LAOS'\\n   118 =  'LATVIA'\\n   255 =  'LEBANON'\\n   335 =  'LESOTHO'\\n   370 =  'LIBERIA'\\n   381 =  'LIBYA'\\n   119 =  'LIECHTENSTEIN'\\n   120 =  'LITHUANIA'\\n   121 =  'LUXEMBOURG'\\n   214 =  'MACAU'\\n   167 =  'MACEDONIA'\\n   320 =  'MADAGASCAR'\\n   345 =  'MALAWI'\\n   273 =  'MALAYSIA'\\n   220 =  'MALDIVES'\\n   392 =  'MALI'\\n   145 =  'MALTA'\\n   472 =  'MARSHALL ISLANDS'\\n   511 =  'MARTINIQUE'\\n   389 =  'MAURITANIA'\\n   342 =  'MAURITIUS'\\n   760 =  'MAYOTTE (AFRICA - FRENCH)' \\n   473 =  'MICRONESIA, FED. STATES OF'\\n   157 =  'MOLDOVA'\\n   122 =  'MONACO'\\n   299 =  'MONGOLIA'\\n   735 =  'MONTENEGRO' \\n   521 =  'MONTSERRAT'\\n   332 =  'MOROCCO'\\n   329 =  'MOZAMBIQUE'\\n   371 =  'NAMIBIA'\\n   440 =  'NAURU'\\n   257 =  'NEPAL'\\n   123 =  'NETHERLANDS'\\n   508 =  'NETHERLANDS ANTILLES'\\n   409 =  'NEW CALEDONIA'\\n   464 =  'NEW ZEALAND'\\n   579 =  'NICARAGUA'\\n   390 =  'NIGER'\\n   343 =  'NIGERIA'\\n   470 =  'NIUE'\\n   275 =  'NORTH KOREA'\\n   124 =  'NORWAY'\\n   256 =  'OMAN'\\n   258 =  'PAKISTAN'\\n   474 =  'PALAU'\\n   743 =  'PALESTINE' \\n   504 =  'PANAMA'\\n   441 =  'PAPUA NEW GUINEA'\\n   693 =  'PARAGUAY'\\n   694 =  'PERU'\\n   260 =  'PHILIPPINES'\\n   416 =  'PITCAIRN ISLANDS'\\n   107 =  'POLAND'\\n   126 =  'PORTUGAL'\\n   297 =  'QATAR'\\n   748 =  'REPUBLIC OF SOUTH SUDAN'\\n   321 =  'REUNION'\\n   127 =  'ROMANIA'\\n   158 =  'RUSSIA'\\n   376 =  'RWANDA'\\n   128 =  'SAN MARINO'\\n   330 =  'SAO TOME AND PRINCIPE'\\n   261 =  'SAUDI ARABIA'\\n   391 =  'SENEGAL'\\n   142 =  'SERBIA AND MONTENEGRO'\\n   745 =  'SERBIA' \\n   347 =  'SEYCHELLES'\\n   348 =  'SIERRA LEONE'\\n   207 =  'SINGAPORE'\\n   141 =  'SLOVAKIA'\\n   166 =  'SLOVENIA'\\n   412 =  'SOLOMON ISLANDS'\\n   397 =  'SOMALIA'\\n   373 =  'SOUTH AFRICA'\\n   276 =  'SOUTH KOREA'\\n   129 =  'SPAIN'\\n   244 =  'SRI LANKA'\\n   346 =  'ST. HELENA'\\n   522 =  'ST. KITTS-NEVIS'\\n   523 =  'ST. LUCIA'\\n   502 =  'ST. PIERRE AND MIQUELON'\\n   524 =  'ST. VINCENT-GRENADINES'\\n   716 =  'SAINT BARTHELEMY' \\n   736 =  'SAINT MARTIN' \\n   749 =  'SAINT MAARTEN' \\n   350 =  'SUDAN'\\n   602 =  'SURINAME'\\n   351 =  'SWAZILAND'\\n   130 =  'SWEDEN'\\n   131 =  'SWITZERLAND'\\n   262 =  'SYRIA'\\n   268 =  'TAIWAN'\\n   159 =  'TAJIKISTAN'\\n   353 =  'TANZANIA'\\n   263 =  'THAILAND'\\n   304 =  'TOGO'\\n   417 =  'TONGA'\\n   516 =  'TRINIDAD AND TOBAGO'\\n   323 =  'TUNISIA'\\n   264 =  'TURKEY'\\n   161 =  'TURKMENISTAN'\\n   527 =  'TURKS AND CAICOS ISLANDS'\\n   420 =  'TUVALU'\\n   352 =  'UGANDA'\\n   162 =  'UKRAINE'\\n   296 =  'UNITED ARAB EMIRATES'\\n   135 =  'UNITED KINGDOM'\\n   695 =  'URUGUAY'\\n   163 =  'UZBEKISTAN'\\n   410 =  'VANUATU'\\n   696 =  'VENEZUELA'\\n   266 =  'VIETNAM'\\n   469 =  'WALLIS AND FUTUNA ISLANDS'\\n   757 =  'WEST INDIES (FRENCH)' \\n   333 =  'WESTERN SAHARA'\\n   465 =  'WESTERN SAMOA'\\n   216 =  'YEMEN'\\n   139 =  'YUGOSLAVIA'\\n   301 =  'ZAIRE'\\n   344 =  'ZAMBIA'\\n   315 =  'ZIMBABWE'\\n   403 =  'INVALID: AMERICAN SAMOA'\\n   712 =  'INVALID: ANTARCTICA' \\n   700 =  'INVALID: BORN ON BOARD SHIP'\\n   719 =  'INVALID: BOUVET ISLAND (ANTARCTICA/NORWAY TERR.)'\\n   574 =  'INVALID: CANADA'\\n   720 =  'INVALID: CANTON AND ENDERBURY ISLS' \\n   106 =  'INVALID: CZECHOSLOVAKIA'\\n   739 =  'INVALID: DRONNING MAUD LAND (ANTARCTICA-NORWAY)' \\n   394 =  'INVALID: FRENCH SOUTHERN AND ANTARCTIC'\\n   501 =  'INVALID: GREENLAND'\\n   404 =  'INVALID: GUAM'\\n   730 =  'INVALID: INTERNATIONAL WATERS' \\n   731 =  'INVALID: JOHNSON ISLAND' \\n   471 =  'INVALID: MARIANA ISLANDS, NORTHERN'\\n   737 =  'INVALID: MIDWAY ISLANDS' \\n   753 =  'INVALID: MINOR OUTLYING ISLANDS - USA'\\n   740 =  'INVALID: NEUTRAL ZONE (S. ARABIA/IRAQ)' \\n   710 =  'INVALID: NON-QUOTA IMMIGRANT'\\n   505 =  'INVALID: PUERTO RICO'\\n    0  =  'INVALID: STATELESS'\\n   705 =  'INVALID: STATELESS'\\n   583 =  'INVALID: UNITED STATES'\\n   407 =  'INVALID: UNITED STATES'\\n   999 =  'INVALID: UNKNOWN'\\n   239 =  'INVALID: UNKNOWN COUNTRY'\\n   134 =  'INVALID: USSR'\\n   506 =  'INVALID: U.S. VIRGIN ISLANDS'\\n   755 =  'INVALID: WAKE ISLAND'  \\n   311 =  'Collapsed Tanzania (should not show)'\\n   741 =  'Collapsed Curacao (should not show)'\\n    54 =  'No Country Code (54)'\\n   100 =  'No Country Code (100)'\\n   187 =  'No Country Code (187)'\\n   190 =  'No Country Code (190)'\\n   200 =  'No Country Code (200)'\\n   219 =  'No Country Code (219)'\\n   238 =  'No Country Code (238)'\\n   277 =  'No Country Code (277)'\\n   293 =  'No Country Code (293)'\\n   300 =  'No Country Code (300)'\\n   319 =  'No Country Code (319)'\\n   365 =  'No Country Code (365)'\\n   395 =  'No Country Code (395)'\\n   400 =  'No Country Code (400)'\\n   485 =  'No Country Code (485)'\\n   503 =  'No Country Code (503)'\\n   589 =  'No Country Code (589)'\\n   592 =  'No Country Code (592)'\\n   791 =  'No Country Code (791)'\\n   849 =  'No Country Code (849)'\\n   914 =  'No Country Code (914)'\\n   944 =  'No Country Code (944)'\\n   996 =  'No Country Code (996)' ;\\n\\n\\n/* I94PORT - This format shows all the valid and invalid codes for processing */\\n  value $i94prtl\\n   'ALC'\\t=\\t'ALCAN, AK             '\\n   'ANC'\\t=\\t'ANCHORAGE, AK         '\\n   'BAR'\\t=\\t'BAKER AAF - BAKER ISLAND, AK'\\n   'DAC'\\t=\\t'DALTONS CACHE, AK     '\\n   'PIZ'\\t=\\t'DEW STATION PT LAY DEW, AK'\\n   'DTH'\\t=\\t'DUTCH HARBOR, AK      '\\n   'EGL'\\t=\\t'EAGLE, AK             '\\n   'FRB'\\t=\\t'FAIRBANKS, AK         '\\n   'HOM'\\t=\\t'HOMER, AK             '           \\n   'HYD'\\t=\\t'HYDER, AK             '\\n   'JUN'\\t=\\t'JUNEAU, AK            '\\n   '5KE'\\t=\\t'KETCHIKAN, AK'\\n   'KET'\\t=\\t'KETCHIKAN, AK         '\\n   'MOS'\\t=\\t'MOSES POINT INTERMEDIATE, AK'\\n   'NIK'\\t=\\t'NIKISKI, AK           '\\n   'NOM'\\t=\\t'NOM, AK               '\\n   'PKC'\\t=\\t'POKER CREEK, AK       '\\n   'ORI'\\t=\\t'PORT LIONS SPB, AK'\\n   'SKA'\\t=\\t'SKAGWAY, AK           '\\n   'SNP'\\t=\\t'ST. PAUL ISLAND, AK'\\n   'TKI'\\t=\\t'TOKEEN, AK'\\n   'WRA'\\t=\\t'WRANGELL, AK          '\\n   'HSV'\\t=\\t'MADISON COUNTY - HUNTSVILLE, AL'\\n   'MOB'\\t=\\t'MOBILE, AL            '\\n   'LIA'\\t=\\t'LITTLE ROCK, AR (BPS)'\\n   'ROG'\\t=\\t'ROGERS ARPT, AR'\\n   'DOU'\\t=\\t'DOUGLAS, AZ           '\\n   'LUK'\\t=\\t'LUKEVILLE, AZ         '\\n   'MAP'\\t=\\t'MARIPOSA AZ           '\\n   'NAC'\\t=\\t'NACO, AZ              '\\n   'NOG'\\t=\\t'NOGALES, AZ           '\\n   'PHO'\\t=\\t'PHOENIX, AZ           '\\n   'POR'\\t=\\t'PORTAL, AZ'\\n   'SLU'\\t=\\t'SAN LUIS, AZ          '\\n   'SAS'\\t=\\t'SASABE, AZ            '\\n   'TUC'\\t=\\t'TUCSON, AZ            '\\n   'YUI'\\t=\\t'YUMA, AZ              ' \\n   'AND'\\t=\\t'ANDRADE, CA           '\\n   'BUR'\\t=\\t'BURBANK, CA'\\n   'CAL'\\t=\\t'CALEXICO, CA          '\\n   'CAO'\\t=\\t'CAMPO, CA             ' \\n   'FRE'\\t=\\t'FRESNO, CA            '\\n   'ICP'\\t=\\t'IMPERIAL COUNTY, CA   '\\n   'LNB'\\t=\\t'LONG BEACH, CA         '\\n   'LOS'\\t=\\t'LOS ANGELES, CA       '\\n   'BFL'\\t=\\t'MEADOWS FIELD - BAKERSFIELD, CA'\\n   'OAK'\\t=\\t'OAKLAND, CA ' \\n   'ONT'\\t=\\t'ONTARIO, CA'\\n   'OTM'\\t=\\t'OTAY MESA, CA          '\\n   'BLT'\\t=\\t'PACIFIC, HWY. STATION, CA '\\n   'PSP'\\t=\\t'PALM SPRINGS, CA'\\n   'SAC'\\t=\\t'SACRAMENTO, CA        '\\n   'SLS'\\t=\\t'SALINAS, CA (BPS)'\\n   'SDP'\\t=\\t'SAN DIEGO, CA'\\n   'SFR'\\t=\\t'SAN FRANCISCO, CA     '\\n   'SNJ'\\t=\\t'SAN JOSE, CA          '\\n   'SLO'\\t=\\t'SAN LUIS OBISPO, CA   '\\n   'SLI'\\t=\\t'SAN LUIS OBISPO, CA (BPS)'\\n   'SPC'\\t=\\t'SAN PEDRO, CA         '\\n   'SYS'\\t=\\t'SAN YSIDRO, CA        '\\n   'SAA'\\t=\\t'SANTA ANA, CA         '\\n   'STO'\\t=\\t'STOCKTON, CA (BPS)'\\n   'TEC'\\t=\\t'TECATE, CA            '\\n   'TRV'\\t=\\t'TRAVIS-AFB, CA        '\\n   'APA'\\t=\\t'ARAPAHOE COUNTY, CO'\\n   'ASE'\\t=\\t'ASPEN, CO #ARPT'\\n   'COS'\\t=\\t'COLORADO SPRINGS, CO'\\n   'DEN'\\t=\\t'DENVER, CO            '\\n   'DRO'\\t=\\t'LA PLATA - DURANGO, CO'\\n   'BDL'\\t=\\t'BRADLEY INTERNATIONAL, CT'\\n   'BGC'\\t=\\t'BRIDGEPORT, CT        '\\n   'GRT'\\t=\\t'GROTON, CT            '\\n   'HAR'\\t=\\t'HARTFORD, CT          '\\n   'NWH'\\t=\\t'NEW HAVEN, CT         '\\n   'NWL'\\t=\\t'NEW LONDON, CT        '\\n   'TST'\\t=\\t'NEWINGTON DATA CENTER TEST, CT'\\n   'WAS'\\t=\\t'WASHINGTON DC         '\\n   'DOV'\\t=\\t'DOVER AFB, DE'\\n   'DVD'\\t=\\t'DOVER-AFB, DE         '\\n   'WLL'\\t=\\t'WILMINGTON, DE        '\\n   'BOC'\\t=\\t'BOCAGRANDE, FL        '\\n   'SRQ'\\t=\\t'BRADENTON - SARASOTA, FL'\\n   'CAN'\\t=\\t'CAPE CANAVERAL, FL    '\\n   'DAB'\\t=\\t'DAYTONA BEACH INTERNATIONAL, FL'\\n   'FRN'\\t=\\t'FERNANDINA, FL        '\\n   'FTL'\\t=\\t'FORT LAUDERDALE, FL   '\\n   'FMY'\\t=\\t'FORT MYERS, FL        '\\n   'FPF'\\t=\\t'FORT PIERCE, FL       '\\n   'HUR'\\t=\\t'HURLBURT FIELD, FL'\\n   'GNV'\\t=\\t'J R ALISON MUNI - GAINESVILLE, FL'\\n   'JAC'\\t=\\t'JACKSONVILLE, FL      '\\n   'KEY'\\t=\\t'KEY WEST, FL          '\\n   'LEE'\\t=\\t'LEESBURG MUNICIPAL AIRPORT, FL'\\n   'MLB'\\t=\\t'MELBOURNE, FL'\\n   'MIA'\\t=\\t'MIAMI, FL             '\\n   'APF'\\t=\\t'NAPLES, FL #ARPT'\\n   'OPF'\\t=\\t'OPA LOCKA, FL'\\n   'ORL'\\t=\\t'ORLANDO, FL           '\\n   'PAN'\\t=\\t'PANAMA CITY, FL       '\\n   'PEN'\\t=\\t'PENSACOLA, FL         '\\n   'PCF'\\t=\\t'PORT CANAVERAL, FL    '\\n   'PEV'\\t=\\t'PORT EVERGLADES, FL   '\\n   'PSJ'\\t=\\t'PORT ST JOE, FL       '\\n   'SFB'\\t=\\t'SANFORD, FL           '\\n   'SGJ'\\t=\\t'ST AUGUSTINE ARPT, FL'\\n   'SAU'\\t=\\t'ST AUGUSTINE, FL      '\\n   'FPR'\\t=\\t'ST LUCIE COUNTY, FL'\\n   'SPE'\\t=\\t'ST PETERSBURG, FL     '\\n   'TAM'\\t=\\t'TAMPA, FL             '\\n   'WPB'\\t=\\t'WEST PALM BEACH, FL   '\\n   'ATL'\\t=\\t'ATLANTA, GA           '\\n   'BRU'\\t=\\t'BRUNSWICK, GA         '\\n   'AGS'\\t=\\t'BUSH FIELD - AUGUSTA, GA'\\n   'SAV'\\t=\\t'SAVANNAH, GA          '\\n   'AGA'\\t=\\t'AGANA, GU             '\\n   'HHW'\\t=\\t'HONOLULU, HI          '\\n   'OGG'\\t=\\t'KAHULUI - MAUI, HI'\\n   'KOA'\\t=\\t'KEAHOLE-KONA, HI      '\\n   'LIH'\\t=\\t'LIHUE, HI             '\\n   'CID'\\t=\\t'CEDAR RAPIDS/IOWA CITY, IA'\\n   'DSM'\\t=\\t'DES MOINES, IA'\\n   'BOI'\\t=\\t'AIR TERM. (GOWEN FLD) BOISE, ID'\\n   'EPI'\\t=\\t'EASTPORT, ID          '\\n   'IDA'\\t=\\t'FANNING FIELD - IDAHO FALLS, ID'\\n   'PTL'\\t=\\t'PORTHILL, ID          '\\n   'SPI'\\t=\\t'CAPITAL - SPRINGFIELD, IL'\\n   'CHI'\\t=\\t'CHICAGO, IL           '\\n   'DPA'\\t=\\t'DUPAGE COUNTY, IL'\\n   'PIA'\\t=\\t'GREATER PEORIA, IL'\\n   'RFD'\\t=\\t'GREATER ROCKFORD, IL'\\n   'UGN'\\t=\\t'MEMORIAL - WAUKEGAN, IL'\\n   'GAR'\\t=\\t'GARY, IN              '\\n   'HMM'\\t=\\t'HAMMOND, IN           '\\n   'INP'\\t=\\t'INDIANAPOLIS, IN      '\\n   'MRL'\\t=\\t'MERRILLVILLE, IN      '\\n   'SBN'\\t=\\t'SOUTH BEND, IN'\\n   'ICT'\\t=\\t'MID-CONTINENT - WITCHITA, KS'\\n   'LEX'\\t=\\t'BLUE GRASS - LEXINGTON, KY'\\n   'LOU'\\t=\\t'LOUISVILLE, KY        '\\n   'BTN'\\t=\\t'BATON ROUGE, LA       '\\n   'LKC'\\t=\\t'LAKE CHARLES, LA      '\\n   'LAK'\\t=\\t'LAKE CHARLES, LA (BPS)'\\n   'MLU'\\t=\\t'MONROE, LA'\\n   'MGC'\\t=\\t'MORGAN CITY, LA       '\\n   'NOL'\\t=\\t'NEW ORLEANS, LA       '\\n   'BOS'\\t=\\t'BOSTON, MA            '\\n   'GLO'\\t=\\t'GLOUCESTER, MA        '\\n   'BED'\\t=\\t'HANSCOM FIELD - BEDFORD, MA'\\n   'LYN'\\t=\\t'LYNDEN, WA            '\\n   'ADW'\\t=\\t'ANDREWS AFB, MD'\\n   'BAL'\\t=\\t'BALTIMORE, MD         '\\n   'MKG'\\t=\\t'MUSKEGON, MD'\\n   'PAX'\\t=\\t'PATUXENT RIVER, MD    '\\n   'BGM'\\t=\\t'BANGOR, ME            '\\n   'BOO'\\t=\\t'BOOTHBAY HARBOR, ME   '\\n   'BWM'\\t=\\t'BRIDGEWATER, ME       '\\n   'BCK'\\t=\\t'BUCKPORT, ME          '\\n   'CLS'\\t=\\t'CALAIS, ME   '\\n   'CRB'\\t=\\t'CARIBOU, ME           '\\n   'COB'\\t=\\t'COBURN GORE, ME       '\\n   'EST'\\t=\\t'EASTCOURT, ME         '\\n   'EPT'\\t=\\t'EASTPORT MUNICIPAL, ME'\\n   'EPM'\\t=\\t'EASTPORT, ME          '\\n   'FOR'\\t=\\t'FOREST CITY, ME       '\\n   'FTF'\\t=\\t'FORT FAIRFIELD, ME    '\\n   'FTK'\\t=\\t'FORT KENT, ME         '\\n   'HML'\\t=\\t'HAMIIN, ME            '\\n   'HTM'\\t=\\t'HOULTON, ME           '\\n   'JKM'\\t=\\t'JACKMAN, ME           '\\n   'KAL'\\t=\\t'KALISPEL, MT          '\\n   'LIM'\\t=\\t'LIMESTONE, ME         '\\n   'LUB'\\t=\\t'LUBEC, ME             '\\n   'MAD'\\t=\\t'MADAWASKA, ME         '\\n   'POM'\\t=\\t'PORTLAND, ME          '\\n   'RGM'\\t=\\t'RANGELEY, ME (BPS)'\\n   'SBR'\\t=\\t'SOUTH BREWER, ME      '\\n   'SRL'\\t=\\t'ST AURELIE, ME        '\\n   'SPA'\\t=\\t'ST PAMPILE, ME        '\\n   'VNB'\\t=\\t'VAN BUREN, ME         '\\n   'VCB'\\t=\\t'VANCEBORO, ME         '\\n   'AGN'\\t=\\t'ALGONAC, MI           '\\n   'ALP'\\t=\\t'ALPENA, MI            '\\n   'BCY'\\t=\\t'BAY CITY, MI          '\\n   'DET'\\t=\\t'DETROIT, MI           '\\n   'GRP'\\t=\\t'GRAND RAPIDS, MI'\\n   'GRO'\\t=\\t'GROSSE ISLE, MI       '\\n   'ISL'\\t=\\t'ISLE ROYALE, MI       '\\n   'MRC'\\t=\\t'MARINE CITY, MI       '\\n   'MRY'\\t=\\t'MARYSVILLE, MI        '\\n   'PTK'\\t=\\t'OAKLAND COUNTY - PONTIAC, MI'\\n   'PHU'\\t=\\t'PORT HURON, MI        '\\n   'RBT'\\t=\\t'ROBERTS LANDING, MI   '\\n   'SAG'\\t=\\t'SAGINAW, MI           '\\n   'SSM'\\t=\\t'SAULT STE. MARIE, MI  '\\n   'SCL'\\t=\\t'ST CLAIR, MI          '\\n   'YIP'\\t=\\t'WILLOW RUN - YPSILANTI, MI'\\n   'BAU'\\t=\\t'BAUDETTE, MN          '\\n   'CAR'\\t=\\t'CARIBOU MUNICIPAL AIRPORT, MN'\\n   'GTF'\\t=\\t'Collapsed into INT, MN'\\n   'INL'\\t=\\t'Collapsed into INT, MN'\\n   'CRA'\\t=\\t'CRANE LAKE, MN        '\\n   'MIC'\\t=\\t'CRYSTAL MUNICIPAL AIRPORT, MN'\\n   'DUL'\\t=\\t'DULUTH, MN            '\\n   'ELY'\\t=\\t'ELY, MN               '\\n   'GPM'\\t=\\t'GRAND PORTAGE, MN     '\\n   'SVC'\\t=\\t'GRANT COUNTY - SILVER CITY, MN'\\n   'INT'\\t=\\t'INT''L FALLS, MN      '\\n   'LAN'\\t=\\t'LANCASTER, MN         '\\n   'MSP'\\t=\\t'MINN./ST PAUL, MN     '\\n   'LIN'\\t=\\t'NORTHERN SVC CENTER, MN   '\\n   'NOY'\\t=\\t'NOYES, MN             '\\n   'PIN'\\t=\\t'PINE CREEK, MN        '\\n   '48Y'\\t=\\t'PINECREEK BORDER ARPT, MN'\\n   'RAN'\\t=\\t'RAINER, MN            '\\n   'RST'\\t=\\t'ROCHESTER, MN'\\n   'ROS'\\t=\\t'ROSEAU, MN            '\\n   'SPM'\\t=\\t'ST PAUL, MN           '\\n   'WSB'\\t=\\t'WARROAD INTL, SPB, MN'\\n   'WAR'\\t=\\t'WARROAD, MN           '\\n   'KAN'\\t=\\t'KANSAS CITY, MO       '\\n   'SGF'\\t=\\t'SPRINGFIELD-BRANSON, MO'\\n   'STL'\\t=\\t'ST LOUIS, MO          '\\n   'WHI'\\t=\\t'WHITETAIL, MT         '\\n   'WHM'\\t=\\t'WILD HORSE, MT        '\\n   'GPT'\\t=\\t'BILOXI REGIONAL, MS'\\n   'GTR'\\t=\\t'GOLDEN TRIANGLE LOWNDES CNTY, MS'\\n   'GUL'\\t=\\t'GULFPORT, MS          '\\n   'PAS'\\t=\\t'PASCAGOULA, MS        '\\n   'JAN'\\t=\\t'THOMPSON FIELD - JACKSON, MS'\\n   'BIL'\\t=\\t'BILLINGS, MT          '\\n   'BTM'\\t=\\t'BUTTE, MT             '\\n   'CHF'\\t=\\t'CHIEF MT, MT          '\\n   'CTB'\\t=\\t'CUT BANK MUNICIPAL, MT'\\n   'CUT'\\t=\\t'CUT BANK, MT          '\\n   'DLB'\\t=\\t'DEL BONITA, MT        '\\n   'EUR'\\t=\\t'EUREKA, MT (BPS)'\\n   'BZN'\\t=\\t'GALLATIN FIELD - BOZEMAN, MT'\\n   'FCA'\\t=\\t'GLACIER NATIONAL PARK, MT'\\n   'GGW'\\t=\\t'GLASGOW, MT           '\\n   'GRE'\\t=\\t'GREAT FALLS, MT       '\\n   'HVR'\\t=\\t'HAVRE, MT             '\\n   'HEL'\\t=\\t'HELENA, MT            '\\n   'LWT'\\t=\\t'LEWISTON, MT          '\\n   'MGM'\\t=\\t'MORGAN, MT            '\\n   'OPH'\\t=\\t'OPHEIM, MT            '\\n   'PIE'\\t=\\t'PIEGAN, MT            '\\n   'RAY'\\t=\\t'RAYMOND, MT           '\\n   'ROO'\\t=\\t'ROOSVILLE, MT         '\\n   'SCO'\\t=\\t'SCOBEY, MT            '\\n   'SWE'\\t=\\t'SWEETGTASS, MT        '\\n   'TRL'\\t=\\t'TRIAL CREEK, MT       '\\n   'TUR'\\t=\\t'TURNER, MT            '\\n   'WCM'\\t=\\t'WILLOW CREEK, MT      '\\n   'CLT'\\t=\\t'CHARLOTTE, NC         '\\n   'FAY'\\t=\\t'FAYETTEVILLE, NC'\\n   'MRH'\\t=\\t'MOREHEAD CITY, NC     '\\n   'FOP'\\t=\\t'MORRIS FIELDS AAF, NC'\\n   'GSO'\\t=\\t'PIEDMONT TRIAD INTL AIRPORT, NC'\\n   'RDU'\\t=\\t'RALEIGH/DURHAM, NC    '\\n   'SSC'\\t=\\t'SHAW AFB - SUMTER, NC'\\n   'WIL'\\t=\\t'WILMINGTON, NC        '\\n   'AMB'\\t=\\t'AMBROSE, ND           '\\n   'ANT'\\t=\\t'ANTLER, ND            '\\n   'CRY'\\t=\\t'CARBURY, ND           '\\n   'DNS'\\t=\\t'DUNSEITH, ND          '\\n   'FAR'\\t=\\t'FARGO, ND             '\\n   'FRT'\\t=\\t'FORTUNA, ND           '\\n   'GRF'\\t=\\t'GRAND FORKS, ND       '\\n   'HNN'\\t=\\t'HANNAH, ND            '\\n   'HNS'\\t=\\t'HANSBORO, ND          '\\n   'MAI'\\t=\\t'MAIDA, ND             '\\n   'MND'\\t=\\t'MINOT, ND             '\\n   'NEC'\\t=\\t'NECHE, ND             '\\n   'NOO'\\t=\\t'NOONAN, ND            '\\n   'NRG'\\t=\\t'NORTHGATE, ND         '\\n   'PEM'\\t=\\t'PEMBINA, ND           '\\n   'SAR'\\t=\\t'SARLES, ND            '\\n   'SHR'\\t=\\t'SHERWOOD, ND          '\\n   'SJO'\\t=\\t'ST JOHN, ND           '\\n   'WAL'\\t=\\t'WALHALLA, ND          '\\n   'WHO'\\t=\\t'WESTHOPE, ND          '\\n   'WND'\\t=\\t'WILLISTON, ND         '\\n   'OMA'\\t=\\t'OMAHA, NE             '\\n   'LEB'\\t=\\t'LEBANON, NH           '\\n   'MHT'\\t=\\t'MANCHESTER, NH'\\n   'PNH'\\t=\\t'PITTSBURG, NH         '\\n   'PSM'\\t=\\t'PORTSMOUTH, NH        '\\n   'BYO'\\t=\\t'BAYONNE, NJ           '\\n   'CNJ'\\t=\\t'CAMDEN, NJ            '\\n   'HOB'\\t=\\t'HOBOKEN, NJ           '\\n   'JER'\\t=\\t'JERSEY CITY, NJ       '\\n   'WRI'\\t=\\t'MC GUIRE AFB - WRIGHTSOWN, NJ'\\n   'MMU'\\t=\\t'MORRISTOWN, NJ'\\n   'NEW'\\t=\\t'NEWARK/TETERBORO, NJ  '\\n   'PER'\\t=\\t'PERTH AMBOY, NJ       '\\n   'ACY'\\t=\\t'POMONA FIELD - ATLANTIC CITY, NJ'\\n   'ALA'\\t=\\t'ALAMAGORDO, NM (BPS)'\\n   'ABQ'\\t=\\t'ALBUQUERQUE, NM       '\\n   'ANP'\\t=\\t'ANTELOPE WELLS, NM    '\\n   'CRL'\\t=\\t'CARLSBAD, NM          '\\n   'COL'\\t=\\t'COLUMBUS, NM          '\\n   'CDD'\\t=\\t'CRANE LAKE - ST. LOUIS CNTY, NM'\\n   'DNM'\\t=\\t'DEMING, NM (BPS)'\\n   'LAS'\\t=\\t'LAS CRUCES, NM        '\\n   'LOB'\\t=\\t'LORDSBURG, NM (BPS)'\\n   'RUI'\\t=\\t'RUIDOSO, NM'\\n   'STR'\\t=\\t'SANTA TERESA, NM      '\\n   'RNO'\\t=\\t'CANNON INTL - RENO/TAHOE, NV'\\n   'FLX'\\t=\\t'FALLON MUNICIPAL AIRPORT, NV'\\n   'LVG'\\t=\\t'LAS VEGAS, NV         '\\n   'REN'\\t=\\t'RENO, NV              '\\n   'ALB'\\t=\\t'ALBANY, NY            '\\n   'AXB'\\t=\\t'ALEXANDRIA BAY, NY    '\\n   'BUF'\\t=\\t'BUFFALO, NY           '\\n   'CNH'\\t=\\t'CANNON CORNERS, NY'\\n   'CAP'\\t=\\t'CAPE VINCENT, NY      '\\n   'CHM'\\t=\\t'CHAMPLAIN, NY         '\\n   'CHT'\\t=\\t'CHATEAUGAY, NY        '\\n   'CLA'\\t=\\t'CLAYTON, NY           '\\n   'FTC'\\t=\\t'FORT COVINGTON, NY    '\\n   'LAG'\\t=\\t'LA GUARDIA, NY        '\\n   'LEW'\\t=\\t'LEWISTON, NY          '\\n   'MAS'\\t=\\t'MASSENA, NY           '\\n   'MAG'\\t=\\t'MCGUIRE AFB, NY       '\\n   'MOO'\\t=\\t'MOORES, NY            '\\n   'MRR'\\t=\\t'MORRISTOWN, NY        '\\n   'NYC'\\t=\\t'NEW YORK, NY          '\\n   'NIA'\\t=\\t'NIAGARA FALLS, NY     '\\n   'OGD'\\t=\\t'OGDENSBURG, NY        '\\n   'OSW'\\t=\\t'OSWEGO, NY            '\\n   'ELM'\\t=\\t'REGIONAL ARPT - HORSEHEAD, NY'\\n   'ROC'\\t=\\t'ROCHESTER, NY         '\\n   'ROU'\\t=\\t'ROUSES POINT, NY      '\\n   'SWF'\\t=\\t'STEWART - ORANGE CNTY, NY'\\n   'SYR'\\t=\\t'SYRACUSE, NY          '\\n   'THO'\\t=\\t'THOUSAND ISLAND BRIDGE, NY'\\n   'TRO'\\t=\\t'TROUT RIVER, NY       '\\n   'WAT'\\t=\\t'WATERTOWN, NY         '\\n   'HPN'\\t=\\t'WESTCHESTER - WHITE PLAINS, NY'\\n   'WRB'\\t=\\t'WHIRLPOOL BRIDGE, NY'\\n   'YOU'\\t=\\t'YOUNGSTOWN, NY        '\\n   'AKR'\\t=\\t'AKRON, OH             '\\n   'ATB'\\t=\\t'ASHTABULA, OH         '\\n   'CIN'\\t=\\t'CINCINNATI, OH        '\\n   'CLE'\\t=\\t'CLEVELAND, OH         '\\n   'CLM'\\t=\\t'COLUMBUS, OH          '\\n   'LOR'\\t=\\t'LORAIN, OH            '\\n   'MBO'\\t=\\t'MARBLE HEADS, OH      '\\n   'SDY'\\t=\\t'SANDUSKY, OH          '\\n   'TOL'\\t=\\t'TOLEDO, OH            '\\n   'OKC'\\t=\\t'OKLAHOMA CITY, OK     '\\n   'TUL'\\t=\\t'TULSA, OK'\\n   'AST'\\t=\\t'ASTORIA, OR           '\\n   'COO'\\t=\\t'COOS BAY, OR          '\\n   'HIO'\\t=\\t'HILLSBORO, OR'\\n   'MED'\\t=\\t'MEDFORD, OR           '\\n   'NPT'\\t=\\t'NEWPORT, OR           '\\n   'POO'\\t=\\t'PORTLAND, OR          '\\n   'PUT'\\t=\\t'PUT-IN-BAY, OH        '\\n   'RDM'\\t=\\t'ROBERTS FIELDS - REDMOND, OR'\\n   'ERI'\\t=\\t'ERIE, PA              '\\n   'MDT'\\t=\\t'HARRISBURG, PA'\\n   'HSB'\\t=\\t'HARRISONBURG, PA      '\\n   'PHI'\\t=\\t'PHILADELPHIA, PA      '\\n   'PIT'\\t=\\t'PITTSBURG, PA         '\\n   'AGU'\\t=\\t'AGUADILLA, PR         '\\n   'BQN'\\t=\\t'BORINQUEN - AGUADILLO, PR'\\n   'JCP'\\t=\\t'CULEBRA - BENJAMIN RIVERA, PR'\\n   'ENS'\\t=\\t'ENSENADA, PR          '\\n   'FAJ'\\t=\\t'FAJARDO, PR           '\\n   'HUM'\\t=\\t'HUMACAO, PR           '\\n   'JOB'\\t=\\t'JOBOS, PR             '\\n   'MAY'\\t=\\t'MAYAGUEZ, PR          '\\n   'PON'\\t=\\t'PONCE, PR             '\\n   'PSE'\\t=\\t'PONCE-MERCEDITA, PR'\\n   'SAJ'\\t=\\t'SAN JUAN, PR          '\\n   'VQS'\\t=\\t'VIEQUES-ARPT, PR'\\n   'PRO'\\t=\\t'PROVIDENCE, RI        '\\n   'PVD'\\t=\\t'THEODORE FRANCIS - WARWICK, RI'\\n   'CHL'\\t=\\t'CHARLESTON, SC        '\\n   'CAE'\\t=\\t'COLUMBIA, SC #ARPT'\\n   'GEO'\\t=\\t'GEORGETOWN, SC        '\\n   'GSP'\\t=\\t'GREENVILLE, SC'\\n   'GRR'\\t=\\t'GREER, SC'\\n   'MYR'\\t=\\t'MYRTLE BEACH, SC'\\n   'SPF'\\t=\\t'BLACK HILLS, SPEARFISH, SD'\\n   'HON'\\t=\\t'HOWES REGIONAL ARPT - HURON, SD'\\n   'SAI'\\t=\\t'SAIPAN, SPN           '\\n   'TYS'\\t=\\t'MC GHEE TYSON - ALCOA, TN'\\n   'MEM'\\t=\\t'MEMPHIS, TN           '\\n   'NSV'\\t=\\t'NASHVILLE, TN         '\\n   'TRI'\\t=\\t'TRI CITY ARPT, TN'\\n   'ADS'\\t=\\t'ADDISON AIRPORT- ADDISON, TX'\\n   'ADT'\\t=\\t'AMISTAD DAM, TX       '\\n   'ANZ'\\t=\\t'ANZALDUAS, TX'\\n   'AUS'\\t=\\t'AUSTIN, TX            '\\n   'BEA'\\t=\\t'BEAUMONT, TX          '\\n   'BBP'\\t=\\t'BIG BEND PARK, TX (BPS)'\\n   'SCC'\\t=\\t'BP SPEC COORD. CTR, TX'\\n   'BTC'\\t=\\t'BP TACTICAL UNIT, TX  ' \\n   'BOA'\\t=\\t'BRIDGE OF AMERICAS, TX'\\n   'BRO'\\t=\\t'BROWNSVILLE, TX       '\\n   'CRP'\\t=\\t'CORPUS CHRISTI, TX    '\\n   'DAL'\\t=\\t'DALLAS, TX            '\\n   'DLR'\\t=\\t'DEL RIO, TX           '\\n   'DNA'\\t=\\t'DONNA, TX'\\n   'EGP'\\t=\\t'EAGLE PASS, TX        '\\n   'ELP'\\t=\\t'EL PASO, TX           '\\n   'FAB'\\t=\\t'FABENS, TX            '\\n   'FAL'\\t=\\t'FALCON HEIGHTS, TX    '\\n   'FTH'\\t=\\t'FORT HANCOCK, TX      '\\n   'AFW'\\t=\\t'FORT WORTH ALLIANCE, TX'\\n   'FPT'\\t=\\t'FREEPORT, TX          '\\n   'GAL'\\t=\\t'GALVESTON, TX         '\\n   'HLG'\\t=\\t'HARLINGEN, TX         '\\n   'HID'\\t=\\t'HIDALGO, TX           '\\n   'HOU'\\t=\\t'HOUSTON, TX           '\\n   'SGR'\\t=\\t'HULL FIELD, SUGAR LAND ARPT, TX'\\n   'LLB'\\t=\\t'JUAREZ-LINCOLN BRIDGE, TX'\\n   'LCB'\\t=\\t'LAREDO COLUMBIA BRIDGE, TX'\\n   'LRN'\\t=\\t'LAREDO NORTH, TX      '\\n   'LAR'\\t=\\t'LAREDO, TX            '\\n   'LSE'\\t=\\t'LOS EBANOS, TX        '\\n   'IND'\\t=\\t'LOS INDIOS, TX'\\n   'LOI'\\t=\\t'LOS INDIOS, TX        '\\n   'MRS'\\t=\\t'MARFA, TX (BPS)'\\n   'MCA'\\t=\\t'MCALLEN, TX           '\\n   'MAF'\\t=\\t'ODESSA REGIONAL, TX'\\n   'PDN'\\t=\\t'PASO DEL NORTE,TX     '\\n   'PBB'\\t=\\t'PEACE BRIDGE, NY      '\\n   'PHR'\\t=\\t'PHARR, TX             '\\n   'PAR'\\t=\\t'PORT ARTHUR, TX       '\\n   'ISB'\\t=\\t'PORT ISABEL, TX       '\\n   'POE'\\t=\\t'PORT OF EL PASO, TX   '\\n   'PRE'\\t=\\t'PRESIDIO, TX          '\\n   'PGR'\\t=\\t'PROGRESO, TX          '\\n   'RIO'\\t=\\t'RIO GRANDE CITY, TX   '\\n   'ROM'\\t=\\t'ROMA, TX              '\\n   'SNA'\\t=\\t'SAN ANTONIO, TX       '\\n   'SNN'\\t=\\t'SANDERSON, TX         '\\n   'VIB'\\t=\\t'VETERAN INTL BRIDGE, TX'\\n   'YSL'\\t=\\t'YSLETA, TX            '\\n   'CHA'\\t=\\t'CHARLOTTE AMALIE, VI  '\\n   'CHR'\\t=\\t'CHRISTIANSTED, VI     '\\n   'CRU'\\t=\\t'CRUZ BAY, ST JOHN, VI '\\n   'FRK'\\t=\\t'FREDERIKSTED, VI      '\\n   'STT'\\t=\\t'ST THOMAS, VI         '\\n   'LGU'\\t=\\t'CACHE AIRPORT - LOGAN, UT'\\n   'SLC'\\t=\\t'SALT LAKE CITY, UT    '\\n   'CHO'\\t=\\t'ALBEMARLE CHARLOTTESVILLE, VA'\\n   'DAA'\\t=\\t'DAVISON AAF - FAIRFAX CNTY, VA'\\n   'HOP'\\t=\\t'HOPEWELL, VA          '\\n   'HEF'\\t=\\t'MANASSAS, VA #ARPT'\\n   'NWN'\\t=\\t'NEWPORT, VA           '\\n   'NOR'\\t=\\t'NORFOLK, VA           '\\n   'RCM'\\t=\\t'RICHMOND, VA          '\\n   'ABS'\\t=\\t'ALBURG SPRINGS, VT    '\\n   'ABG'\\t=\\t'ALBURG, VT            '\\n   'BEB'\\t=\\t'BEEBE PLAIN, VT       '\\n   'BEE'\\t=\\t'BEECHER FALLS, VT     '\\n   'BRG'\\t=\\t'BURLINGTON, VT        '\\n   'CNA'\\t=\\t'CANAAN, VT            '\\n   'DER'\\t=\\t'DERBY LINE, VT (I-91) '\\n   'DLV'\\t=\\t'DERBY LINE, VT (RT. 5)'\\n   'ERC'\\t=\\t'EAST RICHFORD, VT     '\\n   'HIG'\\t=\\t'HIGHGATE SPRINGS, VT  '\\n   'MOR'\\t=\\t'MORSES LINE, VT       '\\n   'NPV'\\t=\\t'NEWPORT, VT           '\\n   'NRT'\\t=\\t'NORTH TROY, VT        '\\n   'NRN'\\t=\\t'NORTON, VT            '\\n   'PIV'\\t=\\t'PINNACLE ROAD, VT     '\\n   'RIF'\\t=\\t'RICHFORT, VT          '\\n   'STA'\\t=\\t'ST ALBANS, VT         '\\n   'SWB'\\t=\\t'SWANTON, VT (BP - SECTOR HQ)'\\n   'WBE'\\t=\\t'WEST BERKSHIRE, VT    '\\n   'ABE'\\t=\\t'ABERDEEN, WA          '\\n   'ANA'\\t=\\t'ANACORTES, WA         '\\n   'BEL'\\t=\\t'BELLINGHAM, WA        '\\n   'BLI'\\t=\\t'BELLINGHAM, WASHINGTON #INTL'\\n   'BLA'\\t=\\t'BLAINE, WA            '\\n   'BWA'\\t=\\t'BOUNDARY, WA          '\\n   'CUR'\\t=\\t'CURLEW, WA (BPS)'\\n   'DVL'\\t=\\t'DANVILLE, WA          '\\n   'EVE'\\t=\\t'EVERETT, WA           '\\n   'FER'\\t=\\t'FERRY, WA             '\\n   'FRI'\\t=\\t'FRIDAY HARBOR, WA     '\\n   'FWA'\\t=\\t'FRONTIER, WA          '\\n   'KLM'\\t=\\t'KALAMA, WA            '\\n   'LAU'\\t=\\t'LAURIER, WA           '\\n   'LON'\\t=\\t'LONGVIEW, WA          '\\n   'MET'\\t=\\t'METALINE FALLS, WA    '\\n   'MWH'\\t=\\t'MOSES LAKE GRANT COUNTY ARPT, WA'\\n   'NEA'\\t=\\t'NEAH BAY, WA          '\\n   'NIG'\\t=\\t'NIGHTHAWK, WA         '\\n   'OLY'\\t=\\t'OLYMPIA, WA           '\\n   'ORO'\\t=\\t'OROVILLE, WA          '\\n   'PWB'\\t=\\t'PASCO, WA             '\\n   'PIR'\\t=\\t'POINT ROBERTS, WA     '\\n   'PNG'\\t=\\t'PORT ANGELES, WA      '\\n   'PTO'\\t=\\t'PORT TOWNSEND, WA     '\\n   'SEA'\\t=\\t'SEATTLE, WA           '\\n   'SPO'\\t=\\t'SPOKANE, WA           '\\n   'SUM'\\t=\\t'SUMAS, WA             '\\n   'TAC'\\t=\\t'TACOMA, WA            '\\n   'PSC'\\t=\\t'TRI-CITIES - PASCO, WA'\\n   'VAN'\\t=\\t'VANCOUVER, WA         '\\n   'AGM'\\t=\\t'ALGOMA, WI            '\\n   'BAY'\\t=\\t'BAYFIELD, WI          '\\n   'GRB'\\t=\\t'GREEN BAY, WI         '\\n   'MNW'\\t=\\t'MANITOWOC, WI         '\\n   'MIL'\\t=\\t'MILWAUKEE, WI         '\\n   'MSN'\\t=\\t'TRUAX FIELD - DANE COUNTY, WI'\\n   'CHS'\\t=\\t'CHARLESTON, WV        '\\n   'CLK'\\t=\\t'CLARKSBURG, WV        '\\n   'BLF'\\t=\\t'MERCER COUNTY, WV'\\n   'CSP'\\t=\\t'CASPER, WY            '\\n   'XXX'\\t=\\t'NOT REPORTED/UNKNOWN  ' \\n   '888'\\t=\\t'UNIDENTIFED AIR / SEAPORT'\\n   'UNK'\\t=\\t'UNKNOWN POE           '\\n   'CLG'\\t=\\t'CALGARY, CANADA       '\\n   'EDA'\\t=\\t'EDMONTON, CANADA      '\\n   'YHC'\\t=\\t'HAKAI PASS, CANADA'\\n   'HAL'\\t=\\t'Halifax, NS, Canada   '\\n   'MON'\\t=\\t'MONTREAL, CANADA      '\\n   'OTT'\\t=\\t'OTTAWA, CANADA        '\\n   'YXE'\\t=\\t'SASKATOON, CANADA'\\n   'TOR'\\t=\\t'TORONTO, CANADA       '\\n   'VCV'\\t=\\t'VANCOUVER, CANADA     '\\n   'VIC'\\t=\\t'VICTORIA, CANADA      '\\n   'WIN'\\t=\\t'WINNIPEG, CANADA      '\\n   'AMS'\\t=\\t'AMSTERDAM-SCHIPHOL, NETHERLANDS'\\n   'ARB'\\t=\\t'ARUBA, NETH ANTILLES  '\\n   'BAN'\\t=\\t'BANKOK, THAILAND      '\\n   'BEI'\\t=\\t'BEICA #ARPT, ETHIOPIA'\\n   'PEK'\\t=\\t'BEIJING CAPITAL INTL, PRC'\\n   'BDA'\\t=\\t'KINDLEY FIELD, BERMUDA'\\n   'BOG'\\t=\\t'BOGOTA, EL DORADO #ARPT, COLOMBIA'\\n   'EZE'\\t=\\t'BUENOS AIRES, MINISTRO PIST, ARGENTINA'\\n   'CUN'\\t=\\t'CANCUN, MEXICO'\\n   'CRQ'\\t=\\t'CARAVELAS, BA #ARPT, BRAZIL'\\n   'MVD'\\t=\\t'CARRASCO, URUGUAY'\\n   'DUB'\\t=\\t'DUBLIN, IRELAND       '\\n   'FOU'\\t=\\t'FOUGAMOU #ARPT, GABON'\\n   'FBA'\\t=\\t'FREEPORT, BAHAMAS      '\\n   'MTY'\\t=\\t'GEN M. ESCOBEDO, Monterrey, MX'\\n   'HMO'\\t=\\t'GEN PESQUEIRA GARCIA, MX'\\n   'GCM'\\t=\\t'GRAND CAYMAN, CAYMAN ISLAND'\\n   'GDL'\\t=\\t'GUADALAJARA, MIGUEL HIDAL, MX'\\n   'HAM'\\t=\\t'HAMILTON, BERMUDA     '\\n   'ICN'\\t=\\t'INCHON, SEOUL KOREA'\\n   'IWA'\\t=\\t'INVALID - IWAKUNI, JAPAN'\\n   'CND'\\t=\\t'KOGALNICEANU, ROMANIA'\\n   'LAH'\\t=\\t'LABUHA ARPT, INDONESIA'\\n   'DUR'\\t=\\t'LOUIS BOTHA, SOUTH AFRICA'\\n   'MAL'\\t=\\t'MANGOLE ARPT, INDONESIA'\\n   'MDE'\\t=\\t'MEDELLIN, COLOMBIA'\\n   'MEX'\\t=\\t'JUAREZ INTL, MEXICO CITY, MX'\\n   'LHR'\\t=\\t'MIDDLESEX, ENGLAND'\\n   'NBO'\\t=\\t'NAIROBI, KENYA        '\\n   'NAS'\\t=\\t'NASSAU, BAHAMAS       '\\n   'NCA'\\t=\\t'NORTH CAICOS, TURK & CAIMAN'\\n   'PTY'\\t=\\t'OMAR TORRIJOS, PANAMA'\\n   'SPV'\\t=\\t'PAPUA, NEW GUINEA'\\n   'UIO'\\t=\\t'QUITO (MARISCAL SUCR), ECUADOR'\\n   'RIT'\\t=\\t'ROME, ITALY           '\\n   'SNO'\\t=\\t'SAKON NAKHON #ARPT, THAILAND'\\n   'SLP'\\t=\\t'SAN LUIS POTOSI #ARPT, MEXICO'\\n   'SAN'\\t=\\t'SAN SALVADOR, EL SALVADOR'\\n   'SRO'\\t=\\t'SANTANA RAMOS #ARPT, COLOMBIA'\\n   'GRU'\\t=\\t'GUARULHOS INTL, SAO PAULO, BRAZIL'\\n   'SHA'\\t=\\t'SHANNON, IRELAND      '\\n   'HIL'\\t=\\t'SHILLAVO, ETHIOPIA'\\n   'TOK'\\t=\\t'TOROKINA #ARPT, PAPUA, NEW GUINEA'\\n   'VER'\\t=\\t'VERACRUZ, MEXICO'\\n   'LGW'\\t=\\t'WEST SUSSEX, ENGLAND  '\\n   'ZZZ'\\t=\\t'MEXICO Land (Banco de Mexico) '\\n   'CHN'\\t=\\t'No PORT Code (CHN)'\\n   'CNC'\\t=\\t'CANNON CORNERS, NY'\\n   'MAA'\\t=\\t'Abu Dhabi'\\n   'AG0'\\t=\\t'MAGNOLIA, AR'\\n   'BHM'\\t=\\t'BAR HARBOR, ME'\\n   'BHX'\\t=\\t'BIRMINGHAM, AL'\\n   'CAK'\\t=\\t'AKRON, OH'\\n   'FOK'\\t=\\t'SUFFOLK COUNTY, NY'\\n   'LND'\\t=\\t'LANDER, WY'\\n   'MAR'\\t=\\t'MARFA, TX'\\n   'MLI'\\t=\\t'MOLINE, IL'\\n   'RIV'\\t=\\t'RIVERSIDE, CA'\\n   'RME'\\t=\\t'ROME, NY'\\n   'VNY'\\t=\\t'VAN NUYS, CA'\\n   'YUM'\\t=\\t'YUMA, AZ'\\n   'FRG'\\t=\\t'Collapsed (FOK) 06/15'\\n   'HRL'\\t=\\t'Collapsed (HLG) 06/15'\\n   'ISP'\\t=\\t'Collapsed (FOK) 06/15'\\n   'JSJ'\\t=\\t'Collapsed (SAJ) 06/15'\\n   'BUS'\\t=\\t'Collapsed (BUF) 06/15'\\n   'IAG'\\t=\\t'Collapsed (NIA) 06/15'\\n   'PHN'\\t=\\t'Collapsed (PHU) 06/15'\\n   'STN'\\t=\\t'Collapsed (STR) 06/15'\\n   'VMB'\\t=\\t'Collapsed (VNB) 06/15'\\n   'T01'\\t=\\t'Collapsed (SEA) 06/15'\\n   'PHF'\\t=\\t'No PORT Code (PHF)'\\n   'DRV'\\t=\\t'No PORT Code (DRV)'\\n   'FTB'\\t=\\t'No PORT Code (FTB)'\\n   'GAC'\\t=\\t'No PORT Code (GAC)'\\n   'GMT'\\t=\\t'No PORT Code (GMT)'\\n   'JFA'\\t=\\t'No PORT Code (JFA)'\\n   'JMZ'\\t=\\t'No PORT Code (JMZ)'\\n   'NC8'\\t=\\t'No PORT Code (NC8)'\\n   'NYL'\\t=\\t'No PORT Code (NYL)'\\n   'OAI'\\t=\\t'No PORT Code (OAI)'\\n   'PCW'\\t=\\t'No PORT Code (PCW)'\\n   'WA5'\\t=\\t'No PORT Code (WAS)'\\n   'WTR'\\t=\\t'No PORT Code (WTR)'\\n   'X96'\\t=\\t'No PORT Code (X96)'\\n   'XNA'\\t=\\t'No PORT Code (XNA)'\\n   'YGF'\\t=\\t'No PORT Code (YGF)'\\n   '5T6'\\t=\\t'No PORT Code (5T6)'\\n   '060'\\t=\\t'No PORT Code (60)'\\n   'SP0'\\t=\\t'No PORT Code (SP0)'\\n   'W55'\\t=\\t'No PORT Code (W55)'\\n   'X44'\\t=\\t'No PORT Code (X44)'\\n   'AUH'\\t=\\t'No PORT Code (AUH)'\\n   'RYY'\\t=\\t'No PORT Code (RYY)'\\n   'SUS'\\t=\\t'No PORT Code (SUS)'\\n   '74S'\\t=\\t'No PORT Code (74S)'\\n   'ATW'\\t=\\t'No PORT Code (ATW)'\\n   'CPX'\\t=\\t'No PORT Code (CPX)'\\n   'MTH'\\t=\\t'No PORT Code (MTH)'\\n   'PFN'\\t=\\t'No PORT Code (PFN)'\\n   'SCH'\\t=\\t'No PORT Code (SCH)'\\n   'ASI'\\t=\\t'No PORT Code (ASI)'\\n   'BKF'\\t=\\t'No PORT Code (BKF)'\\n   'DAY'\\t=\\t'No PORT Code (DAY)'\\n   'Y62'\\t=\\t'No PORT Code (Y62)'\\n   'AG'\\t\\t=\\t'No PORT Code (AG)'\\n   'BCM'\\t=\\t'No PORT Code (BCM)'\\n   'DEC'\\t=\\t'No PORT Code (DEC)'\\n   'PLB'\\t=\\t'No PORT Code (PLB)'\\n   'CXO'\\t=\\t'No PORT Code (CXO)'\\n   'JBQ'\\t=\\t'No PORT Code (JBQ)'\\n   'JIG'\\t=\\t'No PORT Code (JIG)'\\n   'OGS'\\t=\\t'No PORT Code (OGS)'\\n   'TIW'\\t=\\t'No PORT Code (TIW)'\\n   'OTS'\\t=\\t'No PORT Code (OTS)'\\n   'AMT'\\t=\\t'No PORT Code (AMT)'\\n   'EGE'\\t=\\t'No PORT Code (EGE)'\\n   'GPI'\\t=\\t'No PORT Code (GPI)'\\n   'NGL'\\t=\\t'No PORT Code (NGL)'\\n   'OLM'\\t=\\t'No PORT Code (OLM)'\\n   '.GA'\\t=\\t'No PORT Code (.GA)'\\n   'CLX'\\t=\\t'No PORT Code (CLX)'\\n   'CP '\\t=\\t'No PORT Code (CP)'\\n   'FSC'\\t=\\t'No PORT Code (FSC)'\\n   'NK' \\t=\\t'No PORT Code (NK)'\\n   'ADU' \\t=\\t'No PORT Code (ADU)'\\n   'AKT' \\t=\\t'No PORT Code (AKT)'\\n   'LIT' \\t=\\t'No PORT Code (LIT)'\\n   'A2A' \\t=\\t'No PORT Code (A2A)'\\n   'OSN' \\t=\\t'No PORT Code (OSN)'\\n;\\n\\n\\n/* ARRDATE is the Arrival Date in the USA. It is a SAS date numeric field that a \\n   permament format has not been applied.  Please apply whichever date format \\n   works for you. */\\n\\n\\n/* I94MODE - There are missing values as well as not reported (9) */\\nvalue i94model\\n\\t1 = 'Air'\\n\\t2 = 'Sea'\\n\\t3 = 'Land'\\n\\t9 = 'Not reported' ;\\n\\t\\n\\n/* I94ADDR - There is lots of invalid codes in this variable and the list below \\n   shows what we have found to be valid, everything else goes into 'other' */\\nvalue i94addrl\\n\\t'AL'='ALABAMA'\\n\\t'AK'='ALASKA'\\n\\t'AZ'='ARIZONA'\\n\\t'AR'='ARKANSAS'\\n\\t'CA'='CALIFORNIA'\\n\\t'CO'='COLORADO'\\n\\t'CT'='CONNECTICUT'\\n\\t'DE'='DELAWARE'\\n\\t'DC'='DIST. OF COLUMBIA'\\n\\t'FL'='FLORIDA'\\n\\t'GA'='GEORGIA'\\n\\t'GU'='GUAM'\\n\\t'HI'='HAWAII'\\n\\t'ID'='IDAHO'\\n\\t'IL'='ILLINOIS'\\n\\t'IN'='INDIANA'\\n\\t'IA'='IOWA'\\n\\t'KS'='KANSAS'\\n\\t'KY'='KENTUCKY'\\n\\t'LA'='LOUISIANA'\\n\\t'ME'='MAINE'\\n\\t'MD'='MARYLAND'\\n\\t'MA'='MASSACHUSETTS'\\n\\t'MI'='MICHIGAN'\\n\\t'MN'='MINNESOTA'\\n\\t'MS'='MISSISSIPPI'\\n\\t'MO'='MISSOURI'\\n\\t'MT'='MONTANA'\\n\\t'NC'='N. CAROLINA'\\n\\t'ND'='N. DAKOTA'\\n\\t'NE'='NEBRASKA'\\n\\t'NV'='NEVADA'\\n\\t'NH'='NEW HAMPSHIRE'\\n\\t'NJ'='NEW JERSEY'\\n\\t'NM'='NEW MEXICO'\\n\\t'NY'='NEW YORK'\\n\\t'OH'='OHIO'\\n\\t'OK'='OKLAHOMA'\\n\\t'OR'='OREGON'\\n\\t'PA'='PENNSYLVANIA'\\n\\t'PR'='PUERTO RICO'\\n\\t'RI'='RHODE ISLAND'\\n\\t'SC'='S. CAROLINA'\\n\\t'SD'='S. DAKOTA'\\n\\t'TN'='TENNESSEE'\\n\\t'TX'='TEXAS'\\n\\t'UT'='UTAH'\\n\\t'VT'='VERMONT'\\n\\t'VI'='VIRGIN ISLANDS'\\n\\t'VA'='VIRGINIA'\\n\\t'WV'='W. VIRGINIA'\\n\\t'WA'='WASHINGTON'\\n\\t'WI'='WISCONSON'\\n\\t'WY'='WYOMING' \\n\\t'99'='All Other Codes' ;\\n\\n/* DEPDATE is the Departure Date from the USA. It is a SAS date numeric field that \\n   a permament format has not been applied.  Please apply whichever date format \\n   works for you. */\\n\\n\\n/* I94BIR - Age of Respondent in Years */\\n\\n\\n/* I94VISA - Visa codes collapsed into three categories:\\n   1 = Business\\n   2 = Pleasure\\n   3 = Student\\n*/\\n\\n\\n/* COUNT - Used for summary statistics */\\n\\n\\n/* DTADFILE - Character Date Field - Date added to I-94 Files - CIC does not use */\\n\\n\\n/* VISAPOST - Department of State where where Visa was issued - CIC does not use */\\n\\n\\n/* OCCUP - Occupation that will be performed in U.S. - CIC does not use */\\n\\n\\n/* ENTDEPA - Arrival Flag - admitted or paroled into the U.S. - CIC does not use */\\n\\n\\n/* ENTDEPD - Departure Flag - Departed, lost I-94 or is deceased - CIC does not use */\\n\\n\\n/* ENTDEPU - Update Flag - Either apprehended, overstayed, adjusted to perm residence - CIC does not use */\\n\\n\\n/* MATFLAG - Match flag - Match of arrival and departure records */\\n\\n\\n/* BIRYEAR - 4 digit year of birth */\\n\\n\\n/* DTADDTO - Character Date Field - Date to which admitted to U.S. (allowed to stay until) - CIC does not use */\\n\\n\\n/* GENDER - Non-immigrant sex */\\n\\n\\n/* INSNUM - INS number */\\n\\n\\n/* AIRLINE - Airline used to arrive in U.S. */\\n\\n\\n/* ADMNUM - Admission Number */\\n\\n\\n/* FLTNO - Flight number of Airline used to arrive in U.S. */\\n\\n\\n/* VISATYPE - Class of admission legally admitting the non-immigrant to temporarily stay in U.S. */\\nrun ;\\n\\n\""
      ]
     },
     "execution_count": 22,
     "metadata": {},
     "output_type": "execute_result"
    }
   ],
   "source": [
    "immigration_labels"
   ]
  },
  {
   "cell_type": "markdown",
   "metadata": {
    "editable": true
   },
   "source": [
    "**World Temperature**"
   ]
  },
  {
   "cell_type": "code",
   "execution_count": 23,
   "metadata": {
    "editable": true
   },
   "outputs": [
    {
     "data": {
      "text/html": [
       "<div>\n",
       "<style scoped>\n",
       "    .dataframe tbody tr th:only-of-type {\n",
       "        vertical-align: middle;\n",
       "    }\n",
       "\n",
       "    .dataframe tbody tr th {\n",
       "        vertical-align: top;\n",
       "    }\n",
       "\n",
       "    .dataframe thead th {\n",
       "        text-align: right;\n",
       "    }\n",
       "</style>\n",
       "<table border=\"1\" class=\"dataframe\">\n",
       "  <thead>\n",
       "    <tr style=\"text-align: right;\">\n",
       "      <th></th>\n",
       "      <th>dt</th>\n",
       "      <th>AverageTemperature</th>\n",
       "      <th>AverageTemperatureUncertainty</th>\n",
       "      <th>City</th>\n",
       "      <th>Country</th>\n",
       "      <th>Latitude</th>\n",
       "      <th>Longitude</th>\n",
       "    </tr>\n",
       "  </thead>\n",
       "  <tbody>\n",
       "    <tr>\n",
       "      <th>0</th>\n",
       "      <td>1743-11-01</td>\n",
       "      <td>6.068</td>\n",
       "      <td>1.737</td>\n",
       "      <td>Århus</td>\n",
       "      <td>Denmark</td>\n",
       "      <td>57.05N</td>\n",
       "      <td>10.33E</td>\n",
       "    </tr>\n",
       "    <tr>\n",
       "      <th>1</th>\n",
       "      <td>1743-12-01</td>\n",
       "      <td>NaN</td>\n",
       "      <td>NaN</td>\n",
       "      <td>Århus</td>\n",
       "      <td>Denmark</td>\n",
       "      <td>57.05N</td>\n",
       "      <td>10.33E</td>\n",
       "    </tr>\n",
       "    <tr>\n",
       "      <th>2</th>\n",
       "      <td>1744-01-01</td>\n",
       "      <td>NaN</td>\n",
       "      <td>NaN</td>\n",
       "      <td>Århus</td>\n",
       "      <td>Denmark</td>\n",
       "      <td>57.05N</td>\n",
       "      <td>10.33E</td>\n",
       "    </tr>\n",
       "    <tr>\n",
       "      <th>3</th>\n",
       "      <td>1744-02-01</td>\n",
       "      <td>NaN</td>\n",
       "      <td>NaN</td>\n",
       "      <td>Århus</td>\n",
       "      <td>Denmark</td>\n",
       "      <td>57.05N</td>\n",
       "      <td>10.33E</td>\n",
       "    </tr>\n",
       "    <tr>\n",
       "      <th>4</th>\n",
       "      <td>1744-03-01</td>\n",
       "      <td>NaN</td>\n",
       "      <td>NaN</td>\n",
       "      <td>Århus</td>\n",
       "      <td>Denmark</td>\n",
       "      <td>57.05N</td>\n",
       "      <td>10.33E</td>\n",
       "    </tr>\n",
       "  </tbody>\n",
       "</table>\n",
       "</div>"
      ],
      "text/plain": [
       "           dt  AverageTemperature  AverageTemperatureUncertainty   City  \\\n",
       "0  1743-11-01               6.068                          1.737  Århus   \n",
       "1  1743-12-01                 NaN                            NaN  Århus   \n",
       "2  1744-01-01                 NaN                            NaN  Århus   \n",
       "3  1744-02-01                 NaN                            NaN  Århus   \n",
       "4  1744-03-01                 NaN                            NaN  Århus   \n",
       "\n",
       "   Country Latitude Longitude  \n",
       "0  Denmark   57.05N    10.33E  \n",
       "1  Denmark   57.05N    10.33E  \n",
       "2  Denmark   57.05N    10.33E  \n",
       "3  Denmark   57.05N    10.33E  \n",
       "4  Denmark   57.05N    10.33E  "
      ]
     },
     "execution_count": 23,
     "metadata": {},
     "output_type": "execute_result"
    }
   ],
   "source": [
    "df_temp.head(5)"
   ]
  },
  {
   "cell_type": "code",
   "execution_count": 24,
   "metadata": {
    "editable": true
   },
   "outputs": [
    {
     "data": {
      "text/html": [
       "<div>\n",
       "<style scoped>\n",
       "    .dataframe tbody tr th:only-of-type {\n",
       "        vertical-align: middle;\n",
       "    }\n",
       "\n",
       "    .dataframe tbody tr th {\n",
       "        vertical-align: top;\n",
       "    }\n",
       "\n",
       "    .dataframe thead th {\n",
       "        text-align: right;\n",
       "    }\n",
       "</style>\n",
       "<table border=\"1\" class=\"dataframe\">\n",
       "  <thead>\n",
       "    <tr style=\"text-align: right;\">\n",
       "      <th></th>\n",
       "      <th>dt</th>\n",
       "      <th>AverageTemperature</th>\n",
       "      <th>AverageTemperatureUncertainty</th>\n",
       "      <th>City</th>\n",
       "      <th>Country</th>\n",
       "      <th>Latitude</th>\n",
       "      <th>Longitude</th>\n",
       "    </tr>\n",
       "  </thead>\n",
       "  <tbody>\n",
       "    <tr>\n",
       "      <th>8599207</th>\n",
       "      <td>2013-05-01</td>\n",
       "      <td>11.464</td>\n",
       "      <td>0.236</td>\n",
       "      <td>Zwolle</td>\n",
       "      <td>Netherlands</td>\n",
       "      <td>52.24N</td>\n",
       "      <td>5.26E</td>\n",
       "    </tr>\n",
       "    <tr>\n",
       "      <th>8599208</th>\n",
       "      <td>2013-06-01</td>\n",
       "      <td>15.043</td>\n",
       "      <td>0.261</td>\n",
       "      <td>Zwolle</td>\n",
       "      <td>Netherlands</td>\n",
       "      <td>52.24N</td>\n",
       "      <td>5.26E</td>\n",
       "    </tr>\n",
       "    <tr>\n",
       "      <th>8599209</th>\n",
       "      <td>2013-07-01</td>\n",
       "      <td>18.775</td>\n",
       "      <td>0.193</td>\n",
       "      <td>Zwolle</td>\n",
       "      <td>Netherlands</td>\n",
       "      <td>52.24N</td>\n",
       "      <td>5.26E</td>\n",
       "    </tr>\n",
       "    <tr>\n",
       "      <th>8599210</th>\n",
       "      <td>2013-08-01</td>\n",
       "      <td>18.025</td>\n",
       "      <td>0.298</td>\n",
       "      <td>Zwolle</td>\n",
       "      <td>Netherlands</td>\n",
       "      <td>52.24N</td>\n",
       "      <td>5.26E</td>\n",
       "    </tr>\n",
       "    <tr>\n",
       "      <th>8599211</th>\n",
       "      <td>2013-09-01</td>\n",
       "      <td>NaN</td>\n",
       "      <td>NaN</td>\n",
       "      <td>Zwolle</td>\n",
       "      <td>Netherlands</td>\n",
       "      <td>52.24N</td>\n",
       "      <td>5.26E</td>\n",
       "    </tr>\n",
       "  </tbody>\n",
       "</table>\n",
       "</div>"
      ],
      "text/plain": [
       "                 dt  AverageTemperature  AverageTemperatureUncertainty  \\\n",
       "8599207  2013-05-01              11.464                          0.236   \n",
       "8599208  2013-06-01              15.043                          0.261   \n",
       "8599209  2013-07-01              18.775                          0.193   \n",
       "8599210  2013-08-01              18.025                          0.298   \n",
       "8599211  2013-09-01                 NaN                            NaN   \n",
       "\n",
       "           City      Country Latitude Longitude  \n",
       "8599207  Zwolle  Netherlands   52.24N     5.26E  \n",
       "8599208  Zwolle  Netherlands   52.24N     5.26E  \n",
       "8599209  Zwolle  Netherlands   52.24N     5.26E  \n",
       "8599210  Zwolle  Netherlands   52.24N     5.26E  \n",
       "8599211  Zwolle  Netherlands   52.24N     5.26E  "
      ]
     },
     "execution_count": 24,
     "metadata": {},
     "output_type": "execute_result"
    }
   ],
   "source": [
    "df_temp.tail(5)"
   ]
  },
  {
   "cell_type": "code",
   "execution_count": 25,
   "metadata": {
    "editable": true
   },
   "outputs": [
    {
     "name": "stdout",
     "output_type": "stream",
     "text": [
      "<class 'pandas.core.frame.DataFrame'>\n",
      "RangeIndex: 8599212 entries, 0 to 8599211\n",
      "Data columns (total 7 columns):\n",
      "dt                               object\n",
      "AverageTemperature               float64\n",
      "AverageTemperatureUncertainty    float64\n",
      "City                             object\n",
      "Country                          object\n",
      "Latitude                         object\n",
      "Longitude                        object\n",
      "dtypes: float64(2), object(5)\n",
      "memory usage: 459.2+ MB\n"
     ]
    }
   ],
   "source": [
    "df_temp.info()"
   ]
  },
  {
   "cell_type": "code",
   "execution_count": 26,
   "metadata": {
    "editable": true
   },
   "outputs": [
    {
     "data": {
      "text/html": [
       "<div>\n",
       "<style scoped>\n",
       "    .dataframe tbody tr th:only-of-type {\n",
       "        vertical-align: middle;\n",
       "    }\n",
       "\n",
       "    .dataframe tbody tr th {\n",
       "        vertical-align: top;\n",
       "    }\n",
       "\n",
       "    .dataframe thead th {\n",
       "        text-align: right;\n",
       "    }\n",
       "</style>\n",
       "<table border=\"1\" class=\"dataframe\">\n",
       "  <thead>\n",
       "    <tr style=\"text-align: right;\">\n",
       "      <th></th>\n",
       "      <th>AverageTemperature</th>\n",
       "      <th>AverageTemperatureUncertainty</th>\n",
       "    </tr>\n",
       "  </thead>\n",
       "  <tbody>\n",
       "    <tr>\n",
       "      <th>count</th>\n",
       "      <td>8.235082e+06</td>\n",
       "      <td>8.235082e+06</td>\n",
       "    </tr>\n",
       "    <tr>\n",
       "      <th>mean</th>\n",
       "      <td>1.672743e+01</td>\n",
       "      <td>1.028575e+00</td>\n",
       "    </tr>\n",
       "    <tr>\n",
       "      <th>std</th>\n",
       "      <td>1.035344e+01</td>\n",
       "      <td>1.129733e+00</td>\n",
       "    </tr>\n",
       "    <tr>\n",
       "      <th>min</th>\n",
       "      <td>-4.270400e+01</td>\n",
       "      <td>3.400000e-02</td>\n",
       "    </tr>\n",
       "    <tr>\n",
       "      <th>25%</th>\n",
       "      <td>1.029900e+01</td>\n",
       "      <td>3.370000e-01</td>\n",
       "    </tr>\n",
       "    <tr>\n",
       "      <th>50%</th>\n",
       "      <td>1.883100e+01</td>\n",
       "      <td>5.910000e-01</td>\n",
       "    </tr>\n",
       "    <tr>\n",
       "      <th>75%</th>\n",
       "      <td>2.521000e+01</td>\n",
       "      <td>1.349000e+00</td>\n",
       "    </tr>\n",
       "    <tr>\n",
       "      <th>max</th>\n",
       "      <td>3.965100e+01</td>\n",
       "      <td>1.539600e+01</td>\n",
       "    </tr>\n",
       "  </tbody>\n",
       "</table>\n",
       "</div>"
      ],
      "text/plain": [
       "       AverageTemperature  AverageTemperatureUncertainty\n",
       "count        8.235082e+06                   8.235082e+06\n",
       "mean         1.672743e+01                   1.028575e+00\n",
       "std          1.035344e+01                   1.129733e+00\n",
       "min         -4.270400e+01                   3.400000e-02\n",
       "25%          1.029900e+01                   3.370000e-01\n",
       "50%          1.883100e+01                   5.910000e-01\n",
       "75%          2.521000e+01                   1.349000e+00\n",
       "max          3.965100e+01                   1.539600e+01"
      ]
     },
     "execution_count": 26,
     "metadata": {},
     "output_type": "execute_result"
    }
   ],
   "source": [
    "df_temp.describe()"
   ]
  },
  {
   "cell_type": "code",
   "execution_count": 27,
   "metadata": {
    "editable": true
   },
   "outputs": [
    {
     "data": {
      "text/plain": [
       "687289"
      ]
     },
     "execution_count": 27,
     "metadata": {},
     "output_type": "execute_result"
    }
   ],
   "source": [
    "(df_temp.Country == 'United States').sum()"
   ]
  },
  {
   "cell_type": "code",
   "execution_count": 28,
   "metadata": {
    "editable": true
   },
   "outputs": [
    {
     "data": {
      "text/plain": [
       "8439242    2013-05-01\n",
       "8439243    2013-06-01\n",
       "8439244    2013-07-01\n",
       "8439245    2013-08-01\n",
       "8439246    2013-09-01\n",
       "Name: dt, dtype: object"
      ]
     },
     "execution_count": 28,
     "metadata": {},
     "output_type": "execute_result"
    }
   ],
   "source": [
    "df_temp[df_temp.Country == 'United States'].dt.tail(5)"
   ]
  },
  {
   "cell_type": "code",
   "execution_count": 29,
   "metadata": {
    "editable": true
   },
   "outputs": [
    {
     "data": {
      "text/plain": [
       "0"
      ]
     },
     "execution_count": 29,
     "metadata": {},
     "output_type": "execute_result"
    }
   ],
   "source": [
    "(pd.to_datetime(df_temp.dt) >= pd.Timestamp(datetime.date(2016,1,1))).sum()"
   ]
  },
  {
   "cell_type": "markdown",
   "metadata": {
    "editable": true
   },
   "source": [
    "**Airport Codes**"
   ]
  },
  {
   "cell_type": "code",
   "execution_count": 30,
   "metadata": {
    "editable": true
   },
   "outputs": [
    {
     "data": {
      "text/html": [
       "<div>\n",
       "<style scoped>\n",
       "    .dataframe tbody tr th:only-of-type {\n",
       "        vertical-align: middle;\n",
       "    }\n",
       "\n",
       "    .dataframe tbody tr th {\n",
       "        vertical-align: top;\n",
       "    }\n",
       "\n",
       "    .dataframe thead th {\n",
       "        text-align: right;\n",
       "    }\n",
       "</style>\n",
       "<table border=\"1\" class=\"dataframe\">\n",
       "  <thead>\n",
       "    <tr style=\"text-align: right;\">\n",
       "      <th></th>\n",
       "      <th>ident</th>\n",
       "      <th>type</th>\n",
       "      <th>name</th>\n",
       "      <th>elevation_ft</th>\n",
       "      <th>continent</th>\n",
       "      <th>iso_country</th>\n",
       "      <th>iso_region</th>\n",
       "      <th>municipality</th>\n",
       "      <th>gps_code</th>\n",
       "      <th>iata_code</th>\n",
       "      <th>local_code</th>\n",
       "      <th>coordinates</th>\n",
       "    </tr>\n",
       "  </thead>\n",
       "  <tbody>\n",
       "    <tr>\n",
       "      <th>0</th>\n",
       "      <td>00A</td>\n",
       "      <td>heliport</td>\n",
       "      <td>Total Rf Heliport</td>\n",
       "      <td>11.0</td>\n",
       "      <td>NaN</td>\n",
       "      <td>US</td>\n",
       "      <td>US-PA</td>\n",
       "      <td>Bensalem</td>\n",
       "      <td>00A</td>\n",
       "      <td>NaN</td>\n",
       "      <td>00A</td>\n",
       "      <td>-74.93360137939453, 40.07080078125</td>\n",
       "    </tr>\n",
       "    <tr>\n",
       "      <th>1</th>\n",
       "      <td>00AA</td>\n",
       "      <td>small_airport</td>\n",
       "      <td>Aero B Ranch Airport</td>\n",
       "      <td>3435.0</td>\n",
       "      <td>NaN</td>\n",
       "      <td>US</td>\n",
       "      <td>US-KS</td>\n",
       "      <td>Leoti</td>\n",
       "      <td>00AA</td>\n",
       "      <td>NaN</td>\n",
       "      <td>00AA</td>\n",
       "      <td>-101.473911, 38.704022</td>\n",
       "    </tr>\n",
       "    <tr>\n",
       "      <th>2</th>\n",
       "      <td>00AK</td>\n",
       "      <td>small_airport</td>\n",
       "      <td>Lowell Field</td>\n",
       "      <td>450.0</td>\n",
       "      <td>NaN</td>\n",
       "      <td>US</td>\n",
       "      <td>US-AK</td>\n",
       "      <td>Anchor Point</td>\n",
       "      <td>00AK</td>\n",
       "      <td>NaN</td>\n",
       "      <td>00AK</td>\n",
       "      <td>-151.695999146, 59.94919968</td>\n",
       "    </tr>\n",
       "    <tr>\n",
       "      <th>3</th>\n",
       "      <td>00AL</td>\n",
       "      <td>small_airport</td>\n",
       "      <td>Epps Airpark</td>\n",
       "      <td>820.0</td>\n",
       "      <td>NaN</td>\n",
       "      <td>US</td>\n",
       "      <td>US-AL</td>\n",
       "      <td>Harvest</td>\n",
       "      <td>00AL</td>\n",
       "      <td>NaN</td>\n",
       "      <td>00AL</td>\n",
       "      <td>-86.77030181884766, 34.86479949951172</td>\n",
       "    </tr>\n",
       "    <tr>\n",
       "      <th>4</th>\n",
       "      <td>00AR</td>\n",
       "      <td>closed</td>\n",
       "      <td>Newport Hospital &amp; Clinic Heliport</td>\n",
       "      <td>237.0</td>\n",
       "      <td>NaN</td>\n",
       "      <td>US</td>\n",
       "      <td>US-AR</td>\n",
       "      <td>Newport</td>\n",
       "      <td>NaN</td>\n",
       "      <td>NaN</td>\n",
       "      <td>NaN</td>\n",
       "      <td>-91.254898, 35.6087</td>\n",
       "    </tr>\n",
       "  </tbody>\n",
       "</table>\n",
       "</div>"
      ],
      "text/plain": [
       "  ident           type                                name  elevation_ft  \\\n",
       "0   00A       heliport                   Total Rf Heliport          11.0   \n",
       "1  00AA  small_airport                Aero B Ranch Airport        3435.0   \n",
       "2  00AK  small_airport                        Lowell Field         450.0   \n",
       "3  00AL  small_airport                        Epps Airpark         820.0   \n",
       "4  00AR         closed  Newport Hospital & Clinic Heliport         237.0   \n",
       "\n",
       "  continent iso_country iso_region  municipality gps_code iata_code  \\\n",
       "0       NaN          US      US-PA      Bensalem      00A       NaN   \n",
       "1       NaN          US      US-KS         Leoti     00AA       NaN   \n",
       "2       NaN          US      US-AK  Anchor Point     00AK       NaN   \n",
       "3       NaN          US      US-AL       Harvest     00AL       NaN   \n",
       "4       NaN          US      US-AR       Newport      NaN       NaN   \n",
       "\n",
       "  local_code                            coordinates  \n",
       "0        00A     -74.93360137939453, 40.07080078125  \n",
       "1       00AA                 -101.473911, 38.704022  \n",
       "2       00AK            -151.695999146, 59.94919968  \n",
       "3       00AL  -86.77030181884766, 34.86479949951172  \n",
       "4        NaN                    -91.254898, 35.6087  "
      ]
     },
     "execution_count": 30,
     "metadata": {},
     "output_type": "execute_result"
    }
   ],
   "source": [
    "df_airport.head(5)"
   ]
  },
  {
   "cell_type": "code",
   "execution_count": 31,
   "metadata": {
    "editable": true
   },
   "outputs": [
    {
     "name": "stdout",
     "output_type": "stream",
     "text": [
      "<class 'pandas.core.frame.DataFrame'>\n",
      "RangeIndex: 55075 entries, 0 to 55074\n",
      "Data columns (total 12 columns):\n",
      "ident           55075 non-null object\n",
      "type            55075 non-null object\n",
      "name            55075 non-null object\n",
      "elevation_ft    48069 non-null float64\n",
      "continent       27356 non-null object\n",
      "iso_country     54828 non-null object\n",
      "iso_region      55075 non-null object\n",
      "municipality    49399 non-null object\n",
      "gps_code        41030 non-null object\n",
      "iata_code       9189 non-null object\n",
      "local_code      28686 non-null object\n",
      "coordinates     55075 non-null object\n",
      "dtypes: float64(1), object(11)\n",
      "memory usage: 5.0+ MB\n"
     ]
    }
   ],
   "source": [
    "df_airport.info()"
   ]
  },
  {
   "cell_type": "code",
   "execution_count": 32,
   "metadata": {
    "editable": true
   },
   "outputs": [
    {
     "data": {
      "text/html": [
       "<div>\n",
       "<style scoped>\n",
       "    .dataframe tbody tr th:only-of-type {\n",
       "        vertical-align: middle;\n",
       "    }\n",
       "\n",
       "    .dataframe tbody tr th {\n",
       "        vertical-align: top;\n",
       "    }\n",
       "\n",
       "    .dataframe thead th {\n",
       "        text-align: right;\n",
       "    }\n",
       "</style>\n",
       "<table border=\"1\" class=\"dataframe\">\n",
       "  <thead>\n",
       "    <tr style=\"text-align: right;\">\n",
       "      <th></th>\n",
       "      <th>elevation_ft</th>\n",
       "    </tr>\n",
       "  </thead>\n",
       "  <tbody>\n",
       "    <tr>\n",
       "      <th>count</th>\n",
       "      <td>48069.000000</td>\n",
       "    </tr>\n",
       "    <tr>\n",
       "      <th>mean</th>\n",
       "      <td>1240.789677</td>\n",
       "    </tr>\n",
       "    <tr>\n",
       "      <th>std</th>\n",
       "      <td>1602.363459</td>\n",
       "    </tr>\n",
       "    <tr>\n",
       "      <th>min</th>\n",
       "      <td>-1266.000000</td>\n",
       "    </tr>\n",
       "    <tr>\n",
       "      <th>25%</th>\n",
       "      <td>205.000000</td>\n",
       "    </tr>\n",
       "    <tr>\n",
       "      <th>50%</th>\n",
       "      <td>718.000000</td>\n",
       "    </tr>\n",
       "    <tr>\n",
       "      <th>75%</th>\n",
       "      <td>1497.000000</td>\n",
       "    </tr>\n",
       "    <tr>\n",
       "      <th>max</th>\n",
       "      <td>22000.000000</td>\n",
       "    </tr>\n",
       "  </tbody>\n",
       "</table>\n",
       "</div>"
      ],
      "text/plain": [
       "       elevation_ft\n",
       "count  48069.000000\n",
       "mean    1240.789677\n",
       "std     1602.363459\n",
       "min    -1266.000000\n",
       "25%      205.000000\n",
       "50%      718.000000\n",
       "75%     1497.000000\n",
       "max    22000.000000"
      ]
     },
     "execution_count": 32,
     "metadata": {},
     "output_type": "execute_result"
    }
   ],
   "source": [
    "df_airport.describe()"
   ]
  },
  {
   "cell_type": "code",
   "execution_count": 33,
   "metadata": {
    "editable": true
   },
   "outputs": [
    {
     "data": {
      "text/plain": [
       "array(['US', 'PR', 'MH', 'MP', 'GU', 'SO', 'AQ', 'GB', 'PG', 'AD', 'SD',\n",
       "       'SA', 'AE', 'SS', 'ES', 'CN', 'AF', 'LK', 'SB', 'CO', 'AU', 'MG',\n",
       "       'TD', 'AL', 'AM', 'MX', 'MZ', 'PW', 'NR', 'AO', 'AR', 'AS', 'AT',\n",
       "       'ZZ', 'GA', 'AZ', 'BA', 'BB', 'BE', 'DE', 'BF', 'BG', 'GL', 'BH',\n",
       "       'BI', 'IS', 'BJ', 'OM', 'XK', 'BM', 'KE', 'PH', 'BO', 'BR', 'BS',\n",
       "       'CV', 'BW', 'FJ', 'BY', 'UA', 'LR', 'BZ', 'CA', 'CD', 'CF', 'CG',\n",
       "       'MR', 'CH', 'CL', 'CM', 'MA', 'CR', 'CU', 'CY', 'CZ', 'SK', 'PA',\n",
       "       'DZ', 'ID', 'GH', 'RU', 'CI', 'DK', 'NG', 'DO', 'NE', 'HR', 'TN',\n",
       "       'TG', 'EC', 'EE', 'FI', 'EG', 'GG', 'JE', 'IM', 'FK', 'EH', 'NL',\n",
       "       'IE', 'FO', 'LU', 'NO', 'PL', 'ER', 'MN', 'PT', 'SE', 'ET', 'LV',\n",
       "       'LT', 'ZA', 'SZ', 'GQ', 'SH', 'MU', 'IO', 'ZM', 'FM', 'KM', 'YT',\n",
       "       'RE', 'TF', 'ST', 'FR', 'SC', 'ZW', 'MW', 'LS', nan, 'ML', 'GM',\n",
       "       'GE', 'GF', 'SL', 'GW', 'GN', 'SN', 'GR', 'GT', 'TZ', 'GY', 'SR',\n",
       "       'DJ', 'HK', 'LY', 'HN', 'VN', 'KZ', 'RW', 'HT', 'HU', 'UG', 'TL',\n",
       "       'IL', 'IN', 'IQ', 'IR', 'JP', 'IT', 'JM', 'JO', 'KG', 'BD', 'KI',\n",
       "       'KH', 'KP', 'KR', 'KW', 'LA', 'MY', 'PM', 'SI', 'PS', 'MT', 'MC',\n",
       "       'RO', 'LI', 'TR', 'MD', 'MK', 'GI', 'RS', 'ME', 'TC', 'GD', 'MM',\n",
       "       'NI', 'SV', 'MF', 'MV', 'KY', 'NC', 'CK', 'TO', 'TV', 'NU', 'WF',\n",
       "       'NP', 'WS', 'PF', 'VU', 'NZ', 'LB', 'PK', 'SY', 'QA', 'YE', 'UM',\n",
       "       'PE', 'TH', 'PY', 'TW', 'SG', 'VI', 'SM', 'UY', 'VE', 'AG', 'DM',\n",
       "       'GP', 'MQ', 'BL', 'TJ', 'KN', 'LC', 'TM', 'AW', 'BQ', 'CW', 'SX',\n",
       "       'AI', 'MS', 'TT', 'VG', 'VC', 'UZ', 'VA', 'MO', 'BT', 'BN', 'CC',\n",
       "       'CX', 'NF'], dtype=object)"
      ]
     },
     "execution_count": 33,
     "metadata": {},
     "output_type": "execute_result"
    }
   ],
   "source": [
    "df_airport.iso_country.unique()"
   ]
  },
  {
   "cell_type": "code",
   "execution_count": 34,
   "metadata": {
    "editable": true
   },
   "outputs": [],
   "source": [
    "airport_us_mask = df_airport.iso_country == 'US'"
   ]
  },
  {
   "cell_type": "code",
   "execution_count": 35,
   "metadata": {
    "editable": true
   },
   "outputs": [
    {
     "data": {
      "text/plain": [
       "22757"
      ]
     },
     "execution_count": 35,
     "metadata": {},
     "output_type": "execute_result"
    }
   ],
   "source": [
    "airport_us_mask.sum()"
   ]
  },
  {
   "cell_type": "code",
   "execution_count": 36,
   "metadata": {
    "editable": true
   },
   "outputs": [
    {
     "name": "stdout",
     "output_type": "stream",
     "text": [
      "<class 'pandas.core.frame.DataFrame'>\n",
      "Int64Index: 22757 entries, 0 to 54896\n",
      "Data columns (total 12 columns):\n",
      "ident           22757 non-null object\n",
      "type            22757 non-null object\n",
      "name            22757 non-null object\n",
      "elevation_ft    22518 non-null float64\n",
      "continent       1 non-null object\n",
      "iso_country     22757 non-null object\n",
      "iso_region      22757 non-null object\n",
      "municipality    22655 non-null object\n",
      "gps_code        20984 non-null object\n",
      "iata_code       2019 non-null object\n",
      "local_code      21236 non-null object\n",
      "coordinates     22757 non-null object\n",
      "dtypes: float64(1), object(11)\n",
      "memory usage: 2.3+ MB\n"
     ]
    }
   ],
   "source": [
    "df_us_airport = df_airport[airport_us_mask].copy()\n",
    "df_us_airport.info()"
   ]
  },
  {
   "cell_type": "code",
   "execution_count": 37,
   "metadata": {
    "editable": true
   },
   "outputs": [
    {
     "data": {
      "text/plain": [
       "8738"
      ]
     },
     "execution_count": 37,
     "metadata": {},
     "output_type": "execute_result"
    }
   ],
   "source": [
    "df_us_airport.municipality.nunique()"
   ]
  },
  {
   "cell_type": "code",
   "execution_count": 38,
   "metadata": {
    "editable": true
   },
   "outputs": [
    {
     "data": {
      "text/plain": [
       "(52, array(['US-PA', 'US-KS', 'US-AK', 'US-AL', 'US-AR', 'US-OK', 'US-AZ',\n",
       "        'US-CA', 'US-CO', 'US-FL', 'US-GA', 'US-HI', 'US-ID', 'US-IN',\n",
       "        'US-IL', 'US-KY', 'US-LA', 'US-MD', 'US-MI', 'US-MN', 'US-MO',\n",
       "        'US-MT', 'US-NJ', 'US-NC', 'US-NY', 'US-OH', 'US-OR', 'US-SC',\n",
       "        'US-SD', 'US-TX', 'US-TN', 'US-UT', 'US-VA', 'US-WA', 'US-WI',\n",
       "        'US-WV', 'US-WY', 'US-CT', 'US-IA', 'US-MA', 'US-ME', 'US-NE',\n",
       "        'US-NH', 'US-NM', 'US-NV', 'US-MS', 'US-ND', 'US-VT', 'US-RI',\n",
       "        'US-DC', 'US-DE', 'US-U-A'], dtype=object))"
      ]
     },
     "execution_count": 38,
     "metadata": {},
     "output_type": "execute_result"
    }
   ],
   "source": [
    "df_us_airport.iso_region.nunique(), df_us_airport.iso_region.unique()"
   ]
  },
  {
   "cell_type": "code",
   "execution_count": 39,
   "metadata": {
    "editable": true
   },
   "outputs": [
    {
     "data": {
      "text/plain": [
       "array(['PA', 'KS', 'AK', 'AL', 'AR', 'OK', 'AZ', 'CA', 'CO', 'FL', 'GA',\n",
       "       'HI', 'ID', 'IN', 'IL', 'KY', 'LA', 'MD', 'MI', 'MN', 'MO', 'MT',\n",
       "       'NJ', 'NC', 'NY', 'OH', 'OR', 'SC', 'SD', 'TX', 'TN', 'UT', 'VA',\n",
       "       'WA', 'WI', 'WV', 'WY', 'CT', 'IA', 'MA', 'ME', 'NE', 'NH', 'NM',\n",
       "       'NV', 'MS', 'ND', 'VT', 'RI', 'DC', 'DE', 'U-A'], dtype=object)"
      ]
     },
     "execution_count": 39,
     "metadata": {},
     "output_type": "execute_result"
    }
   ],
   "source": [
    "airport_us_state_codes = df_us_airport.iso_region.str.replace(\"US-\", \"\").unique()\n",
    "airport_us_state_codes"
   ]
  },
  {
   "cell_type": "code",
   "execution_count": 40,
   "metadata": {
    "editable": true
   },
   "outputs": [
    {
     "data": {
      "text/plain": [
       "array(['HI', 'TX', 'FL', 'CA', 'NY', 'GA', 'IL', 'MA', 'NV', 'PA', 'GU',\n",
       "       'NC', 'NJ', 'VT', 'WA', 'NE', 'VA', 'MP', 'IN', 'MO', 'MI', 'OR',\n",
       "       'MN', 'UN', 'ID', 'AZ', 'KY', 'SC', 'MS', 'MD', 'TN', 'OH', 'CT',\n",
       "       'KS', 'DC', 'IA', 'LA', 'VQ', 'PR', 'CO', 'AL', 'SW', 'NM', 'UT',\n",
       "       'OK', 'NH', 'TE', 'ME', 'AR', 'RI', 'WI'], dtype=object)"
      ]
     },
     "execution_count": 40,
     "metadata": {},
     "output_type": "execute_result"
    }
   ],
   "source": [
    "i94addr_unique_sample = df_immigration_sample[df_immigration_sample.i94addr.notnull()].i94addr.unique()\n",
    "i94addr_unique_sample"
   ]
  },
  {
   "cell_type": "code",
   "execution_count": 41,
   "metadata": {
    "editable": true
   },
   "outputs": [
    {
     "data": {
      "text/plain": [
       "({'AK', 'DE', 'MT', 'ND', 'SD', 'U-A', 'WV', 'WY'},\n",
       " {'GU', 'MP', 'PR', 'SW', 'TE', 'UN', 'VQ'})"
      ]
     },
     "execution_count": 41,
     "metadata": {},
     "output_type": "execute_result"
    }
   ],
   "source": [
    "{ausc for ausc in airport_us_state_codes if ausc not in i94addr_unique_sample}, {sc for sc in i94addr_unique_sample  if sc not in airport_us_state_codes}"
   ]
  },
  {
   "cell_type": "code",
   "execution_count": 42,
   "metadata": {
    "editable": true
   },
   "outputs": [
    {
     "data": {
      "text/plain": [
       "array(['MD', 'MA', 'AL', 'CA', 'NJ', 'IL', 'AZ', 'MO', 'NC', 'PA', 'KS',\n",
       "       'FL', 'TX', 'VA', 'NV', 'CO', 'MI', 'CT', 'MN', 'UT', 'AR', 'TN',\n",
       "       'OK', 'WA', 'NY', 'GA', 'NE', 'KY', 'SC', 'LA', 'NM', 'IA', 'RI',\n",
       "       'PR', 'DC', 'WI', 'OR', 'NH', 'ND', 'DE', 'OH', 'ID', 'IN', 'AK',\n",
       "       'MS', 'HI', 'SD', 'ME', 'MT'], dtype=object)"
      ]
     },
     "execution_count": 42,
     "metadata": {},
     "output_type": "execute_result"
    }
   ],
   "source": [
    "demo_state_code_unique = df_demo[\"State Code\"].unique()\n",
    "demo_state_code_unique"
   ]
  },
  {
   "cell_type": "code",
   "execution_count": 43,
   "metadata": {
    "editable": true
   },
   "outputs": [
    {
     "data": {
      "text/plain": [
       "({'U-A', 'VT', 'WV', 'WY'}, {'PR'})"
      ]
     },
     "execution_count": 43,
     "metadata": {},
     "output_type": "execute_result"
    }
   ],
   "source": [
    "{ausc for ausc in airport_us_state_codes if ausc not in demo_state_code_unique}, {sc for sc in demo_state_code_unique  if sc not in airport_us_state_codes}"
   ]
  },
  {
   "cell_type": "code",
   "execution_count": 44,
   "metadata": {
    "editable": true
   },
   "outputs": [
    {
     "name": "stdout",
     "output_type": "stream",
     "text": [
      "(102, 12)\n"
     ]
    },
    {
     "data": {
      "text/html": [
       "<div>\n",
       "<style scoped>\n",
       "    .dataframe tbody tr th:only-of-type {\n",
       "        vertical-align: middle;\n",
       "    }\n",
       "\n",
       "    .dataframe tbody tr th {\n",
       "        vertical-align: top;\n",
       "    }\n",
       "\n",
       "    .dataframe thead th {\n",
       "        text-align: right;\n",
       "    }\n",
       "</style>\n",
       "<table border=\"1\" class=\"dataframe\">\n",
       "  <thead>\n",
       "    <tr style=\"text-align: right;\">\n",
       "      <th></th>\n",
       "      <th>ident</th>\n",
       "      <th>type</th>\n",
       "      <th>name</th>\n",
       "      <th>elevation_ft</th>\n",
       "      <th>continent</th>\n",
       "      <th>iso_country</th>\n",
       "      <th>iso_region</th>\n",
       "      <th>municipality</th>\n",
       "      <th>gps_code</th>\n",
       "      <th>iata_code</th>\n",
       "      <th>local_code</th>\n",
       "      <th>coordinates</th>\n",
       "    </tr>\n",
       "  </thead>\n",
       "  <tbody>\n",
       "    <tr>\n",
       "      <th>305</th>\n",
       "      <td>04VT</td>\n",
       "      <td>small_airport</td>\n",
       "      <td>Lightning Bolt Field Airport</td>\n",
       "      <td>2156.0</td>\n",
       "      <td>NaN</td>\n",
       "      <td>US</td>\n",
       "      <td>US-VT</td>\n",
       "      <td>Cabot</td>\n",
       "      <td>04VT</td>\n",
       "      <td>NaN</td>\n",
       "      <td>04VT</td>\n",
       "      <td>-72.26360321039999, 44.4011001587</td>\n",
       "    </tr>\n",
       "    <tr>\n",
       "      <th>365</th>\n",
       "      <td>05VT</td>\n",
       "      <td>heliport</td>\n",
       "      <td>Port of Highgate Springs Heliport</td>\n",
       "      <td>68.0</td>\n",
       "      <td>NaN</td>\n",
       "      <td>US</td>\n",
       "      <td>US-VT</td>\n",
       "      <td>Highgate Springs</td>\n",
       "      <td>05VT</td>\n",
       "      <td>NaN</td>\n",
       "      <td>05VT</td>\n",
       "      <td>-73.08670043945312, 45.013301849365234</td>\n",
       "    </tr>\n",
       "    <tr>\n",
       "      <th>478</th>\n",
       "      <td>07VT</td>\n",
       "      <td>small_airport</td>\n",
       "      <td>Meadow STOLport</td>\n",
       "      <td>801.0</td>\n",
       "      <td>NaN</td>\n",
       "      <td>US</td>\n",
       "      <td>US-VT</td>\n",
       "      <td>Jericho</td>\n",
       "      <td>07VT</td>\n",
       "      <td>NaN</td>\n",
       "      <td>07VT</td>\n",
       "      <td>-72.91470336914062, 44.447200775146484</td>\n",
       "    </tr>\n",
       "    <tr>\n",
       "      <th>632</th>\n",
       "      <td>0B7</td>\n",
       "      <td>small_airport</td>\n",
       "      <td>Warren-Sugarbush Airport</td>\n",
       "      <td>1470.0</td>\n",
       "      <td>NaN</td>\n",
       "      <td>US</td>\n",
       "      <td>US-VT</td>\n",
       "      <td>Warren</td>\n",
       "      <td>0B7</td>\n",
       "      <td>NaN</td>\n",
       "      <td>0B7</td>\n",
       "      <td>-72.8271026611, 44.1166992188</td>\n",
       "    </tr>\n",
       "    <tr>\n",
       "      <th>1715</th>\n",
       "      <td>18VT</td>\n",
       "      <td>heliport</td>\n",
       "      <td>Springfield Hospital Heliport</td>\n",
       "      <td>589.0</td>\n",
       "      <td>NaN</td>\n",
       "      <td>US</td>\n",
       "      <td>US-VT</td>\n",
       "      <td>Springfield</td>\n",
       "      <td>18VT</td>\n",
       "      <td>NaN</td>\n",
       "      <td>18VT</td>\n",
       "      <td>-72.494588, 43.298465</td>\n",
       "    </tr>\n",
       "  </tbody>\n",
       "</table>\n",
       "</div>"
      ],
      "text/plain": [
       "     ident           type                               name  elevation_ft  \\\n",
       "305   04VT  small_airport       Lightning Bolt Field Airport        2156.0   \n",
       "365   05VT       heliport  Port of Highgate Springs Heliport          68.0   \n",
       "478   07VT  small_airport                    Meadow STOLport         801.0   \n",
       "632    0B7  small_airport           Warren-Sugarbush Airport        1470.0   \n",
       "1715  18VT       heliport      Springfield Hospital Heliport         589.0   \n",
       "\n",
       "     continent iso_country iso_region      municipality gps_code iata_code  \\\n",
       "305        NaN          US      US-VT             Cabot     04VT       NaN   \n",
       "365        NaN          US      US-VT  Highgate Springs     05VT       NaN   \n",
       "478        NaN          US      US-VT           Jericho     07VT       NaN   \n",
       "632        NaN          US      US-VT            Warren      0B7       NaN   \n",
       "1715       NaN          US      US-VT       Springfield     18VT       NaN   \n",
       "\n",
       "     local_code                             coordinates  \n",
       "305        04VT       -72.26360321039999, 44.4011001587  \n",
       "365        05VT  -73.08670043945312, 45.013301849365234  \n",
       "478        07VT  -72.91470336914062, 44.447200775146484  \n",
       "632         0B7           -72.8271026611, 44.1166992188  \n",
       "1715       18VT                   -72.494588, 43.298465  "
      ]
     },
     "execution_count": 44,
     "metadata": {},
     "output_type": "execute_result"
    }
   ],
   "source": [
    "print(df_us_airport[df_us_airport.iso_region == \"US-VT\"].shape)\n",
    "df_us_airport[df_us_airport.iso_region == \"US-VT\"].head(5)"
   ]
  },
  {
   "cell_type": "code",
   "execution_count": 45,
   "metadata": {
    "editable": true
   },
   "outputs": [
    {
     "name": "stdout",
     "output_type": "stream",
     "text": [
      "(140, 12)\n"
     ]
    },
    {
     "data": {
      "text/html": [
       "<div>\n",
       "<style scoped>\n",
       "    .dataframe tbody tr th:only-of-type {\n",
       "        vertical-align: middle;\n",
       "    }\n",
       "\n",
       "    .dataframe tbody tr th {\n",
       "        vertical-align: top;\n",
       "    }\n",
       "\n",
       "    .dataframe thead th {\n",
       "        text-align: right;\n",
       "    }\n",
       "</style>\n",
       "<table border=\"1\" class=\"dataframe\">\n",
       "  <thead>\n",
       "    <tr style=\"text-align: right;\">\n",
       "      <th></th>\n",
       "      <th>ident</th>\n",
       "      <th>type</th>\n",
       "      <th>name</th>\n",
       "      <th>elevation_ft</th>\n",
       "      <th>continent</th>\n",
       "      <th>iso_country</th>\n",
       "      <th>iso_region</th>\n",
       "      <th>municipality</th>\n",
       "      <th>gps_code</th>\n",
       "      <th>iata_code</th>\n",
       "      <th>local_code</th>\n",
       "      <th>coordinates</th>\n",
       "    </tr>\n",
       "  </thead>\n",
       "  <tbody>\n",
       "    <tr>\n",
       "      <th>60</th>\n",
       "      <td>00WV</td>\n",
       "      <td>small_airport</td>\n",
       "      <td>Lazy J. Aerodrome</td>\n",
       "      <td>2060.0</td>\n",
       "      <td>NaN</td>\n",
       "      <td>US</td>\n",
       "      <td>US-WV</td>\n",
       "      <td>Beverly</td>\n",
       "      <td>00WV</td>\n",
       "      <td>NaN</td>\n",
       "      <td>00WV</td>\n",
       "      <td>-79.86609649658203, 38.82889938354492</td>\n",
       "    </tr>\n",
       "    <tr>\n",
       "      <th>310</th>\n",
       "      <td>04WV</td>\n",
       "      <td>heliport</td>\n",
       "      <td>West Virginia Univ. Hosp. Inc. Gnd. Pad #2 Hel...</td>\n",
       "      <td>1137.0</td>\n",
       "      <td>NaN</td>\n",
       "      <td>US</td>\n",
       "      <td>US-WV</td>\n",
       "      <td>Morgantown</td>\n",
       "      <td>04WV</td>\n",
       "      <td>NaN</td>\n",
       "      <td>04WV</td>\n",
       "      <td>-79.9561111111, 39.6536111111</td>\n",
       "    </tr>\n",
       "    <tr>\n",
       "      <th>1374</th>\n",
       "      <td>12WV</td>\n",
       "      <td>small_airport</td>\n",
       "      <td>Crazy Horse Airport</td>\n",
       "      <td>603.0</td>\n",
       "      <td>NaN</td>\n",
       "      <td>US</td>\n",
       "      <td>US-WV</td>\n",
       "      <td>Hamlin</td>\n",
       "      <td>12WV</td>\n",
       "      <td>NaN</td>\n",
       "      <td>12WV</td>\n",
       "      <td>-82.115, 38.3421667</td>\n",
       "    </tr>\n",
       "    <tr>\n",
       "      <th>1482</th>\n",
       "      <td>14P</td>\n",
       "      <td>small_airport</td>\n",
       "      <td>Boggs Field</td>\n",
       "      <td>927.0</td>\n",
       "      <td>NaN</td>\n",
       "      <td>US</td>\n",
       "      <td>US-WV</td>\n",
       "      <td>Spencer</td>\n",
       "      <td>14P</td>\n",
       "      <td>NaN</td>\n",
       "      <td>14P</td>\n",
       "      <td>-81.34940338134766, 38.82389831542969</td>\n",
       "    </tr>\n",
       "    <tr>\n",
       "      <th>1497</th>\n",
       "      <td>14WV</td>\n",
       "      <td>heliport</td>\n",
       "      <td>Snowshoe Resort/Topof the World Heliport</td>\n",
       "      <td>4792.0</td>\n",
       "      <td>NaN</td>\n",
       "      <td>US</td>\n",
       "      <td>US-WV</td>\n",
       "      <td>Linwood</td>\n",
       "      <td>14WV</td>\n",
       "      <td>NaN</td>\n",
       "      <td>14WV</td>\n",
       "      <td>-79.99579620360001, 38.4006004333</td>\n",
       "    </tr>\n",
       "  </tbody>\n",
       "</table>\n",
       "</div>"
      ],
      "text/plain": [
       "     ident           type                                               name  \\\n",
       "60    00WV  small_airport                                  Lazy J. Aerodrome   \n",
       "310   04WV       heliport  West Virginia Univ. Hosp. Inc. Gnd. Pad #2 Hel...   \n",
       "1374  12WV  small_airport                                Crazy Horse Airport   \n",
       "1482   14P  small_airport                                        Boggs Field   \n",
       "1497  14WV       heliport           Snowshoe Resort/Topof the World Heliport   \n",
       "\n",
       "      elevation_ft continent iso_country iso_region municipality gps_code  \\\n",
       "60          2060.0       NaN          US      US-WV      Beverly     00WV   \n",
       "310         1137.0       NaN          US      US-WV   Morgantown     04WV   \n",
       "1374         603.0       NaN          US      US-WV       Hamlin     12WV   \n",
       "1482         927.0       NaN          US      US-WV      Spencer      14P   \n",
       "1497        4792.0       NaN          US      US-WV      Linwood     14WV   \n",
       "\n",
       "     iata_code local_code                            coordinates  \n",
       "60         NaN       00WV  -79.86609649658203, 38.82889938354492  \n",
       "310        NaN       04WV          -79.9561111111, 39.6536111111  \n",
       "1374       NaN       12WV                    -82.115, 38.3421667  \n",
       "1482       NaN        14P  -81.34940338134766, 38.82389831542969  \n",
       "1497       NaN       14WV      -79.99579620360001, 38.4006004333  "
      ]
     },
     "execution_count": 45,
     "metadata": {},
     "output_type": "execute_result"
    }
   ],
   "source": [
    "print(df_us_airport[df_us_airport.iso_region == \"US-WV\"].shape)\n",
    "df_us_airport[df_us_airport.iso_region == \"US-WV\"].head(5)"
   ]
  },
  {
   "cell_type": "code",
   "execution_count": 46,
   "metadata": {
    "editable": true
   },
   "outputs": [
    {
     "name": "stdout",
     "output_type": "stream",
     "text": [
      "(127, 12)\n"
     ]
    },
    {
     "data": {
      "text/html": [
       "<div>\n",
       "<style scoped>\n",
       "    .dataframe tbody tr th:only-of-type {\n",
       "        vertical-align: middle;\n",
       "    }\n",
       "\n",
       "    .dataframe tbody tr th {\n",
       "        vertical-align: top;\n",
       "    }\n",
       "\n",
       "    .dataframe thead th {\n",
       "        text-align: right;\n",
       "    }\n",
       "</style>\n",
       "<table border=\"1\" class=\"dataframe\">\n",
       "  <thead>\n",
       "    <tr style=\"text-align: right;\">\n",
       "      <th></th>\n",
       "      <th>ident</th>\n",
       "      <th>type</th>\n",
       "      <th>name</th>\n",
       "      <th>elevation_ft</th>\n",
       "      <th>continent</th>\n",
       "      <th>iso_country</th>\n",
       "      <th>iso_region</th>\n",
       "      <th>municipality</th>\n",
       "      <th>gps_code</th>\n",
       "      <th>iata_code</th>\n",
       "      <th>local_code</th>\n",
       "      <th>coordinates</th>\n",
       "    </tr>\n",
       "  </thead>\n",
       "  <tbody>\n",
       "    <tr>\n",
       "      <th>61</th>\n",
       "      <td>00WY</td>\n",
       "      <td>heliport</td>\n",
       "      <td>Mountain View Regional Hospital Heliport</td>\n",
       "      <td>5210.0</td>\n",
       "      <td>NaN</td>\n",
       "      <td>US</td>\n",
       "      <td>US-WY</td>\n",
       "      <td>Casper</td>\n",
       "      <td>00WY</td>\n",
       "      <td>NaN</td>\n",
       "      <td>00WY</td>\n",
       "      <td>-106.224443, 42.840361</td>\n",
       "    </tr>\n",
       "    <tr>\n",
       "      <th>125</th>\n",
       "      <td>01WY</td>\n",
       "      <td>small_airport</td>\n",
       "      <td>Keyhole Airport</td>\n",
       "      <td>4250.0</td>\n",
       "      <td>NaN</td>\n",
       "      <td>US</td>\n",
       "      <td>US-WY</td>\n",
       "      <td>Moorcroft</td>\n",
       "      <td>01WY</td>\n",
       "      <td>NaN</td>\n",
       "      <td>01WY</td>\n",
       "      <td>-104.81099700927734, 44.347198486328125</td>\n",
       "    </tr>\n",
       "    <tr>\n",
       "      <th>1171</th>\n",
       "      <td>0WY0</td>\n",
       "      <td>small_airport</td>\n",
       "      <td>Freedom Air Ranch Airport</td>\n",
       "      <td>5698.0</td>\n",
       "      <td>NaN</td>\n",
       "      <td>US</td>\n",
       "      <td>US-WY</td>\n",
       "      <td>Freedom</td>\n",
       "      <td>0WY0</td>\n",
       "      <td>NaN</td>\n",
       "      <td>0WY0</td>\n",
       "      <td>-111.038056, 43.039722</td>\n",
       "    </tr>\n",
       "    <tr>\n",
       "      <th>1172</th>\n",
       "      <td>0WY1</td>\n",
       "      <td>small_airport</td>\n",
       "      <td>Dorsey Creek Ranch Airport</td>\n",
       "      <td>4017.0</td>\n",
       "      <td>NaN</td>\n",
       "      <td>US</td>\n",
       "      <td>US-WY</td>\n",
       "      <td>Basin</td>\n",
       "      <td>0WY1</td>\n",
       "      <td>NaN</td>\n",
       "      <td>0WY1</td>\n",
       "      <td>-108.163333, 44.411111</td>\n",
       "    </tr>\n",
       "    <tr>\n",
       "      <th>1250</th>\n",
       "      <td>10WY</td>\n",
       "      <td>small_airport</td>\n",
       "      <td>Willow Creek Ranch Airport</td>\n",
       "      <td>5521.0</td>\n",
       "      <td>NaN</td>\n",
       "      <td>US</td>\n",
       "      <td>US-WY</td>\n",
       "      <td>Kaycee</td>\n",
       "      <td>10WY</td>\n",
       "      <td>NaN</td>\n",
       "      <td>10WY</td>\n",
       "      <td>-106.823611, 43.423333</td>\n",
       "    </tr>\n",
       "  </tbody>\n",
       "</table>\n",
       "</div>"
      ],
      "text/plain": [
       "     ident           type                                      name  \\\n",
       "61    00WY       heliport  Mountain View Regional Hospital Heliport   \n",
       "125   01WY  small_airport                           Keyhole Airport   \n",
       "1171  0WY0  small_airport                 Freedom Air Ranch Airport   \n",
       "1172  0WY1  small_airport                Dorsey Creek Ranch Airport   \n",
       "1250  10WY  small_airport                Willow Creek Ranch Airport   \n",
       "\n",
       "      elevation_ft continent iso_country iso_region municipality gps_code  \\\n",
       "61          5210.0       NaN          US      US-WY       Casper     00WY   \n",
       "125         4250.0       NaN          US      US-WY    Moorcroft     01WY   \n",
       "1171        5698.0       NaN          US      US-WY      Freedom     0WY0   \n",
       "1172        4017.0       NaN          US      US-WY        Basin     0WY1   \n",
       "1250        5521.0       NaN          US      US-WY       Kaycee     10WY   \n",
       "\n",
       "     iata_code local_code                              coordinates  \n",
       "61         NaN       00WY                   -106.224443, 42.840361  \n",
       "125        NaN       01WY  -104.81099700927734, 44.347198486328125  \n",
       "1171       NaN       0WY0                   -111.038056, 43.039722  \n",
       "1172       NaN       0WY1                   -108.163333, 44.411111  \n",
       "1250       NaN       10WY                   -106.823611, 43.423333  "
      ]
     },
     "execution_count": 46,
     "metadata": {},
     "output_type": "execute_result"
    }
   ],
   "source": [
    "print(df_us_airport[df_us_airport.iso_region == \"US-WY\"].shape)\n",
    "df_us_airport[df_us_airport.iso_region == \"US-WY\"].head(5)"
   ]
  },
  {
   "cell_type": "code",
   "execution_count": 47,
   "metadata": {
    "editable": true
   },
   "outputs": [
    {
     "data": {
      "text/html": [
       "<div>\n",
       "<style scoped>\n",
       "    .dataframe tbody tr th:only-of-type {\n",
       "        vertical-align: middle;\n",
       "    }\n",
       "\n",
       "    .dataframe tbody tr th {\n",
       "        vertical-align: top;\n",
       "    }\n",
       "\n",
       "    .dataframe thead th {\n",
       "        text-align: right;\n",
       "    }\n",
       "</style>\n",
       "<table border=\"1\" class=\"dataframe\">\n",
       "  <thead>\n",
       "    <tr style=\"text-align: right;\">\n",
       "      <th></th>\n",
       "      <th>ident</th>\n",
       "      <th>type</th>\n",
       "      <th>name</th>\n",
       "      <th>elevation_ft</th>\n",
       "      <th>continent</th>\n",
       "      <th>iso_country</th>\n",
       "      <th>iso_region</th>\n",
       "      <th>municipality</th>\n",
       "      <th>gps_code</th>\n",
       "      <th>iata_code</th>\n",
       "      <th>local_code</th>\n",
       "      <th>coordinates</th>\n",
       "    </tr>\n",
       "  </thead>\n",
       "  <tbody>\n",
       "  </tbody>\n",
       "</table>\n",
       "</div>"
      ],
      "text/plain": [
       "Empty DataFrame\n",
       "Columns: [ident, type, name, elevation_ft, continent, iso_country, iso_region, municipality, gps_code, iata_code, local_code, coordinates]\n",
       "Index: []"
      ]
     },
     "execution_count": 47,
     "metadata": {},
     "output_type": "execute_result"
    }
   ],
   "source": [
    "df_us_airport[df_us_airport.iso_region == \"PR\"]"
   ]
  },
  {
   "cell_type": "code",
   "execution_count": 48,
   "metadata": {
    "editable": true
   },
   "outputs": [
    {
     "data": {
      "text/html": [
       "<div>\n",
       "<style scoped>\n",
       "    .dataframe tbody tr th:only-of-type {\n",
       "        vertical-align: middle;\n",
       "    }\n",
       "\n",
       "    .dataframe tbody tr th {\n",
       "        vertical-align: top;\n",
       "    }\n",
       "\n",
       "    .dataframe thead th {\n",
       "        text-align: right;\n",
       "    }\n",
       "</style>\n",
       "<table border=\"1\" class=\"dataframe\">\n",
       "  <thead>\n",
       "    <tr style=\"text-align: right;\">\n",
       "      <th></th>\n",
       "      <th>ident</th>\n",
       "      <th>type</th>\n",
       "      <th>name</th>\n",
       "      <th>elevation_ft</th>\n",
       "      <th>continent</th>\n",
       "      <th>iso_country</th>\n",
       "      <th>iso_region</th>\n",
       "      <th>municipality</th>\n",
       "      <th>gps_code</th>\n",
       "      <th>iata_code</th>\n",
       "      <th>local_code</th>\n",
       "      <th>coordinates</th>\n",
       "    </tr>\n",
       "  </thead>\n",
       "  <tbody>\n",
       "    <tr>\n",
       "      <th>49318</th>\n",
       "      <td>US-0303</td>\n",
       "      <td>large_airport</td>\n",
       "      <td>atl</td>\n",
       "      <td>NaN</td>\n",
       "      <td>NaN</td>\n",
       "      <td>US</td>\n",
       "      <td>US-U-A</td>\n",
       "      <td>NaN</td>\n",
       "      <td>NaN</td>\n",
       "      <td>NaN</td>\n",
       "      <td>NaN</td>\n",
       "      <td>-84.375, 33.137551</td>\n",
       "    </tr>\n",
       "    <tr>\n",
       "      <th>49334</th>\n",
       "      <td>US-0319</td>\n",
       "      <td>small_airport</td>\n",
       "      <td>Ronnie Cole</td>\n",
       "      <td>900.0</td>\n",
       "      <td>NaN</td>\n",
       "      <td>US</td>\n",
       "      <td>US-U-A</td>\n",
       "      <td>Greenfield</td>\n",
       "      <td>NaN</td>\n",
       "      <td>NaN</td>\n",
       "      <td>NaN</td>\n",
       "      <td>-85.72268, 39.831008</td>\n",
       "    </tr>\n",
       "    <tr>\n",
       "      <th>49399</th>\n",
       "      <td>US-0384</td>\n",
       "      <td>closed</td>\n",
       "      <td>Beacon Station Air Strip</td>\n",
       "      <td>NaN</td>\n",
       "      <td>NaN</td>\n",
       "      <td>US</td>\n",
       "      <td>US-U-A</td>\n",
       "      <td>Baker</td>\n",
       "      <td>NaN</td>\n",
       "      <td>NaN</td>\n",
       "      <td>NaN</td>\n",
       "      <td>-116.20977, 35.13047</td>\n",
       "    </tr>\n",
       "    <tr>\n",
       "      <th>49625</th>\n",
       "      <td>US-0610</td>\n",
       "      <td>closed</td>\n",
       "      <td>Erase Me 13</td>\n",
       "      <td>NaN</td>\n",
       "      <td>NaN</td>\n",
       "      <td>US</td>\n",
       "      <td>US-U-A</td>\n",
       "      <td>NaN</td>\n",
       "      <td>NaN</td>\n",
       "      <td>NaN</td>\n",
       "      <td>NaN</td>\n",
       "      <td>0, 0.4</td>\n",
       "    </tr>\n",
       "    <tr>\n",
       "      <th>49757</th>\n",
       "      <td>US-0742</td>\n",
       "      <td>medium_airport</td>\n",
       "      <td>34S Airport</td>\n",
       "      <td>NaN</td>\n",
       "      <td>NaN</td>\n",
       "      <td>US</td>\n",
       "      <td>US-U-A</td>\n",
       "      <td>NaN</td>\n",
       "      <td>NaN</td>\n",
       "      <td>NaN</td>\n",
       "      <td>NaN</td>\n",
       "      <td>-16.875, 19.145168</td>\n",
       "    </tr>\n",
       "    <tr>\n",
       "      <th>49811</th>\n",
       "      <td>US-0796</td>\n",
       "      <td>closed</td>\n",
       "      <td>Not DTW although Detroit can be just as isolated</td>\n",
       "      <td>NaN</td>\n",
       "      <td>NaN</td>\n",
       "      <td>US</td>\n",
       "      <td>US-U-A</td>\n",
       "      <td>NaN</td>\n",
       "      <td>NaN</td>\n",
       "      <td>NaN</td>\n",
       "      <td>NaN</td>\n",
       "      <td>0.8, 0.6</td>\n",
       "    </tr>\n",
       "    <tr>\n",
       "      <th>49820</th>\n",
       "      <td>US-0805</td>\n",
       "      <td>small_airport</td>\n",
       "      <td>Twin Cities</td>\n",
       "      <td>NaN</td>\n",
       "      <td>NaN</td>\n",
       "      <td>US</td>\n",
       "      <td>US-U-A</td>\n",
       "      <td>Tabor City,NC</td>\n",
       "      <td>K5J9</td>\n",
       "      <td>NaN</td>\n",
       "      <td>NaN</td>\n",
       "      <td>0, 0</td>\n",
       "    </tr>\n",
       "    <tr>\n",
       "      <th>49894</th>\n",
       "      <td>US-0879</td>\n",
       "      <td>medium_airport</td>\n",
       "      <td>Buy Lyrica online (Pregabalin) 150mg capsules ...</td>\n",
       "      <td>NaN</td>\n",
       "      <td>NaN</td>\n",
       "      <td>US</td>\n",
       "      <td>US-U-A</td>\n",
       "      <td>NaN</td>\n",
       "      <td>NaN</td>\n",
       "      <td>NaN</td>\n",
       "      <td>NaN</td>\n",
       "      <td>3.1666666666667, -1.1666666666667</td>\n",
       "    </tr>\n",
       "    <tr>\n",
       "      <th>49895</th>\n",
       "      <td>US-0880</td>\n",
       "      <td>medium_airport</td>\n",
       "      <td>Buy Lyrica online. Discount Lyrica 75 mg onlin...</td>\n",
       "      <td>0.0</td>\n",
       "      <td>NaN</td>\n",
       "      <td>US</td>\n",
       "      <td>US-U-A</td>\n",
       "      <td>NaN</td>\n",
       "      <td>NaN</td>\n",
       "      <td>NaN</td>\n",
       "      <td>NaN</td>\n",
       "      <td>-2.1666666666667, -2.1666666666667</td>\n",
       "    </tr>\n",
       "    <tr>\n",
       "      <th>49947</th>\n",
       "      <td>US-0932</td>\n",
       "      <td>small_airport</td>\n",
       "      <td>CLE</td>\n",
       "      <td>NaN</td>\n",
       "      <td>NaN</td>\n",
       "      <td>US</td>\n",
       "      <td>US-U-A</td>\n",
       "      <td>Cleveland</td>\n",
       "      <td>NaN</td>\n",
       "      <td>NaN</td>\n",
       "      <td>NaN</td>\n",
       "      <td>0, 0</td>\n",
       "    </tr>\n",
       "  </tbody>\n",
       "</table>\n",
       "</div>"
      ],
      "text/plain": [
       "         ident            type  \\\n",
       "49318  US-0303   large_airport   \n",
       "49334  US-0319   small_airport   \n",
       "49399  US-0384          closed   \n",
       "49625  US-0610          closed   \n",
       "49757  US-0742  medium_airport   \n",
       "49811  US-0796          closed   \n",
       "49820  US-0805   small_airport   \n",
       "49894  US-0879  medium_airport   \n",
       "49895  US-0880  medium_airport   \n",
       "49947  US-0932   small_airport   \n",
       "\n",
       "                                                    name  elevation_ft  \\\n",
       "49318                                                atl           NaN   \n",
       "49334                                        Ronnie Cole         900.0   \n",
       "49399                           Beacon Station Air Strip           NaN   \n",
       "49625                                        Erase Me 13           NaN   \n",
       "49757                                        34S Airport           NaN   \n",
       "49811   Not DTW although Detroit can be just as isolated           NaN   \n",
       "49820                                        Twin Cities           NaN   \n",
       "49894  Buy Lyrica online (Pregabalin) 150mg capsules ...           NaN   \n",
       "49895  Buy Lyrica online. Discount Lyrica 75 mg onlin...           0.0   \n",
       "49947                                                CLE           NaN   \n",
       "\n",
       "      continent iso_country iso_region   municipality gps_code iata_code  \\\n",
       "49318       NaN          US     US-U-A            NaN      NaN       NaN   \n",
       "49334       NaN          US     US-U-A     Greenfield      NaN       NaN   \n",
       "49399       NaN          US     US-U-A          Baker      NaN       NaN   \n",
       "49625       NaN          US     US-U-A            NaN      NaN       NaN   \n",
       "49757       NaN          US     US-U-A            NaN      NaN       NaN   \n",
       "49811       NaN          US     US-U-A            NaN      NaN       NaN   \n",
       "49820       NaN          US     US-U-A  Tabor City,NC     K5J9       NaN   \n",
       "49894       NaN          US     US-U-A            NaN      NaN       NaN   \n",
       "49895       NaN          US     US-U-A            NaN      NaN       NaN   \n",
       "49947       NaN          US     US-U-A      Cleveland      NaN       NaN   \n",
       "\n",
       "      local_code                         coordinates  \n",
       "49318        NaN                  -84.375, 33.137551  \n",
       "49334        NaN                -85.72268, 39.831008  \n",
       "49399        NaN                -116.20977, 35.13047  \n",
       "49625        NaN                              0, 0.4  \n",
       "49757        NaN                  -16.875, 19.145168  \n",
       "49811        NaN                            0.8, 0.6  \n",
       "49820        NaN                                0, 0  \n",
       "49894        NaN   3.1666666666667, -1.1666666666667  \n",
       "49895        NaN  -2.1666666666667, -2.1666666666667  \n",
       "49947        NaN                                0, 0  "
      ]
     },
     "execution_count": 48,
     "metadata": {},
     "output_type": "execute_result"
    }
   ],
   "source": [
    "df_us_airport[df_us_airport.iso_region == \"US-U-A\"]"
   ]
  },
  {
   "cell_type": "markdown",
   "metadata": {
    "editable": true
   },
   "source": [
    "Double check, if iata_code or local_code matches immigration i94port code"
   ]
  },
  {
   "cell_type": "code",
   "execution_count": 49,
   "metadata": {
    "editable": true
   },
   "outputs": [
    {
     "data": {
      "text/plain": [
       "(array(['HHW', 'MCA', 'OGG', 'LOS', 'CHM', 'ATL', 'SFR', 'NYC', 'CHI',\n",
       "        'PHI', 'FTL', 'BOS', 'SAI', 'NAS', 'SEA', 'ORL', 'PSP', 'HOU',\n",
       "        'NEW', 'BAL', 'SNJ', 'DET', 'AGA', 'LVG', 'MIA', 'SDP', 'VCV',\n",
       "        'DUB', 'PEM', 'TAM', 'BLA', 'WAS', 'KOA', 'DAL', 'SHA', 'SPM',\n",
       "        'NIA', 'PHR', 'MIL', 'SLC', 'CLT', 'EPI', 'SNA', 'MON', 'DLR',\n",
       "        'SFB', 'OPF', 'X96', 'CLM', 'LIH', 'DEN', 'PHO', 'POO', 'NOL',\n",
       "        'WPB', 'PBB', 'TOR', 'MAA', 'RNO', 'FMY', 'HIG', 'OAK', 'OTM',\n",
       "        'ONT', 'SRQ', 'LLB', 'NCA', 'SUM', 'STR', 'HAM'], dtype=object), 70)"
      ]
     },
     "execution_count": 49,
     "metadata": {},
     "output_type": "execute_result"
    }
   ],
   "source": [
    "i94port_unique_sample = df_immigration_sample.i94port.unique()\n",
    "i94port_unique_sample, len(i94port_unique_sample)"
   ]
  },
  {
   "cell_type": "code",
   "execution_count": 50,
   "metadata": {
    "editable": true
   },
   "outputs": [
    {
     "data": {
      "text/plain": [
       "(60, 63, 2, 0)"
      ]
     },
     "execution_count": 50,
     "metadata": {},
     "output_type": "execute_result"
    }
   ],
   "source": [
    "df_airport.iata_code.isin(i94port_unique_sample).sum(), df_airport.local_code.isin(i94port_unique_sample).sum(), df_airport.ident.isin(i94port_unique_sample).sum(), \\\n",
    "df_airport.gps_code.isin(i94port_unique_sample).sum()"
   ]
  },
  {
   "cell_type": "code",
   "execution_count": 51,
   "metadata": {
    "editable": true
   },
   "outputs": [],
   "source": [
    "airport_code_in_i94port_mask = (df_airport.local_code.isin(i94port_unique_sample) | df_airport.iata_code.isin(i94port_unique_sample) | \n",
    "                                df_airport.ident.isin(i94port_unique_sample) | df_airport.gps_code.isin(i94port_unique_sample))"
   ]
  },
  {
   "cell_type": "code",
   "execution_count": 52,
   "metadata": {
    "editable": true
   },
   "outputs": [
    {
     "data": {
      "text/plain": [
       "local_code    49\n",
       "iata_code     65\n",
       "ident         93\n",
       "gps_code      69\n",
       "dtype: int64"
      ]
     },
     "execution_count": 52,
     "metadata": {},
     "output_type": "execute_result"
    }
   ],
   "source": [
    "df_airport[airport_code_in_i94port_mask][[\"local_code\", \"iata_code\", \"ident\", \"gps_code\"]].nunique()"
   ]
  },
  {
   "cell_type": "code",
   "execution_count": 53,
   "metadata": {
    "editable": true
   },
   "outputs": [
    {
     "data": {
      "text/plain": [
       "36"
      ]
     },
     "execution_count": 53,
     "metadata": {},
     "output_type": "execute_result"
    }
   ],
   "source": [
    "(airport_us_mask & airport_code_in_i94port_mask).sum()"
   ]
  },
  {
   "cell_type": "code",
   "execution_count": 54,
   "metadata": {
    "editable": true
   },
   "outputs": [
    {
     "data": {
      "text/plain": [
       "local_code    35\n",
       "iata_code     33\n",
       "ident         36\n",
       "gps_code      35\n",
       "dtype: int64"
      ]
     },
     "execution_count": 54,
     "metadata": {},
     "output_type": "execute_result"
    }
   ],
   "source": [
    "df_airport[airport_us_mask & airport_code_in_i94port_mask][[\"local_code\", \"iata_code\", \"ident\", \"gps_code\"]].nunique()"
   ]
  },
  {
   "cell_type": "code",
   "execution_count": 55,
   "metadata": {
    "editable": true
   },
   "outputs": [
    {
     "data": {
      "text/html": [
       "<div>\n",
       "<style scoped>\n",
       "    .dataframe tbody tr th:only-of-type {\n",
       "        vertical-align: middle;\n",
       "    }\n",
       "\n",
       "    .dataframe tbody tr th {\n",
       "        vertical-align: top;\n",
       "    }\n",
       "\n",
       "    .dataframe thead th {\n",
       "        text-align: right;\n",
       "    }\n",
       "</style>\n",
       "<table border=\"1\" class=\"dataframe\">\n",
       "  <thead>\n",
       "    <tr style=\"text-align: right;\">\n",
       "      <th></th>\n",
       "      <th>ident</th>\n",
       "      <th>type</th>\n",
       "      <th>name</th>\n",
       "      <th>elevation_ft</th>\n",
       "      <th>continent</th>\n",
       "      <th>iso_country</th>\n",
       "      <th>iso_region</th>\n",
       "      <th>municipality</th>\n",
       "      <th>gps_code</th>\n",
       "      <th>iata_code</th>\n",
       "      <th>local_code</th>\n",
       "      <th>coordinates</th>\n",
       "    </tr>\n",
       "  </thead>\n",
       "  <tbody>\n",
       "    <tr>\n",
       "      <th>27795</th>\n",
       "      <td>KLAX</td>\n",
       "      <td>large_airport</td>\n",
       "      <td>Los Angeles International Airport</td>\n",
       "      <td>125.0</td>\n",
       "      <td>NaN</td>\n",
       "      <td>US</td>\n",
       "      <td>US-CA</td>\n",
       "      <td>Los Angeles</td>\n",
       "      <td>KLAX</td>\n",
       "      <td>LAX</td>\n",
       "      <td>LAX</td>\n",
       "      <td>-118.4079971, 33.94250107</td>\n",
       "    </tr>\n",
       "  </tbody>\n",
       "</table>\n",
       "</div>"
      ],
      "text/plain": [
       "      ident           type                               name  elevation_ft  \\\n",
       "27795  KLAX  large_airport  Los Angeles International Airport         125.0   \n",
       "\n",
       "      continent iso_country iso_region municipality gps_code iata_code  \\\n",
       "27795       NaN          US      US-CA  Los Angeles     KLAX       LAX   \n",
       "\n",
       "      local_code                coordinates  \n",
       "27795        LAX  -118.4079971, 33.94250107  "
      ]
     },
     "execution_count": 55,
     "metadata": {},
     "output_type": "execute_result"
    }
   ],
   "source": [
    "df_us_airport.query(\"iata_code == 'LAX'\")"
   ]
  },
  {
   "cell_type": "code",
   "execution_count": 56,
   "metadata": {
    "editable": true
   },
   "outputs": [
    {
     "data": {
      "text/html": [
       "<div>\n",
       "<style scoped>\n",
       "    .dataframe tbody tr th:only-of-type {\n",
       "        vertical-align: middle;\n",
       "    }\n",
       "\n",
       "    .dataframe tbody tr th {\n",
       "        vertical-align: top;\n",
       "    }\n",
       "\n",
       "    .dataframe thead th {\n",
       "        text-align: right;\n",
       "    }\n",
       "</style>\n",
       "<table border=\"1\" class=\"dataframe\">\n",
       "  <thead>\n",
       "    <tr style=\"text-align: right;\">\n",
       "      <th></th>\n",
       "      <th>ident</th>\n",
       "      <th>type</th>\n",
       "      <th>name</th>\n",
       "      <th>elevation_ft</th>\n",
       "      <th>continent</th>\n",
       "      <th>iso_country</th>\n",
       "      <th>iso_region</th>\n",
       "      <th>municipality</th>\n",
       "      <th>gps_code</th>\n",
       "      <th>iata_code</th>\n",
       "      <th>local_code</th>\n",
       "      <th>coordinates</th>\n",
       "    </tr>\n",
       "  </thead>\n",
       "  <tbody>\n",
       "    <tr>\n",
       "      <th>17551</th>\n",
       "      <td>DNMM</td>\n",
       "      <td>large_airport</td>\n",
       "      <td>Murtala Muhammed International Airport</td>\n",
       "      <td>135.0</td>\n",
       "      <td>AF</td>\n",
       "      <td>NG</td>\n",
       "      <td>NG-LA</td>\n",
       "      <td>Lagos</td>\n",
       "      <td>DNMM</td>\n",
       "      <td>LOS</td>\n",
       "      <td>NaN</td>\n",
       "      <td>3.321160078048706, 6.5773701667785645</td>\n",
       "    </tr>\n",
       "    <tr>\n",
       "      <th>34652</th>\n",
       "      <td>MX-0438</td>\n",
       "      <td>small_airport</td>\n",
       "      <td>Los Charcos Airstrip</td>\n",
       "      <td>8879.0</td>\n",
       "      <td>NaN</td>\n",
       "      <td>MX</td>\n",
       "      <td>MX-DUR</td>\n",
       "      <td>Mezquital</td>\n",
       "      <td>NaN</td>\n",
       "      <td>NaN</td>\n",
       "      <td>LOS</td>\n",
       "      <td>-104.293973, 23.000115</td>\n",
       "    </tr>\n",
       "  </tbody>\n",
       "</table>\n",
       "</div>"
      ],
      "text/plain": [
       "         ident           type                                    name  \\\n",
       "17551     DNMM  large_airport  Murtala Muhammed International Airport   \n",
       "34652  MX-0438  small_airport                    Los Charcos Airstrip   \n",
       "\n",
       "       elevation_ft continent iso_country iso_region municipality gps_code  \\\n",
       "17551         135.0        AF          NG      NG-LA        Lagos     DNMM   \n",
       "34652        8879.0       NaN          MX     MX-DUR    Mezquital      NaN   \n",
       "\n",
       "      iata_code local_code                            coordinates  \n",
       "17551       LOS        NaN  3.321160078048706, 6.5773701667785645  \n",
       "34652       NaN        LOS                 -104.293973, 23.000115  "
      ]
     },
     "execution_count": 56,
     "metadata": {},
     "output_type": "execute_result"
    }
   ],
   "source": [
    "df_airport.query(\"iata_code == 'LOS' or local_code == 'LOS' or gps_code == 'LOS' or ident == 'LOS'\")"
   ]
  },
  {
   "cell_type": "code",
   "execution_count": 57,
   "metadata": {
    "editable": true
   },
   "outputs": [
    {
     "data": {
      "text/html": [
       "<div>\n",
       "<style scoped>\n",
       "    .dataframe tbody tr th:only-of-type {\n",
       "        vertical-align: middle;\n",
       "    }\n",
       "\n",
       "    .dataframe tbody tr th {\n",
       "        vertical-align: top;\n",
       "    }\n",
       "\n",
       "    .dataframe thead th {\n",
       "        text-align: right;\n",
       "    }\n",
       "</style>\n",
       "<table border=\"1\" class=\"dataframe\">\n",
       "  <thead>\n",
       "    <tr style=\"text-align: right;\">\n",
       "      <th></th>\n",
       "      <th>ident</th>\n",
       "      <th>type</th>\n",
       "      <th>name</th>\n",
       "      <th>elevation_ft</th>\n",
       "      <th>continent</th>\n",
       "      <th>iso_country</th>\n",
       "      <th>iso_region</th>\n",
       "      <th>municipality</th>\n",
       "      <th>gps_code</th>\n",
       "      <th>iata_code</th>\n",
       "      <th>local_code</th>\n",
       "      <th>coordinates</th>\n",
       "    </tr>\n",
       "  </thead>\n",
       "  <tbody>\n",
       "  </tbody>\n",
       "</table>\n",
       "</div>"
      ],
      "text/plain": [
       "Empty DataFrame\n",
       "Columns: [ident, type, name, elevation_ft, continent, iso_country, iso_region, municipality, gps_code, iata_code, local_code, coordinates]\n",
       "Index: []"
      ]
     },
     "execution_count": 57,
     "metadata": {},
     "output_type": "execute_result"
    }
   ],
   "source": [
    "df_us_airport.query(\"iata_code == 'LOS' or local_code == 'LOS' or gps_code == 'LOS' or ident == 'LOS'\")"
   ]
  },
  {
   "cell_type": "code",
   "execution_count": 58,
   "metadata": {
    "editable": true
   },
   "outputs": [
    {
     "name": "stdout",
     "output_type": "stream",
     "text": [
      "(68, 12)\n"
     ]
    },
    {
     "data": {
      "text/html": [
       "<div>\n",
       "<style scoped>\n",
       "    .dataframe tbody tr th:only-of-type {\n",
       "        vertical-align: middle;\n",
       "    }\n",
       "\n",
       "    .dataframe tbody tr th {\n",
       "        vertical-align: top;\n",
       "    }\n",
       "\n",
       "    .dataframe thead th {\n",
       "        text-align: right;\n",
       "    }\n",
       "</style>\n",
       "<table border=\"1\" class=\"dataframe\">\n",
       "  <thead>\n",
       "    <tr style=\"text-align: right;\">\n",
       "      <th></th>\n",
       "      <th>ident</th>\n",
       "      <th>type</th>\n",
       "      <th>name</th>\n",
       "      <th>elevation_ft</th>\n",
       "      <th>continent</th>\n",
       "      <th>iso_country</th>\n",
       "      <th>iso_region</th>\n",
       "      <th>municipality</th>\n",
       "      <th>gps_code</th>\n",
       "      <th>iata_code</th>\n",
       "      <th>local_code</th>\n",
       "      <th>coordinates</th>\n",
       "    </tr>\n",
       "  </thead>\n",
       "  <tbody>\n",
       "    <tr>\n",
       "      <th>71</th>\n",
       "      <td>01CN</td>\n",
       "      <td>heliport</td>\n",
       "      <td>Los Angeles County Sheriff's Department Heliport</td>\n",
       "      <td>300.0</td>\n",
       "      <td>NaN</td>\n",
       "      <td>US</td>\n",
       "      <td>US-CA</td>\n",
       "      <td>Los Angeles</td>\n",
       "      <td>01CN</td>\n",
       "      <td>NaN</td>\n",
       "      <td>01CN</td>\n",
       "      <td>-118.15399932861328, 34.03779983520508</td>\n",
       "    </tr>\n",
       "    <tr>\n",
       "      <th>639</th>\n",
       "      <td>0CA0</td>\n",
       "      <td>closed</td>\n",
       "      <td>Drew Medical Center Heliport</td>\n",
       "      <td>180.0</td>\n",
       "      <td>NaN</td>\n",
       "      <td>US</td>\n",
       "      <td>US-CA</td>\n",
       "      <td>Los Angeles</td>\n",
       "      <td>NaN</td>\n",
       "      <td>NaN</td>\n",
       "      <td>NaN</td>\n",
       "      <td>-118.241997, 33.923302</td>\n",
       "    </tr>\n",
       "    <tr>\n",
       "      <th>641</th>\n",
       "      <td>0CA2</td>\n",
       "      <td>heliport</td>\n",
       "      <td>Va Greater Los Angeles Health Care Center Heli...</td>\n",
       "      <td>294.0</td>\n",
       "      <td>NaN</td>\n",
       "      <td>US</td>\n",
       "      <td>US-CA</td>\n",
       "      <td>West Los Angeles</td>\n",
       "      <td>0CA2</td>\n",
       "      <td>NaN</td>\n",
       "      <td>0CA2</td>\n",
       "      <td>-118.45600128173828, 34.049198150634766</td>\n",
       "    </tr>\n",
       "    <tr>\n",
       "      <th>666</th>\n",
       "      <td>0CL7</td>\n",
       "      <td>heliport</td>\n",
       "      <td>Good Samaritan Hospital Heliport</td>\n",
       "      <td>473.0</td>\n",
       "      <td>NaN</td>\n",
       "      <td>US</td>\n",
       "      <td>US-CA</td>\n",
       "      <td>Los Angeles</td>\n",
       "      <td>0CL7</td>\n",
       "      <td>NaN</td>\n",
       "      <td>0CL7</td>\n",
       "      <td>-118.264967, 34.054901</td>\n",
       "    </tr>\n",
       "    <tr>\n",
       "      <th>1459</th>\n",
       "      <td>14L</td>\n",
       "      <td>heliport</td>\n",
       "      <td>Devonshire Area Heliport</td>\n",
       "      <td>1012.0</td>\n",
       "      <td>NaN</td>\n",
       "      <td>US</td>\n",
       "      <td>US-CA</td>\n",
       "      <td>Los Angeles</td>\n",
       "      <td>14L</td>\n",
       "      <td>NaN</td>\n",
       "      <td>14L</td>\n",
       "      <td>-118.53099822998047, 34.256900787353516</td>\n",
       "    </tr>\n",
       "  </tbody>\n",
       "</table>\n",
       "</div>"
      ],
      "text/plain": [
       "     ident      type                                               name  \\\n",
       "71    01CN  heliport   Los Angeles County Sheriff's Department Heliport   \n",
       "639   0CA0    closed                       Drew Medical Center Heliport   \n",
       "641   0CA2  heliport  Va Greater Los Angeles Health Care Center Heli...   \n",
       "666   0CL7  heliport                   Good Samaritan Hospital Heliport   \n",
       "1459   14L  heliport                           Devonshire Area Heliport   \n",
       "\n",
       "      elevation_ft continent iso_country iso_region      municipality  \\\n",
       "71           300.0       NaN          US      US-CA       Los Angeles   \n",
       "639          180.0       NaN          US      US-CA       Los Angeles   \n",
       "641          294.0       NaN          US      US-CA  West Los Angeles   \n",
       "666          473.0       NaN          US      US-CA       Los Angeles   \n",
       "1459        1012.0       NaN          US      US-CA       Los Angeles   \n",
       "\n",
       "     gps_code iata_code local_code                              coordinates  \n",
       "71       01CN       NaN       01CN   -118.15399932861328, 34.03779983520508  \n",
       "639       NaN       NaN        NaN                   -118.241997, 33.923302  \n",
       "641      0CA2       NaN       0CA2  -118.45600128173828, 34.049198150634766  \n",
       "666      0CL7       NaN       0CL7                   -118.264967, 34.054901  \n",
       "1459      14L       NaN        14L  -118.53099822998047, 34.256900787353516  "
      ]
     },
     "execution_count": 58,
     "metadata": {},
     "output_type": "execute_result"
    }
   ],
   "source": [
    "airports_la_municipality = df_us_airport[df_us_airport.municipality.notnull() & df_us_airport.municipality.str.upper().str.contains(\"LOS ANGELES\")]\n",
    "print(airports_la_municipality.shape)\n",
    "airports_la_municipality.head(5)"
   ]
  },
  {
   "cell_type": "markdown",
   "metadata": {
    "editable": true
   },
   "source": [
    "**US City Demographic**"
   ]
  },
  {
   "cell_type": "code",
   "execution_count": 59,
   "metadata": {
    "editable": true
   },
   "outputs": [
    {
     "data": {
      "text/html": [
       "<div>\n",
       "<style scoped>\n",
       "    .dataframe tbody tr th:only-of-type {\n",
       "        vertical-align: middle;\n",
       "    }\n",
       "\n",
       "    .dataframe tbody tr th {\n",
       "        vertical-align: top;\n",
       "    }\n",
       "\n",
       "    .dataframe thead th {\n",
       "        text-align: right;\n",
       "    }\n",
       "</style>\n",
       "<table border=\"1\" class=\"dataframe\">\n",
       "  <thead>\n",
       "    <tr style=\"text-align: right;\">\n",
       "      <th></th>\n",
       "      <th>City</th>\n",
       "      <th>State</th>\n",
       "      <th>Median Age</th>\n",
       "      <th>Male Population</th>\n",
       "      <th>Female Population</th>\n",
       "      <th>Total Population</th>\n",
       "      <th>Number of Veterans</th>\n",
       "      <th>Foreign-born</th>\n",
       "      <th>Average Household Size</th>\n",
       "      <th>State Code</th>\n",
       "      <th>Race</th>\n",
       "      <th>Count</th>\n",
       "    </tr>\n",
       "  </thead>\n",
       "  <tbody>\n",
       "    <tr>\n",
       "      <th>0</th>\n",
       "      <td>Silver Spring</td>\n",
       "      <td>Maryland</td>\n",
       "      <td>33.8</td>\n",
       "      <td>40601.0</td>\n",
       "      <td>41862.0</td>\n",
       "      <td>82463</td>\n",
       "      <td>1562.0</td>\n",
       "      <td>30908.0</td>\n",
       "      <td>2.60</td>\n",
       "      <td>MD</td>\n",
       "      <td>Hispanic or Latino</td>\n",
       "      <td>25924</td>\n",
       "    </tr>\n",
       "    <tr>\n",
       "      <th>1</th>\n",
       "      <td>Quincy</td>\n",
       "      <td>Massachusetts</td>\n",
       "      <td>41.0</td>\n",
       "      <td>44129.0</td>\n",
       "      <td>49500.0</td>\n",
       "      <td>93629</td>\n",
       "      <td>4147.0</td>\n",
       "      <td>32935.0</td>\n",
       "      <td>2.39</td>\n",
       "      <td>MA</td>\n",
       "      <td>White</td>\n",
       "      <td>58723</td>\n",
       "    </tr>\n",
       "    <tr>\n",
       "      <th>2</th>\n",
       "      <td>Hoover</td>\n",
       "      <td>Alabama</td>\n",
       "      <td>38.5</td>\n",
       "      <td>38040.0</td>\n",
       "      <td>46799.0</td>\n",
       "      <td>84839</td>\n",
       "      <td>4819.0</td>\n",
       "      <td>8229.0</td>\n",
       "      <td>2.58</td>\n",
       "      <td>AL</td>\n",
       "      <td>Asian</td>\n",
       "      <td>4759</td>\n",
       "    </tr>\n",
       "    <tr>\n",
       "      <th>3</th>\n",
       "      <td>Rancho Cucamonga</td>\n",
       "      <td>California</td>\n",
       "      <td>34.5</td>\n",
       "      <td>88127.0</td>\n",
       "      <td>87105.0</td>\n",
       "      <td>175232</td>\n",
       "      <td>5821.0</td>\n",
       "      <td>33878.0</td>\n",
       "      <td>3.18</td>\n",
       "      <td>CA</td>\n",
       "      <td>Black or African-American</td>\n",
       "      <td>24437</td>\n",
       "    </tr>\n",
       "    <tr>\n",
       "      <th>4</th>\n",
       "      <td>Newark</td>\n",
       "      <td>New Jersey</td>\n",
       "      <td>34.6</td>\n",
       "      <td>138040.0</td>\n",
       "      <td>143873.0</td>\n",
       "      <td>281913</td>\n",
       "      <td>5829.0</td>\n",
       "      <td>86253.0</td>\n",
       "      <td>2.73</td>\n",
       "      <td>NJ</td>\n",
       "      <td>White</td>\n",
       "      <td>76402</td>\n",
       "    </tr>\n",
       "  </tbody>\n",
       "</table>\n",
       "</div>"
      ],
      "text/plain": [
       "               City          State  Median Age  Male Population  \\\n",
       "0     Silver Spring       Maryland        33.8          40601.0   \n",
       "1            Quincy  Massachusetts        41.0          44129.0   \n",
       "2            Hoover        Alabama        38.5          38040.0   \n",
       "3  Rancho Cucamonga     California        34.5          88127.0   \n",
       "4            Newark     New Jersey        34.6         138040.0   \n",
       "\n",
       "   Female Population  Total Population  Number of Veterans  Foreign-born  \\\n",
       "0            41862.0             82463              1562.0       30908.0   \n",
       "1            49500.0             93629              4147.0       32935.0   \n",
       "2            46799.0             84839              4819.0        8229.0   \n",
       "3            87105.0            175232              5821.0       33878.0   \n",
       "4           143873.0            281913              5829.0       86253.0   \n",
       "\n",
       "   Average Household Size State Code                       Race  Count  \n",
       "0                    2.60         MD         Hispanic or Latino  25924  \n",
       "1                    2.39         MA                      White  58723  \n",
       "2                    2.58         AL                      Asian   4759  \n",
       "3                    3.18         CA  Black or African-American  24437  \n",
       "4                    2.73         NJ                      White  76402  "
      ]
     },
     "execution_count": 59,
     "metadata": {},
     "output_type": "execute_result"
    }
   ],
   "source": [
    "df_demo = pd.read_csv(DATA_RAW_US_DEMO_CSV, sep=\";\")\n",
    "df_demo.head(5)"
   ]
  },
  {
   "cell_type": "code",
   "execution_count": 60,
   "metadata": {
    "editable": true
   },
   "outputs": [
    {
     "name": "stdout",
     "output_type": "stream",
     "text": [
      "<class 'pandas.core.frame.DataFrame'>\n",
      "RangeIndex: 2891 entries, 0 to 2890\n",
      "Data columns (total 12 columns):\n",
      "City                      2891 non-null object\n",
      "State                     2891 non-null object\n",
      "Median Age                2891 non-null float64\n",
      "Male Population           2888 non-null float64\n",
      "Female Population         2888 non-null float64\n",
      "Total Population          2891 non-null int64\n",
      "Number of Veterans        2878 non-null float64\n",
      "Foreign-born              2878 non-null float64\n",
      "Average Household Size    2875 non-null float64\n",
      "State Code                2891 non-null object\n",
      "Race                      2891 non-null object\n",
      "Count                     2891 non-null int64\n",
      "dtypes: float64(6), int64(2), object(4)\n",
      "memory usage: 271.1+ KB\n"
     ]
    }
   ],
   "source": [
    "df_demo.info()"
   ]
  },
  {
   "cell_type": "code",
   "execution_count": 61,
   "metadata": {
    "editable": true
   },
   "outputs": [
    {
     "data": {
      "text/html": [
       "<div>\n",
       "<style scoped>\n",
       "    .dataframe tbody tr th:only-of-type {\n",
       "        vertical-align: middle;\n",
       "    }\n",
       "\n",
       "    .dataframe tbody tr th {\n",
       "        vertical-align: top;\n",
       "    }\n",
       "\n",
       "    .dataframe thead th {\n",
       "        text-align: right;\n",
       "    }\n",
       "</style>\n",
       "<table border=\"1\" class=\"dataframe\">\n",
       "  <thead>\n",
       "    <tr style=\"text-align: right;\">\n",
       "      <th></th>\n",
       "      <th>Median Age</th>\n",
       "      <th>Male Population</th>\n",
       "      <th>Female Population</th>\n",
       "      <th>Total Population</th>\n",
       "      <th>Number of Veterans</th>\n",
       "      <th>Foreign-born</th>\n",
       "      <th>Average Household Size</th>\n",
       "      <th>Count</th>\n",
       "    </tr>\n",
       "  </thead>\n",
       "  <tbody>\n",
       "    <tr>\n",
       "      <th>count</th>\n",
       "      <td>2891.000000</td>\n",
       "      <td>2.888000e+03</td>\n",
       "      <td>2.888000e+03</td>\n",
       "      <td>2.891000e+03</td>\n",
       "      <td>2878.000000</td>\n",
       "      <td>2.878000e+03</td>\n",
       "      <td>2875.000000</td>\n",
       "      <td>2.891000e+03</td>\n",
       "    </tr>\n",
       "    <tr>\n",
       "      <th>mean</th>\n",
       "      <td>35.494881</td>\n",
       "      <td>9.732843e+04</td>\n",
       "      <td>1.017696e+05</td>\n",
       "      <td>1.989668e+05</td>\n",
       "      <td>9367.832523</td>\n",
       "      <td>4.065360e+04</td>\n",
       "      <td>2.742543</td>\n",
       "      <td>4.896377e+04</td>\n",
       "    </tr>\n",
       "    <tr>\n",
       "      <th>std</th>\n",
       "      <td>4.401617</td>\n",
       "      <td>2.162999e+05</td>\n",
       "      <td>2.315646e+05</td>\n",
       "      <td>4.475559e+05</td>\n",
       "      <td>13211.219924</td>\n",
       "      <td>1.557491e+05</td>\n",
       "      <td>0.433291</td>\n",
       "      <td>1.443856e+05</td>\n",
       "    </tr>\n",
       "    <tr>\n",
       "      <th>min</th>\n",
       "      <td>22.900000</td>\n",
       "      <td>2.928100e+04</td>\n",
       "      <td>2.734800e+04</td>\n",
       "      <td>6.321500e+04</td>\n",
       "      <td>416.000000</td>\n",
       "      <td>8.610000e+02</td>\n",
       "      <td>2.000000</td>\n",
       "      <td>9.800000e+01</td>\n",
       "    </tr>\n",
       "    <tr>\n",
       "      <th>25%</th>\n",
       "      <td>32.800000</td>\n",
       "      <td>3.928900e+04</td>\n",
       "      <td>4.122700e+04</td>\n",
       "      <td>8.042900e+04</td>\n",
       "      <td>3739.000000</td>\n",
       "      <td>9.224000e+03</td>\n",
       "      <td>2.430000</td>\n",
       "      <td>3.435000e+03</td>\n",
       "    </tr>\n",
       "    <tr>\n",
       "      <th>50%</th>\n",
       "      <td>35.300000</td>\n",
       "      <td>5.234100e+04</td>\n",
       "      <td>5.380900e+04</td>\n",
       "      <td>1.067820e+05</td>\n",
       "      <td>5397.000000</td>\n",
       "      <td>1.882200e+04</td>\n",
       "      <td>2.650000</td>\n",
       "      <td>1.378000e+04</td>\n",
       "    </tr>\n",
       "    <tr>\n",
       "      <th>75%</th>\n",
       "      <td>38.000000</td>\n",
       "      <td>8.664175e+04</td>\n",
       "      <td>8.960400e+04</td>\n",
       "      <td>1.752320e+05</td>\n",
       "      <td>9368.000000</td>\n",
       "      <td>3.397175e+04</td>\n",
       "      <td>2.950000</td>\n",
       "      <td>5.444700e+04</td>\n",
       "    </tr>\n",
       "    <tr>\n",
       "      <th>max</th>\n",
       "      <td>70.500000</td>\n",
       "      <td>4.081698e+06</td>\n",
       "      <td>4.468707e+06</td>\n",
       "      <td>8.550405e+06</td>\n",
       "      <td>156961.000000</td>\n",
       "      <td>3.212500e+06</td>\n",
       "      <td>4.980000</td>\n",
       "      <td>3.835726e+06</td>\n",
       "    </tr>\n",
       "  </tbody>\n",
       "</table>\n",
       "</div>"
      ],
      "text/plain": [
       "        Median Age  Male Population  Female Population  Total Population  \\\n",
       "count  2891.000000     2.888000e+03       2.888000e+03      2.891000e+03   \n",
       "mean     35.494881     9.732843e+04       1.017696e+05      1.989668e+05   \n",
       "std       4.401617     2.162999e+05       2.315646e+05      4.475559e+05   \n",
       "min      22.900000     2.928100e+04       2.734800e+04      6.321500e+04   \n",
       "25%      32.800000     3.928900e+04       4.122700e+04      8.042900e+04   \n",
       "50%      35.300000     5.234100e+04       5.380900e+04      1.067820e+05   \n",
       "75%      38.000000     8.664175e+04       8.960400e+04      1.752320e+05   \n",
       "max      70.500000     4.081698e+06       4.468707e+06      8.550405e+06   \n",
       "\n",
       "       Number of Veterans  Foreign-born  Average Household Size         Count  \n",
       "count         2878.000000  2.878000e+03             2875.000000  2.891000e+03  \n",
       "mean          9367.832523  4.065360e+04                2.742543  4.896377e+04  \n",
       "std          13211.219924  1.557491e+05                0.433291  1.443856e+05  \n",
       "min            416.000000  8.610000e+02                2.000000  9.800000e+01  \n",
       "25%           3739.000000  9.224000e+03                2.430000  3.435000e+03  \n",
       "50%           5397.000000  1.882200e+04                2.650000  1.378000e+04  \n",
       "75%           9368.000000  3.397175e+04                2.950000  5.444700e+04  \n",
       "max         156961.000000  3.212500e+06                4.980000  3.835726e+06  "
      ]
     },
     "execution_count": 61,
     "metadata": {},
     "output_type": "execute_result"
    }
   ],
   "source": [
    "df_demo.describe()"
   ]
  },
  {
   "cell_type": "code",
   "execution_count": 62,
   "metadata": {
    "editable": true
   },
   "outputs": [
    {
     "data": {
      "text/plain": [
       "567"
      ]
     },
     "execution_count": 62,
     "metadata": {},
     "output_type": "execute_result"
    }
   ],
   "source": [
    "df_demo.City.nunique()"
   ]
  },
  {
   "cell_type": "code",
   "execution_count": 63,
   "metadata": {
    "editable": true
   },
   "outputs": [
    {
     "data": {
      "text/html": [
       "<div>\n",
       "<style scoped>\n",
       "    .dataframe tbody tr th:only-of-type {\n",
       "        vertical-align: middle;\n",
       "    }\n",
       "\n",
       "    .dataframe tbody tr th {\n",
       "        vertical-align: top;\n",
       "    }\n",
       "\n",
       "    .dataframe thead th {\n",
       "        text-align: right;\n",
       "    }\n",
       "</style>\n",
       "<table border=\"1\" class=\"dataframe\">\n",
       "  <thead>\n",
       "    <tr style=\"text-align: right;\">\n",
       "      <th></th>\n",
       "      <th>City</th>\n",
       "      <th>State</th>\n",
       "      <th>Median Age</th>\n",
       "      <th>Male Population</th>\n",
       "      <th>Female Population</th>\n",
       "      <th>Total Population</th>\n",
       "      <th>Number of Veterans</th>\n",
       "      <th>Foreign-born</th>\n",
       "      <th>Average Household Size</th>\n",
       "      <th>State Code</th>\n",
       "      <th>Race</th>\n",
       "      <th>Count</th>\n",
       "    </tr>\n",
       "  </thead>\n",
       "  <tbody>\n",
       "    <tr>\n",
       "      <th>1403</th>\n",
       "      <td>Abilene</td>\n",
       "      <td>Texas</td>\n",
       "      <td>31.3</td>\n",
       "      <td>65212.0</td>\n",
       "      <td>60664.0</td>\n",
       "      <td>125876</td>\n",
       "      <td>9367.0</td>\n",
       "      <td>8129.0</td>\n",
       "      <td>2.64</td>\n",
       "      <td>TX</td>\n",
       "      <td>Hispanic or Latino</td>\n",
       "      <td>33222</td>\n",
       "    </tr>\n",
       "    <tr>\n",
       "      <th>1533</th>\n",
       "      <td>Abilene</td>\n",
       "      <td>Texas</td>\n",
       "      <td>31.3</td>\n",
       "      <td>65212.0</td>\n",
       "      <td>60664.0</td>\n",
       "      <td>125876</td>\n",
       "      <td>9367.0</td>\n",
       "      <td>8129.0</td>\n",
       "      <td>2.64</td>\n",
       "      <td>TX</td>\n",
       "      <td>White</td>\n",
       "      <td>95487</td>\n",
       "    </tr>\n",
       "    <tr>\n",
       "      <th>2880</th>\n",
       "      <td>Abilene</td>\n",
       "      <td>Texas</td>\n",
       "      <td>31.3</td>\n",
       "      <td>65212.0</td>\n",
       "      <td>60664.0</td>\n",
       "      <td>125876</td>\n",
       "      <td>9367.0</td>\n",
       "      <td>8129.0</td>\n",
       "      <td>2.64</td>\n",
       "      <td>TX</td>\n",
       "      <td>Black or African-American</td>\n",
       "      <td>14449</td>\n",
       "    </tr>\n",
       "    <tr>\n",
       "      <th>2727</th>\n",
       "      <td>Abilene</td>\n",
       "      <td>Texas</td>\n",
       "      <td>31.3</td>\n",
       "      <td>65212.0</td>\n",
       "      <td>60664.0</td>\n",
       "      <td>125876</td>\n",
       "      <td>9367.0</td>\n",
       "      <td>8129.0</td>\n",
       "      <td>2.64</td>\n",
       "      <td>TX</td>\n",
       "      <td>Asian</td>\n",
       "      <td>2929</td>\n",
       "    </tr>\n",
       "    <tr>\n",
       "      <th>2325</th>\n",
       "      <td>Akron</td>\n",
       "      <td>Ohio</td>\n",
       "      <td>38.1</td>\n",
       "      <td>96886.0</td>\n",
       "      <td>100667.0</td>\n",
       "      <td>197553</td>\n",
       "      <td>12878.0</td>\n",
       "      <td>10024.0</td>\n",
       "      <td>2.24</td>\n",
       "      <td>OH</td>\n",
       "      <td>Hispanic or Latino</td>\n",
       "      <td>3684</td>\n",
       "    </tr>\n",
       "    <tr>\n",
       "      <th>2175</th>\n",
       "      <td>Akron</td>\n",
       "      <td>Ohio</td>\n",
       "      <td>38.1</td>\n",
       "      <td>96886.0</td>\n",
       "      <td>100667.0</td>\n",
       "      <td>197553</td>\n",
       "      <td>12878.0</td>\n",
       "      <td>10024.0</td>\n",
       "      <td>2.24</td>\n",
       "      <td>OH</td>\n",
       "      <td>Asian</td>\n",
       "      <td>9033</td>\n",
       "    </tr>\n",
       "    <tr>\n",
       "      <th>1972</th>\n",
       "      <td>Akron</td>\n",
       "      <td>Ohio</td>\n",
       "      <td>38.1</td>\n",
       "      <td>96886.0</td>\n",
       "      <td>100667.0</td>\n",
       "      <td>197553</td>\n",
       "      <td>12878.0</td>\n",
       "      <td>10024.0</td>\n",
       "      <td>2.24</td>\n",
       "      <td>OH</td>\n",
       "      <td>American Indian and Alaska Native</td>\n",
       "      <td>1845</td>\n",
       "    </tr>\n",
       "    <tr>\n",
       "      <th>1100</th>\n",
       "      <td>Akron</td>\n",
       "      <td>Ohio</td>\n",
       "      <td>38.1</td>\n",
       "      <td>96886.0</td>\n",
       "      <td>100667.0</td>\n",
       "      <td>197553</td>\n",
       "      <td>12878.0</td>\n",
       "      <td>10024.0</td>\n",
       "      <td>2.24</td>\n",
       "      <td>OH</td>\n",
       "      <td>White</td>\n",
       "      <td>129192</td>\n",
       "    </tr>\n",
       "    <tr>\n",
       "      <th>554</th>\n",
       "      <td>Alafaya</td>\n",
       "      <td>Florida</td>\n",
       "      <td>33.5</td>\n",
       "      <td>39504.0</td>\n",
       "      <td>45760.0</td>\n",
       "      <td>85264</td>\n",
       "      <td>4176.0</td>\n",
       "      <td>15842.0</td>\n",
       "      <td>2.94</td>\n",
       "      <td>FL</td>\n",
       "      <td>Asian</td>\n",
       "      <td>10336</td>\n",
       "    </tr>\n",
       "    <tr>\n",
       "      <th>1868</th>\n",
       "      <td>Alafaya</td>\n",
       "      <td>Florida</td>\n",
       "      <td>33.5</td>\n",
       "      <td>39504.0</td>\n",
       "      <td>45760.0</td>\n",
       "      <td>85264</td>\n",
       "      <td>4176.0</td>\n",
       "      <td>15842.0</td>\n",
       "      <td>2.94</td>\n",
       "      <td>FL</td>\n",
       "      <td>Black or African-American</td>\n",
       "      <td>6577</td>\n",
       "    </tr>\n",
       "  </tbody>\n",
       "</table>\n",
       "</div>"
      ],
      "text/plain": [
       "         City    State  Median Age  Male Population  Female Population  \\\n",
       "1403  Abilene    Texas        31.3          65212.0            60664.0   \n",
       "1533  Abilene    Texas        31.3          65212.0            60664.0   \n",
       "2880  Abilene    Texas        31.3          65212.0            60664.0   \n",
       "2727  Abilene    Texas        31.3          65212.0            60664.0   \n",
       "2325    Akron     Ohio        38.1          96886.0           100667.0   \n",
       "2175    Akron     Ohio        38.1          96886.0           100667.0   \n",
       "1972    Akron     Ohio        38.1          96886.0           100667.0   \n",
       "1100    Akron     Ohio        38.1          96886.0           100667.0   \n",
       "554   Alafaya  Florida        33.5          39504.0            45760.0   \n",
       "1868  Alafaya  Florida        33.5          39504.0            45760.0   \n",
       "\n",
       "      Total Population  Number of Veterans  Foreign-born  \\\n",
       "1403            125876              9367.0        8129.0   \n",
       "1533            125876              9367.0        8129.0   \n",
       "2880            125876              9367.0        8129.0   \n",
       "2727            125876              9367.0        8129.0   \n",
       "2325            197553             12878.0       10024.0   \n",
       "2175            197553             12878.0       10024.0   \n",
       "1972            197553             12878.0       10024.0   \n",
       "1100            197553             12878.0       10024.0   \n",
       "554              85264              4176.0       15842.0   \n",
       "1868             85264              4176.0       15842.0   \n",
       "\n",
       "      Average Household Size State Code                               Race  \\\n",
       "1403                    2.64         TX                 Hispanic or Latino   \n",
       "1533                    2.64         TX                              White   \n",
       "2880                    2.64         TX          Black or African-American   \n",
       "2727                    2.64         TX                              Asian   \n",
       "2325                    2.24         OH                 Hispanic or Latino   \n",
       "2175                    2.24         OH                              Asian   \n",
       "1972                    2.24         OH  American Indian and Alaska Native   \n",
       "1100                    2.24         OH                              White   \n",
       "554                     2.94         FL                              Asian   \n",
       "1868                    2.94         FL          Black or African-American   \n",
       "\n",
       "       Count  \n",
       "1403   33222  \n",
       "1533   95487  \n",
       "2880   14449  \n",
       "2727    2929  \n",
       "2325    3684  \n",
       "2175    9033  \n",
       "1972    1845  \n",
       "1100  129192  \n",
       "554    10336  \n",
       "1868    6577  "
      ]
     },
     "execution_count": 63,
     "metadata": {},
     "output_type": "execute_result"
    }
   ],
   "source": [
    "df_demo[df_demo.City.duplicated()].sort_values(by=\"City\").head(10)"
   ]
  },
  {
   "cell_type": "code",
   "execution_count": 64,
   "metadata": {
    "editable": true
   },
   "outputs": [
    {
     "data": {
      "text/plain": [
       "{'AK', 'DE', 'MT', 'ND', 'SD'}"
      ]
     },
     "execution_count": 64,
     "metadata": {},
     "output_type": "execute_result"
    }
   ],
   "source": [
    "{v for v in df_demo[\"State Code\"].unique() if v not in i94addr_unique_sample}"
   ]
  },
  {
   "cell_type": "code",
   "execution_count": 65,
   "metadata": {
    "editable": true
   },
   "outputs": [
    {
     "data": {
      "text/plain": [
       "8738"
      ]
     },
     "execution_count": 65,
     "metadata": {},
     "output_type": "execute_result"
    }
   ],
   "source": [
    "airport_uniq_municipality = df_us_airport[df_us_airport.municipality.notnull() & df_us_airport.municipality.str.upper()].municipality.unique()\n",
    "len(airport_uniq_municipality)"
   ]
  },
  {
   "cell_type": "code",
   "execution_count": 66,
   "metadata": {
    "editable": true
   },
   "outputs": [
    {
     "data": {
      "text/plain": [
       "((567,), 477)"
      ]
     },
     "execution_count": 66,
     "metadata": {},
     "output_type": "execute_result"
    }
   ],
   "source": [
    "df_demo_uniq_city = df_demo.City.drop_duplicates()\n",
    "df_demo_uniq_city.shape, df_demo_uniq_city.isin(airport_uniq_municipality).sum()"
   ]
  },
  {
   "cell_type": "markdown",
   "metadata": {
    "editable": true
   },
   "source": [
    "<a id='cleaning'></a>\n",
    "### 3.2. Cleaning Data\n",
    "\n",
    "The following issues for each dataset have been identified and will be cleaned.\n",
    "   \n",
    "**I94 Immigration**\n",
    "1. Process the immigration dataset data dictionary and store for each column a Python dictonary as json file to improve readability and programmatic accessibility\n",
    "1. Select only relevant columns as defined by the project scope and rename the columns to improve readability and programmatic accessibility (apply snake case) \n",
    "1. Set proper data types for each column, e.g. datetime, int\n",
    "1. Compute the missing US state codes based on the port_id and data dictionary\n",
    "1. Compute the city name based on the port_id and data dictionary\n",
    "1. Drop duplicates\n",
    "1. Store a cleaned version of the dataset partioned by `year`, `month` and `state_code`\n",
    "\n",
    "**World Temperature**\n",
    "1. The immigration data provided contains values for the year 2016. For 2016 no temparature data for cities in the United States is available. Hence, the temparature data will not be further processed and considered.\n",
    "\n",
    "**Airport Codes**\n",
    "1. Based on `port_id` of immigration data, the mapping to the different Airport codes seems not to match and might lead to false positives. Especially the columns `ident` and `gps_code` not seem to be suitable for mapping to `port_id` of immigration data, so they will be dropped. Since, the immigration data dictionary now has been processed, try to map using the municipality as further assessment. Anyways, `municipality` will be kept, because the option to join with US city demographic data will be required. \n",
    "1. US `iso_region` not necessarily seem to map to each `state_code` in immigration and demograpics data, but let's still keep data for those states.\n",
    "1. Select only relevant columns as defined by the project scope  and rename the columns to improve readability and programmatic accessibility (apply snake case).\n",
    "1. Filter by Airport in the US and drop the column `iso_country`\n",
    "1. Remove the prefix `US-` from the `state_code` to simplify joining with immigration and demograpics data \n",
    "1. Store the values of `municipality` in upper case to simplify joining with immigration data \n",
    "1. Drop duplicates\n",
    "1. Store a cleaned version of the dataset partioned by `state_code` and `municipality`\n",
    "\n",
    "**US City Demographic**\n",
    "1. Since, the immigration data dictionary now has been processed and immigration city names exist, try to map the us demographic `City` as further assessment. Anyways, `City` will be kept, because the option to join with US immigration `city` and airport `municipality` will be required.\n",
    "1. Select only relevant columns as defined by the project scope and rename the columns to improve readability and programmatic accessibility (apply snake case).\n",
    "1. The data seems to be grouped by `Race` and the `Count` depends on race. Everything else is duplicated, which can be dropped, because `Race` related data is out of scope.\n",
    "1. Store the values of `city` in upper case to simplify joining with immigration and airport data  \n",
    "1. Store a cleaned version of the dataset partioned by `state_code`\n",
    "\n",
    "<a id='c-immigration'></a>\n",
    "#### 3.2.1. I94 Immigration"
   ]
  },
  {
   "cell_type": "markdown",
   "metadata": {
    "editable": true
   },
   "source": [
    "Clean the immigration data dictionary"
   ]
  },
  {
   "cell_type": "code",
   "execution_count": 67,
   "metadata": {
    "editable": true
   },
   "outputs": [],
   "source": [
    "def parse_label_values(raw_values):\n",
    "    values = dict()\n",
    "    for v in raw_values.split(\"\\n\"):\n",
    "        if \"=\" not in v:\n",
    "            continue\n",
    "        key_val = v.replace(\"\\\"\",\"\").replace(\"'\",\"\").strip().split(\"=\")\n",
    "        try:\n",
    "            key = int(key_val[0].strip())\n",
    "        except Exception as e:\n",
    "            key = key_val[0].strip()\n",
    "        values[key] = key_val[1].replace(\";\",\"\").strip()\n",
    "    return values "
   ]
  },
  {
   "cell_type": "code",
   "execution_count": 68,
   "metadata": {
    "editable": true
   },
   "outputs": [],
   "source": [
    "def get_key_by_value(d, value):\n",
    "    keys = [k for k, v in d.items() if v == value]\n",
    "    if len(keys) > 1:\n",
    "        raise(f\"Multiple keys found for value {value}\")\n",
    "    if not keys:\n",
    "        raise(f\"No key found for value {value}\")\n",
    "    return keys[0]"
   ]
  },
  {
   "cell_type": "code",
   "execution_count": 69,
   "metadata": {
    "editable": true
   },
   "outputs": [],
   "source": [
    "def compute_immigration_data_dictionary():\n",
    "    labels = dict()\n",
    "    for line in [l.strip() for l in immigration_labels.split(\"/*\")[1:]]:\n",
    "        match = re.match(r\"\\b[A-Z0-9]+\\b\", line)\n",
    "        if not match:\n",
    "            continue\n",
    "        values = dict()\n",
    "        split_by_value = [v.strip() for v in line.split(\"value \")]\n",
    "        split_by_colon = split_by_value[0].split(\":\")\n",
    "        if len(split_by_value) == 2:\n",
    "            values = parse_label_values(split_by_value[1])\n",
    "        if len(split_by_colon) == 2:\n",
    "            values = parse_label_values(split_by_colon[1])\n",
    "        if len(split_by_value) == 2 and len(split_by_colon) == 2:\n",
    "            raise Exception(\"ERROR: It's not expected that the source file contains values and a colon\")\n",
    "        if \"&\" in split_by_colon[0]:\n",
    "            label_desc = [\"_\".join([v.strip() for v in split_by_colon[0].replace(\"&\",\"\").split()][:2])] + [\" \".join(split_by_colon[0].split()[4:]).replace(\"*/\",\"\").strip()]\n",
    "        else:\n",
    "            label_desc = [split_by_colon[0].split()[0]] + [\" \".join(split_by_colon[0].split()[2:]).replace(\"*/\",\"\").strip()]\n",
    "        print(f\"\\nLabel: {label_desc[0]}\\nDesc: {label_desc[1]}\")\n",
    "        labels[label_desc[0]] = dict()\n",
    "        labels[label_desc[0]][\"desc\"] = label_desc[1]\n",
    "        labels[label_desc[0]][\"values\"] = values\n",
    "        if values:\n",
    "            print(f\"Max. 10 random values of {len(values)}: {list(values.items())[:10]}\")\n",
    "            with open(DATA_PROCESSED_IMMIGRATION_DATA_DICT / f\"{label_desc[0]}.json\", \"w\") as f:\n",
    "                json.dump(values, f)\n",
    "    return labels"
   ]
  },
  {
   "cell_type": "code",
   "execution_count": 70,
   "metadata": {
    "editable": true
   },
   "outputs": [
    {
     "name": "stdout",
     "output_type": "stream",
     "text": [
      "\n",
      "Label: I94YR\n",
      "Desc: 4 digit year\n",
      "\n",
      "Label: I94MON\n",
      "Desc: Numeric month\n",
      "\n",
      "Label: I94CIT_I94RES\n",
      "Desc: This format shows all the valid and invalid codes for processing\n",
      "Max. 10 random values of 289: [(582, 'MEXICO Air Sea, and Not Reported (I-94, no land arrivals)'), (236, 'AFGHANISTAN'), (101, 'ALBANIA'), (316, 'ALGERIA'), (102, 'ANDORRA'), (324, 'ANGOLA'), (529, 'ANGUILLA'), (518, 'ANTIGUA-BARBUDA'), (687, 'ARGENTINA'), (151, 'ARMENIA')]\n",
      "\n",
      "Label: I94PORT\n",
      "Desc: This format shows all the valid and invalid codes for processing\n",
      "Max. 10 random values of 660: [('ALC', 'ALCAN, AK'), ('ANC', 'ANCHORAGE, AK'), ('BAR', 'BAKER AAF - BAKER ISLAND, AK'), ('DAC', 'DALTONS CACHE, AK'), ('PIZ', 'DEW STATION PT LAY DEW, AK'), ('DTH', 'DUTCH HARBOR, AK'), ('EGL', 'EAGLE, AK'), ('FRB', 'FAIRBANKS, AK'), ('HOM', 'HOMER, AK'), ('HYD', 'HYDER, AK')]\n",
      "\n",
      "Label: ARRDATE\n",
      "Desc: the Arrival Date in the USA. It is a SAS date numeric field that a permament format has not been applied. Please apply whichever date format works for you.\n",
      "\n",
      "Label: I94MODE\n",
      "Desc: There are missing values as well as not reported (9)\n",
      "Max. 10 random values of 4: [(1, 'Air'), (2, 'Sea'), (3, 'Land'), (9, 'Not reported')]\n",
      "\n",
      "Label: I94ADDR\n",
      "Desc: There is lots of invalid codes in this variable and the list below shows what we have found to be valid, everything else goes into 'other'\n",
      "Max. 10 random values of 55: [('AL', 'ALABAMA'), ('AK', 'ALASKA'), ('AZ', 'ARIZONA'), ('AR', 'ARKANSAS'), ('CA', 'CALIFORNIA'), ('CO', 'COLORADO'), ('CT', 'CONNECTICUT'), ('DE', 'DELAWARE'), ('DC', 'DIST. OF COLUMBIA'), ('FL', 'FLORIDA')]\n",
      "\n",
      "Label: DEPDATE\n",
      "Desc: the Departure Date from the USA. It is a SAS date numeric field that a permament format has not been applied. Please apply whichever date format works for you.\n",
      "\n",
      "Label: I94BIR\n",
      "Desc: Age of Respondent in Years\n",
      "\n",
      "Label: I94VISA\n",
      "Desc: Visa codes collapsed into three categories\n",
      "Max. 10 random values of 3: [(1, 'Business'), (2, 'Pleasure'), (3, 'Student')]\n",
      "\n",
      "Label: COUNT\n",
      "Desc: Used for summary statistics\n",
      "\n",
      "Label: DTADFILE\n",
      "Desc: Character Date Field - Date added to I-94 Files - CIC does not use\n",
      "\n",
      "Label: VISAPOST\n",
      "Desc: Department of State where where Visa was issued - CIC does not use\n",
      "\n",
      "Label: OCCUP\n",
      "Desc: Occupation that will be performed in U.S. - CIC does not use\n",
      "\n",
      "Label: ENTDEPA\n",
      "Desc: Arrival Flag - admitted or paroled into the U.S. - CIC does not use\n",
      "\n",
      "Label: ENTDEPD\n",
      "Desc: Departure Flag - Departed, lost I-94 or is deceased - CIC does not use\n",
      "\n",
      "Label: ENTDEPU\n",
      "Desc: Update Flag - Either apprehended, overstayed, adjusted to perm residence - CIC does not use\n",
      "\n",
      "Label: MATFLAG\n",
      "Desc: Match flag - Match of arrival and departure records\n",
      "\n",
      "Label: BIRYEAR\n",
      "Desc: 4 digit year of birth\n",
      "\n",
      "Label: DTADDTO\n",
      "Desc: Character Date Field - Date to which admitted to U.S. (allowed to stay until) - CIC does not use\n",
      "\n",
      "Label: GENDER\n",
      "Desc: Non-immigrant sex\n",
      "\n",
      "Label: INSNUM\n",
      "Desc: INS number\n",
      "\n",
      "Label: AIRLINE\n",
      "Desc: Airline used to arrive in U.S.\n",
      "\n",
      "Label: ADMNUM\n",
      "Desc: Admission Number\n",
      "\n",
      "Label: FLTNO\n",
      "Desc: Flight number of Airline used to arrive in U.S.\n",
      "\n",
      "Label: VISATYPE\n",
      "Desc: Class of admission legally admitting the non-immigrant to temporarily stay in U.S.  run ;\n"
     ]
    }
   ],
   "source": [
    "labels = compute_immigration_data_dictionary()"
   ]
  },
  {
   "cell_type": "markdown",
   "metadata": {
    "editable": true
   },
   "source": [
    "Inspect the data dict results"
   ]
  },
  {
   "cell_type": "code",
   "execution_count": 71,
   "metadata": {
    "editable": true
   },
   "outputs": [
    {
     "data": {
      "text/plain": [
       "dict_keys(['I94YR', 'I94MON', 'I94CIT_I94RES', 'I94PORT', 'ARRDATE', 'I94MODE', 'I94ADDR', 'DEPDATE', 'I94BIR', 'I94VISA', 'COUNT', 'DTADFILE', 'VISAPOST', 'OCCUP', 'ENTDEPA', 'ENTDEPD', 'ENTDEPU', 'MATFLAG', 'BIRYEAR', 'DTADDTO', 'GENDER', 'INSNUM', 'AIRLINE', 'ADMNUM', 'FLTNO', 'VISATYPE'])"
      ]
     },
     "execution_count": 71,
     "metadata": {},
     "output_type": "execute_result"
    }
   ],
   "source": [
    "labels.keys()"
   ]
  },
  {
   "cell_type": "code",
   "execution_count": 72,
   "metadata": {
    "editable": true,
    "toggleable": true,
    "ulab": {
     "buttons": {
      "ulab-button-toggle-b5d87619": {
       "style": "primary"
      }
     }
    }
   },
   "outputs": [
    {
     "data": {
      "text/plain": [
       "{582: 'MEXICO Air Sea, and Not Reported (I-94, no land arrivals)',\n",
       " 236: 'AFGHANISTAN',\n",
       " 101: 'ALBANIA',\n",
       " 316: 'ALGERIA',\n",
       " 102: 'ANDORRA',\n",
       " 324: 'ANGOLA',\n",
       " 529: 'ANGUILLA',\n",
       " 518: 'ANTIGUA-BARBUDA',\n",
       " 687: 'ARGENTINA',\n",
       " 151: 'ARMENIA',\n",
       " 532: 'ARUBA',\n",
       " 438: 'AUSTRALIA',\n",
       " 103: 'AUSTRIA',\n",
       " 152: 'AZERBAIJAN',\n",
       " 512: 'BAHAMAS',\n",
       " 298: 'BAHRAIN',\n",
       " 274: 'BANGLADESH',\n",
       " 513: 'BARBADOS',\n",
       " 104: 'BELGIUM',\n",
       " 581: 'BELIZE',\n",
       " 386: 'BENIN',\n",
       " 509: 'BERMUDA',\n",
       " 153: 'BELARUS',\n",
       " 242: 'BHUTAN',\n",
       " 688: 'BOLIVIA',\n",
       " 717: 'BONAIRE, ST EUSTATIUS, SABA',\n",
       " 164: 'BOSNIA-HERZEGOVINA',\n",
       " 336: 'BOTSWANA',\n",
       " 689: 'BRAZIL',\n",
       " 525: 'BRITISH VIRGIN ISLANDS',\n",
       " 217: 'BRUNEI',\n",
       " 105: 'BULGARIA',\n",
       " 393: 'BURKINA FASO',\n",
       " 243: 'BURMA',\n",
       " 375: 'BURUNDI',\n",
       " 310: 'CAMEROON',\n",
       " 326: 'CAPE VERDE',\n",
       " 526: 'CAYMAN ISLANDS',\n",
       " 383: 'CENTRAL AFRICAN REPUBLIC',\n",
       " 384: 'CHAD',\n",
       " 690: 'CHILE',\n",
       " 245: 'CHINA, PRC',\n",
       " 721: 'CURACAO',\n",
       " 270: 'CHRISTMAS ISLAND',\n",
       " 271: 'COCOS ISLANDS',\n",
       " 691: 'COLOMBIA',\n",
       " 317: 'COMOROS',\n",
       " 385: 'CONGO',\n",
       " 467: 'COOK ISLANDS',\n",
       " 575: 'COSTA RICA',\n",
       " 165: 'CROATIA',\n",
       " 584: 'CUBA',\n",
       " 218: 'CYPRUS',\n",
       " 140: 'CZECH REPUBLIC',\n",
       " 723: 'FAROE ISLANDS (PART OF DENMARK)',\n",
       " 108: 'DENMARK',\n",
       " 322: 'DJIBOUTI',\n",
       " 519: 'DOMINICA',\n",
       " 585: 'DOMINICAN REPUBLIC',\n",
       " 240: 'EAST TIMOR',\n",
       " 692: 'ECUADOR',\n",
       " 368: 'EGYPT',\n",
       " 576: 'EL SALVADOR',\n",
       " 399: 'EQUATORIAL GUINEA',\n",
       " 372: 'ERITREA',\n",
       " 109: 'ESTONIA',\n",
       " 369: 'ETHIOPIA',\n",
       " 604: 'FALKLAND ISLANDS',\n",
       " 413: 'FIJI',\n",
       " 110: 'FINLAND',\n",
       " 111: 'FRANCE',\n",
       " 601: 'FRENCH GUIANA',\n",
       " 411: 'FRENCH POLYNESIA',\n",
       " 387: 'GABON',\n",
       " 338: 'GAMBIA',\n",
       " 758: 'GAZA STRIP',\n",
       " 154: 'GEORGIA',\n",
       " 112: 'GERMANY',\n",
       " 339: 'GHANA',\n",
       " 143: 'GIBRALTAR',\n",
       " 113: 'GREECE',\n",
       " 520: 'GRENADA',\n",
       " 507: 'GUADELOUPE',\n",
       " 577: 'GUATEMALA',\n",
       " 382: 'GUINEA',\n",
       " 327: 'GUINEA-BISSAU',\n",
       " 603: 'GUYANA',\n",
       " 586: 'HAITI',\n",
       " 726: 'HEARD AND MCDONALD IS.',\n",
       " 149: 'HOLY SEE/VATICAN',\n",
       " 528: 'HONDURAS',\n",
       " 206: 'HONG KONG',\n",
       " 114: 'HUNGARY',\n",
       " 115: 'ICELAND',\n",
       " 213: 'INDIA',\n",
       " 759: 'INDIAN OCEAN AREAS (FRENCH)',\n",
       " 729: 'INDIAN OCEAN TERRITORY',\n",
       " 204: 'INDONESIA',\n",
       " 249: 'IRAN',\n",
       " 250: 'IRAQ',\n",
       " 116: 'IRELAND',\n",
       " 251: 'ISRAEL',\n",
       " 117: 'ITALY',\n",
       " 388: 'IVORY COAST',\n",
       " 514: 'JAMAICA',\n",
       " 209: 'JAPAN',\n",
       " 253: 'JORDAN',\n",
       " 201: 'KAMPUCHEA',\n",
       " 155: 'KAZAKHSTAN',\n",
       " 340: 'KENYA',\n",
       " 414: 'KIRIBATI',\n",
       " 732: 'KOSOVO',\n",
       " 272: 'KUWAIT',\n",
       " 156: 'KYRGYZSTAN',\n",
       " 203: 'LAOS',\n",
       " 118: 'LATVIA',\n",
       " 255: 'LEBANON',\n",
       " 335: 'LESOTHO',\n",
       " 370: 'LIBERIA',\n",
       " 381: 'LIBYA',\n",
       " 119: 'LIECHTENSTEIN',\n",
       " 120: 'LITHUANIA',\n",
       " 121: 'LUXEMBOURG',\n",
       " 214: 'MACAU',\n",
       " 167: 'MACEDONIA',\n",
       " 320: 'MADAGASCAR',\n",
       " 345: 'MALAWI',\n",
       " 273: 'MALAYSIA',\n",
       " 220: 'MALDIVES',\n",
       " 392: 'MALI',\n",
       " 145: 'MALTA',\n",
       " 472: 'MARSHALL ISLANDS',\n",
       " 511: 'MARTINIQUE',\n",
       " 389: 'MAURITANIA',\n",
       " 342: 'MAURITIUS',\n",
       " 760: 'MAYOTTE (AFRICA - FRENCH)',\n",
       " 473: 'MICRONESIA, FED. STATES OF',\n",
       " 157: 'MOLDOVA',\n",
       " 122: 'MONACO',\n",
       " 299: 'MONGOLIA',\n",
       " 735: 'MONTENEGRO',\n",
       " 521: 'MONTSERRAT',\n",
       " 332: 'MOROCCO',\n",
       " 329: 'MOZAMBIQUE',\n",
       " 371: 'NAMIBIA',\n",
       " 440: 'NAURU',\n",
       " 257: 'NEPAL',\n",
       " 123: 'NETHERLANDS',\n",
       " 508: 'NETHERLANDS ANTILLES',\n",
       " 409: 'NEW CALEDONIA',\n",
       " 464: 'NEW ZEALAND',\n",
       " 579: 'NICARAGUA',\n",
       " 390: 'NIGER',\n",
       " 343: 'NIGERIA',\n",
       " 470: 'NIUE',\n",
       " 275: 'NORTH KOREA',\n",
       " 124: 'NORWAY',\n",
       " 256: 'OMAN',\n",
       " 258: 'PAKISTAN',\n",
       " 474: 'PALAU',\n",
       " 743: 'PALESTINE',\n",
       " 504: 'PANAMA',\n",
       " 441: 'PAPUA NEW GUINEA',\n",
       " 693: 'PARAGUAY',\n",
       " 694: 'PERU',\n",
       " 260: 'PHILIPPINES',\n",
       " 416: 'PITCAIRN ISLANDS',\n",
       " 107: 'POLAND',\n",
       " 126: 'PORTUGAL',\n",
       " 297: 'QATAR',\n",
       " 748: 'REPUBLIC OF SOUTH SUDAN',\n",
       " 321: 'REUNION',\n",
       " 127: 'ROMANIA',\n",
       " 158: 'RUSSIA',\n",
       " 376: 'RWANDA',\n",
       " 128: 'SAN MARINO',\n",
       " 330: 'SAO TOME AND PRINCIPE',\n",
       " 261: 'SAUDI ARABIA',\n",
       " 391: 'SENEGAL',\n",
       " 142: 'SERBIA AND MONTENEGRO',\n",
       " 745: 'SERBIA',\n",
       " 347: 'SEYCHELLES',\n",
       " 348: 'SIERRA LEONE',\n",
       " 207: 'SINGAPORE',\n",
       " 141: 'SLOVAKIA',\n",
       " 166: 'SLOVENIA',\n",
       " 412: 'SOLOMON ISLANDS',\n",
       " 397: 'SOMALIA',\n",
       " 373: 'SOUTH AFRICA',\n",
       " 276: 'SOUTH KOREA',\n",
       " 129: 'SPAIN',\n",
       " 244: 'SRI LANKA',\n",
       " 346: 'ST. HELENA',\n",
       " 522: 'ST. KITTS-NEVIS',\n",
       " 523: 'ST. LUCIA',\n",
       " 502: 'ST. PIERRE AND MIQUELON',\n",
       " 524: 'ST. VINCENT-GRENADINES',\n",
       " 716: 'SAINT BARTHELEMY',\n",
       " 736: 'SAINT MARTIN',\n",
       " 749: 'SAINT MAARTEN',\n",
       " 350: 'SUDAN',\n",
       " 602: 'SURINAME',\n",
       " 351: 'SWAZILAND',\n",
       " 130: 'SWEDEN',\n",
       " 131: 'SWITZERLAND',\n",
       " 262: 'SYRIA',\n",
       " 268: 'TAIWAN',\n",
       " 159: 'TAJIKISTAN',\n",
       " 353: 'TANZANIA',\n",
       " 263: 'THAILAND',\n",
       " 304: 'TOGO',\n",
       " 417: 'TONGA',\n",
       " 516: 'TRINIDAD AND TOBAGO',\n",
       " 323: 'TUNISIA',\n",
       " 264: 'TURKEY',\n",
       " 161: 'TURKMENISTAN',\n",
       " 527: 'TURKS AND CAICOS ISLANDS',\n",
       " 420: 'TUVALU',\n",
       " 352: 'UGANDA',\n",
       " 162: 'UKRAINE',\n",
       " 296: 'UNITED ARAB EMIRATES',\n",
       " 135: 'UNITED KINGDOM',\n",
       " 695: 'URUGUAY',\n",
       " 163: 'UZBEKISTAN',\n",
       " 410: 'VANUATU',\n",
       " 696: 'VENEZUELA',\n",
       " 266: 'VIETNAM',\n",
       " 469: 'WALLIS AND FUTUNA ISLANDS',\n",
       " 757: 'WEST INDIES (FRENCH)',\n",
       " 333: 'WESTERN SAHARA',\n",
       " 465: 'WESTERN SAMOA',\n",
       " 216: 'YEMEN',\n",
       " 139: 'YUGOSLAVIA',\n",
       " 301: 'ZAIRE',\n",
       " 344: 'ZAMBIA',\n",
       " 315: 'ZIMBABWE',\n",
       " 403: 'INVALID: AMERICAN SAMOA',\n",
       " 712: 'INVALID: ANTARCTICA',\n",
       " 700: 'INVALID: BORN ON BOARD SHIP',\n",
       " 719: 'INVALID: BOUVET ISLAND (ANTARCTICA/NORWAY TERR.)',\n",
       " 574: 'INVALID: CANADA',\n",
       " 720: 'INVALID: CANTON AND ENDERBURY ISLS',\n",
       " 106: 'INVALID: CZECHOSLOVAKIA',\n",
       " 739: 'INVALID: DRONNING MAUD LAND (ANTARCTICA-NORWAY)',\n",
       " 394: 'INVALID: FRENCH SOUTHERN AND ANTARCTIC',\n",
       " 501: 'INVALID: GREENLAND',\n",
       " 404: 'INVALID: GUAM',\n",
       " 730: 'INVALID: INTERNATIONAL WATERS',\n",
       " 731: 'INVALID: JOHNSON ISLAND',\n",
       " 471: 'INVALID: MARIANA ISLANDS, NORTHERN',\n",
       " 737: 'INVALID: MIDWAY ISLANDS',\n",
       " 753: 'INVALID: MINOR OUTLYING ISLANDS - USA',\n",
       " 740: 'INVALID: NEUTRAL ZONE (S. ARABIA/IRAQ)',\n",
       " 710: 'INVALID: NON-QUOTA IMMIGRANT',\n",
       " 505: 'INVALID: PUERTO RICO',\n",
       " 0: 'INVALID: STATELESS',\n",
       " 705: 'INVALID: STATELESS',\n",
       " 583: 'INVALID: UNITED STATES',\n",
       " 407: 'INVALID: UNITED STATES',\n",
       " 999: 'INVALID: UNKNOWN',\n",
       " 239: 'INVALID: UNKNOWN COUNTRY',\n",
       " 134: 'INVALID: USSR',\n",
       " 506: 'INVALID: U.S. VIRGIN ISLANDS',\n",
       " 755: 'INVALID: WAKE ISLAND',\n",
       " 311: 'Collapsed Tanzania (should not show)',\n",
       " 741: 'Collapsed Curacao (should not show)',\n",
       " 54: 'No Country Code (54)',\n",
       " 100: 'No Country Code (100)',\n",
       " 187: 'No Country Code (187)',\n",
       " 190: 'No Country Code (190)',\n",
       " 200: 'No Country Code (200)',\n",
       " 219: 'No Country Code (219)',\n",
       " 238: 'No Country Code (238)',\n",
       " 277: 'No Country Code (277)',\n",
       " 293: 'No Country Code (293)',\n",
       " 300: 'No Country Code (300)',\n",
       " 319: 'No Country Code (319)',\n",
       " 365: 'No Country Code (365)',\n",
       " 395: 'No Country Code (395)',\n",
       " 400: 'No Country Code (400)',\n",
       " 485: 'No Country Code (485)',\n",
       " 503: 'No Country Code (503)',\n",
       " 589: 'No Country Code (589)',\n",
       " 592: 'No Country Code (592)',\n",
       " 791: 'No Country Code (791)',\n",
       " 849: 'No Country Code (849)',\n",
       " 914: 'No Country Code (914)',\n",
       " 944: 'No Country Code (944)',\n",
       " 996: 'No Country Code (996)'}"
      ]
     },
     "execution_count": 72,
     "metadata": {},
     "output_type": "execute_result"
    }
   ],
   "source": [
    "i94cit_94res = labels.get(\"I94CIT_I94RES\").get(\"values\")\n",
    "i94cit_94res"
   ]
  },
  {
   "cell_type": "code",
   "execution_count": 73,
   "metadata": {
    "editable": true,
    "toggleable": true,
    "ulab": {
     "buttons": {
      "ulab-button-toggle-8268cbc7": {
       "style": "primary"
      }
     }
    }
   },
   "outputs": [
    {
     "data": {
      "text/plain": [
       "{'AL': 'ALABAMA',\n",
       " 'AK': 'ALASKA',\n",
       " 'AZ': 'ARIZONA',\n",
       " 'AR': 'ARKANSAS',\n",
       " 'CA': 'CALIFORNIA',\n",
       " 'CO': 'COLORADO',\n",
       " 'CT': 'CONNECTICUT',\n",
       " 'DE': 'DELAWARE',\n",
       " 'DC': 'DIST. OF COLUMBIA',\n",
       " 'FL': 'FLORIDA',\n",
       " 'GA': 'GEORGIA',\n",
       " 'GU': 'GUAM',\n",
       " 'HI': 'HAWAII',\n",
       " 'ID': 'IDAHO',\n",
       " 'IL': 'ILLINOIS',\n",
       " 'IN': 'INDIANA',\n",
       " 'IA': 'IOWA',\n",
       " 'KS': 'KANSAS',\n",
       " 'KY': 'KENTUCKY',\n",
       " 'LA': 'LOUISIANA',\n",
       " 'ME': 'MAINE',\n",
       " 'MD': 'MARYLAND',\n",
       " 'MA': 'MASSACHUSETTS',\n",
       " 'MI': 'MICHIGAN',\n",
       " 'MN': 'MINNESOTA',\n",
       " 'MS': 'MISSISSIPPI',\n",
       " 'MO': 'MISSOURI',\n",
       " 'MT': 'MONTANA',\n",
       " 'NC': 'N. CAROLINA',\n",
       " 'ND': 'N. DAKOTA',\n",
       " 'NE': 'NEBRASKA',\n",
       " 'NV': 'NEVADA',\n",
       " 'NH': 'NEW HAMPSHIRE',\n",
       " 'NJ': 'NEW JERSEY',\n",
       " 'NM': 'NEW MEXICO',\n",
       " 'NY': 'NEW YORK',\n",
       " 'OH': 'OHIO',\n",
       " 'OK': 'OKLAHOMA',\n",
       " 'OR': 'OREGON',\n",
       " 'PA': 'PENNSYLVANIA',\n",
       " 'PR': 'PUERTO RICO',\n",
       " 'RI': 'RHODE ISLAND',\n",
       " 'SC': 'S. CAROLINA',\n",
       " 'SD': 'S. DAKOTA',\n",
       " 'TN': 'TENNESSEE',\n",
       " 'TX': 'TEXAS',\n",
       " 'UT': 'UTAH',\n",
       " 'VT': 'VERMONT',\n",
       " 'VI': 'VIRGIN ISLANDS',\n",
       " 'VA': 'VIRGINIA',\n",
       " 'WV': 'W. VIRGINIA',\n",
       " 'WA': 'WASHINGTON',\n",
       " 'WI': 'WISCONSON',\n",
       " 'WY': 'WYOMING',\n",
       " 99: 'All Other Codes'}"
      ]
     },
     "execution_count": 73,
     "metadata": {},
     "output_type": "execute_result"
    }
   ],
   "source": [
    "i94addr = labels.get(\"I94ADDR\").get(\"values\")\n",
    "i94addr"
   ]
  },
  {
   "cell_type": "code",
   "execution_count": 74,
   "metadata": {
    "editable": true,
    "toggleable": true,
    "ulab": {
     "buttons": {
      "ulab-button-toggle-bfad5f8c": {
       "style": "primary"
      }
     }
    }
   },
   "outputs": [
    {
     "data": {
      "text/plain": [
       "{'ALC': 'ALCAN, AK',\n",
       " 'ANC': 'ANCHORAGE, AK',\n",
       " 'BAR': 'BAKER AAF - BAKER ISLAND, AK',\n",
       " 'DAC': 'DALTONS CACHE, AK',\n",
       " 'PIZ': 'DEW STATION PT LAY DEW, AK',\n",
       " 'DTH': 'DUTCH HARBOR, AK',\n",
       " 'EGL': 'EAGLE, AK',\n",
       " 'FRB': 'FAIRBANKS, AK',\n",
       " 'HOM': 'HOMER, AK',\n",
       " 'HYD': 'HYDER, AK',\n",
       " 'JUN': 'JUNEAU, AK',\n",
       " '5KE': 'KETCHIKAN, AK',\n",
       " 'KET': 'KETCHIKAN, AK',\n",
       " 'MOS': 'MOSES POINT INTERMEDIATE, AK',\n",
       " 'NIK': 'NIKISKI, AK',\n",
       " 'NOM': 'NOM, AK',\n",
       " 'PKC': 'POKER CREEK, AK',\n",
       " 'ORI': 'PORT LIONS SPB, AK',\n",
       " 'SKA': 'SKAGWAY, AK',\n",
       " 'SNP': 'ST. PAUL ISLAND, AK',\n",
       " 'TKI': 'TOKEEN, AK',\n",
       " 'WRA': 'WRANGELL, AK',\n",
       " 'HSV': 'MADISON COUNTY - HUNTSVILLE, AL',\n",
       " 'MOB': 'MOBILE, AL',\n",
       " 'LIA': 'LITTLE ROCK, AR (BPS)',\n",
       " 'ROG': 'ROGERS ARPT, AR',\n",
       " 'DOU': 'DOUGLAS, AZ',\n",
       " 'LUK': 'LUKEVILLE, AZ',\n",
       " 'MAP': 'MARIPOSA AZ',\n",
       " 'NAC': 'NACO, AZ',\n",
       " 'NOG': 'NOGALES, AZ',\n",
       " 'PHO': 'PHOENIX, AZ',\n",
       " 'POR': 'PORTAL, AZ',\n",
       " 'SLU': 'SAN LUIS, AZ',\n",
       " 'SAS': 'SASABE, AZ',\n",
       " 'TUC': 'TUCSON, AZ',\n",
       " 'YUI': 'YUMA, AZ',\n",
       " 'AND': 'ANDRADE, CA',\n",
       " 'BUR': 'BURBANK, CA',\n",
       " 'CAL': 'CALEXICO, CA',\n",
       " 'CAO': 'CAMPO, CA',\n",
       " 'FRE': 'FRESNO, CA',\n",
       " 'ICP': 'IMPERIAL COUNTY, CA',\n",
       " 'LNB': 'LONG BEACH, CA',\n",
       " 'LOS': 'LOS ANGELES, CA',\n",
       " 'BFL': 'MEADOWS FIELD - BAKERSFIELD, CA',\n",
       " 'OAK': 'OAKLAND, CA',\n",
       " 'ONT': 'ONTARIO, CA',\n",
       " 'OTM': 'OTAY MESA, CA',\n",
       " 'BLT': 'PACIFIC, HWY. STATION, CA',\n",
       " 'PSP': 'PALM SPRINGS, CA',\n",
       " 'SAC': 'SACRAMENTO, CA',\n",
       " 'SLS': 'SALINAS, CA (BPS)',\n",
       " 'SDP': 'SAN DIEGO, CA',\n",
       " 'SFR': 'SAN FRANCISCO, CA',\n",
       " 'SNJ': 'SAN JOSE, CA',\n",
       " 'SLO': 'SAN LUIS OBISPO, CA',\n",
       " 'SLI': 'SAN LUIS OBISPO, CA (BPS)',\n",
       " 'SPC': 'SAN PEDRO, CA',\n",
       " 'SYS': 'SAN YSIDRO, CA',\n",
       " 'SAA': 'SANTA ANA, CA',\n",
       " 'STO': 'STOCKTON, CA (BPS)',\n",
       " 'TEC': 'TECATE, CA',\n",
       " 'TRV': 'TRAVIS-AFB, CA',\n",
       " 'APA': 'ARAPAHOE COUNTY, CO',\n",
       " 'ASE': 'ASPEN, CO #ARPT',\n",
       " 'COS': 'COLORADO SPRINGS, CO',\n",
       " 'DEN': 'DENVER, CO',\n",
       " 'DRO': 'LA PLATA - DURANGO, CO',\n",
       " 'BDL': 'BRADLEY INTERNATIONAL, CT',\n",
       " 'BGC': 'BRIDGEPORT, CT',\n",
       " 'GRT': 'GROTON, CT',\n",
       " 'HAR': 'HARTFORD, CT',\n",
       " 'NWH': 'NEW HAVEN, CT',\n",
       " 'NWL': 'NEW LONDON, CT',\n",
       " 'TST': 'NEWINGTON DATA CENTER TEST, CT',\n",
       " 'WAS': 'WASHINGTON DC',\n",
       " 'DOV': 'DOVER AFB, DE',\n",
       " 'DVD': 'DOVER-AFB, DE',\n",
       " 'WLL': 'WILMINGTON, DE',\n",
       " 'BOC': 'BOCAGRANDE, FL',\n",
       " 'SRQ': 'BRADENTON - SARASOTA, FL',\n",
       " 'CAN': 'CAPE CANAVERAL, FL',\n",
       " 'DAB': 'DAYTONA BEACH INTERNATIONAL, FL',\n",
       " 'FRN': 'FERNANDINA, FL',\n",
       " 'FTL': 'FORT LAUDERDALE, FL',\n",
       " 'FMY': 'FORT MYERS, FL',\n",
       " 'FPF': 'FORT PIERCE, FL',\n",
       " 'HUR': 'HURLBURT FIELD, FL',\n",
       " 'GNV': 'J R ALISON MUNI - GAINESVILLE, FL',\n",
       " 'JAC': 'JACKSONVILLE, FL',\n",
       " 'KEY': 'KEY WEST, FL',\n",
       " 'LEE': 'LEESBURG MUNICIPAL AIRPORT, FL',\n",
       " 'MLB': 'MELBOURNE, FL',\n",
       " 'MIA': 'MIAMI, FL',\n",
       " 'APF': 'NAPLES, FL #ARPT',\n",
       " 'OPF': 'OPA LOCKA, FL',\n",
       " 'ORL': 'ORLANDO, FL',\n",
       " 'PAN': 'PANAMA CITY, FL',\n",
       " 'PEN': 'PENSACOLA, FL',\n",
       " 'PCF': 'PORT CANAVERAL, FL',\n",
       " 'PEV': 'PORT EVERGLADES, FL',\n",
       " 'PSJ': 'PORT ST JOE, FL',\n",
       " 'SFB': 'SANFORD, FL',\n",
       " 'SGJ': 'ST AUGUSTINE ARPT, FL',\n",
       " 'SAU': 'ST AUGUSTINE, FL',\n",
       " 'FPR': 'ST LUCIE COUNTY, FL',\n",
       " 'SPE': 'ST PETERSBURG, FL',\n",
       " 'TAM': 'TAMPA, FL',\n",
       " 'WPB': 'WEST PALM BEACH, FL',\n",
       " 'ATL': 'ATLANTA, GA',\n",
       " 'BRU': 'BRUNSWICK, GA',\n",
       " 'AGS': 'BUSH FIELD - AUGUSTA, GA',\n",
       " 'SAV': 'SAVANNAH, GA',\n",
       " 'AGA': 'AGANA, GU',\n",
       " 'HHW': 'HONOLULU, HI',\n",
       " 'OGG': 'KAHULUI - MAUI, HI',\n",
       " 'KOA': 'KEAHOLE-KONA, HI',\n",
       " 'LIH': 'LIHUE, HI',\n",
       " 'CID': 'CEDAR RAPIDS/IOWA CITY, IA',\n",
       " 'DSM': 'DES MOINES, IA',\n",
       " 'BOI': 'AIR TERM. (GOWEN FLD) BOISE, ID',\n",
       " 'EPI': 'EASTPORT, ID',\n",
       " 'IDA': 'FANNING FIELD - IDAHO FALLS, ID',\n",
       " 'PTL': 'PORTHILL, ID',\n",
       " 'SPI': 'CAPITAL - SPRINGFIELD, IL',\n",
       " 'CHI': 'CHICAGO, IL',\n",
       " 'DPA': 'DUPAGE COUNTY, IL',\n",
       " 'PIA': 'GREATER PEORIA, IL',\n",
       " 'RFD': 'GREATER ROCKFORD, IL',\n",
       " 'UGN': 'MEMORIAL - WAUKEGAN, IL',\n",
       " 'GAR': 'GARY, IN',\n",
       " 'HMM': 'HAMMOND, IN',\n",
       " 'INP': 'INDIANAPOLIS, IN',\n",
       " 'MRL': 'MERRILLVILLE, IN',\n",
       " 'SBN': 'SOUTH BEND, IN',\n",
       " 'ICT': 'MID-CONTINENT - WITCHITA, KS',\n",
       " 'LEX': 'BLUE GRASS - LEXINGTON, KY',\n",
       " 'LOU': 'LOUISVILLE, KY',\n",
       " 'BTN': 'BATON ROUGE, LA',\n",
       " 'LKC': 'LAKE CHARLES, LA',\n",
       " 'LAK': 'LAKE CHARLES, LA (BPS)',\n",
       " 'MLU': 'MONROE, LA',\n",
       " 'MGC': 'MORGAN CITY, LA',\n",
       " 'NOL': 'NEW ORLEANS, LA',\n",
       " 'BOS': 'BOSTON, MA',\n",
       " 'GLO': 'GLOUCESTER, MA',\n",
       " 'BED': 'HANSCOM FIELD - BEDFORD, MA',\n",
       " 'LYN': 'LYNDEN, WA',\n",
       " 'ADW': 'ANDREWS AFB, MD',\n",
       " 'BAL': 'BALTIMORE, MD',\n",
       " 'MKG': 'MUSKEGON, MD',\n",
       " 'PAX': 'PATUXENT RIVER, MD',\n",
       " 'BGM': 'BANGOR, ME',\n",
       " 'BOO': 'BOOTHBAY HARBOR, ME',\n",
       " 'BWM': 'BRIDGEWATER, ME',\n",
       " 'BCK': 'BUCKPORT, ME',\n",
       " 'CLS': 'CALAIS, ME',\n",
       " 'CRB': 'CARIBOU, ME',\n",
       " 'COB': 'COBURN GORE, ME',\n",
       " 'EST': 'EASTCOURT, ME',\n",
       " 'EPT': 'EASTPORT MUNICIPAL, ME',\n",
       " 'EPM': 'EASTPORT, ME',\n",
       " 'FOR': 'FOREST CITY, ME',\n",
       " 'FTF': 'FORT FAIRFIELD, ME',\n",
       " 'FTK': 'FORT KENT, ME',\n",
       " 'HML': 'HAMIIN, ME',\n",
       " 'HTM': 'HOULTON, ME',\n",
       " 'JKM': 'JACKMAN, ME',\n",
       " 'KAL': 'KALISPEL, MT',\n",
       " 'LIM': 'LIMESTONE, ME',\n",
       " 'LUB': 'LUBEC, ME',\n",
       " 'MAD': 'MADAWASKA, ME',\n",
       " 'POM': 'PORTLAND, ME',\n",
       " 'RGM': 'RANGELEY, ME (BPS)',\n",
       " 'SBR': 'SOUTH BREWER, ME',\n",
       " 'SRL': 'ST AURELIE, ME',\n",
       " 'SPA': 'ST PAMPILE, ME',\n",
       " 'VNB': 'VAN BUREN, ME',\n",
       " 'VCB': 'VANCEBORO, ME',\n",
       " 'AGN': 'ALGONAC, MI',\n",
       " 'ALP': 'ALPENA, MI',\n",
       " 'BCY': 'BAY CITY, MI',\n",
       " 'DET': 'DETROIT, MI',\n",
       " 'GRP': 'GRAND RAPIDS, MI',\n",
       " 'GRO': 'GROSSE ISLE, MI',\n",
       " 'ISL': 'ISLE ROYALE, MI',\n",
       " 'MRC': 'MARINE CITY, MI',\n",
       " 'MRY': 'MARYSVILLE, MI',\n",
       " 'PTK': 'OAKLAND COUNTY - PONTIAC, MI',\n",
       " 'PHU': 'PORT HURON, MI',\n",
       " 'RBT': 'ROBERTS LANDING, MI',\n",
       " 'SAG': 'SAGINAW, MI',\n",
       " 'SSM': 'SAULT STE. MARIE, MI',\n",
       " 'SCL': 'ST CLAIR, MI',\n",
       " 'YIP': 'WILLOW RUN - YPSILANTI, MI',\n",
       " 'BAU': 'BAUDETTE, MN',\n",
       " 'CAR': 'CARIBOU MUNICIPAL AIRPORT, MN',\n",
       " 'GTF': 'Collapsed into INT, MN',\n",
       " 'INL': 'Collapsed into INT, MN',\n",
       " 'CRA': 'CRANE LAKE, MN',\n",
       " 'MIC': 'CRYSTAL MUNICIPAL AIRPORT, MN',\n",
       " 'DUL': 'DULUTH, MN',\n",
       " 'ELY': 'ELY, MN',\n",
       " 'GPM': 'GRAND PORTAGE, MN',\n",
       " 'SVC': 'GRANT COUNTY - SILVER CITY, MN',\n",
       " 'INT': 'INTL FALLS, MN',\n",
       " 'LAN': 'LANCASTER, MN',\n",
       " 'MSP': 'MINN./ST PAUL, MN',\n",
       " 'LIN': 'NORTHERN SVC CENTER, MN',\n",
       " 'NOY': 'NOYES, MN',\n",
       " 'PIN': 'PINE CREEK, MN',\n",
       " '48Y': 'PINECREEK BORDER ARPT, MN',\n",
       " 'RAN': 'RAINER, MN',\n",
       " 'RST': 'ROCHESTER, MN',\n",
       " 'ROS': 'ROSEAU, MN',\n",
       " 'SPM': 'ST PAUL, MN',\n",
       " 'WSB': 'WARROAD INTL, SPB, MN',\n",
       " 'WAR': 'WARROAD, MN',\n",
       " 'KAN': 'KANSAS CITY, MO',\n",
       " 'SGF': 'SPRINGFIELD-BRANSON, MO',\n",
       " 'STL': 'ST LOUIS, MO',\n",
       " 'WHI': 'WHITETAIL, MT',\n",
       " 'WHM': 'WILD HORSE, MT',\n",
       " 'GPT': 'BILOXI REGIONAL, MS',\n",
       " 'GTR': 'GOLDEN TRIANGLE LOWNDES CNTY, MS',\n",
       " 'GUL': 'GULFPORT, MS',\n",
       " 'PAS': 'PASCAGOULA, MS',\n",
       " 'JAN': 'THOMPSON FIELD - JACKSON, MS',\n",
       " 'BIL': 'BILLINGS, MT',\n",
       " 'BTM': 'BUTTE, MT',\n",
       " 'CHF': 'CHIEF MT, MT',\n",
       " 'CTB': 'CUT BANK MUNICIPAL, MT',\n",
       " 'CUT': 'CUT BANK, MT',\n",
       " 'DLB': 'DEL BONITA, MT',\n",
       " 'EUR': 'EUREKA, MT (BPS)',\n",
       " 'BZN': 'GALLATIN FIELD - BOZEMAN, MT',\n",
       " 'FCA': 'GLACIER NATIONAL PARK, MT',\n",
       " 'GGW': 'GLASGOW, MT',\n",
       " 'GRE': 'GREAT FALLS, MT',\n",
       " 'HVR': 'HAVRE, MT',\n",
       " 'HEL': 'HELENA, MT',\n",
       " 'LWT': 'LEWISTON, MT',\n",
       " 'MGM': 'MORGAN, MT',\n",
       " 'OPH': 'OPHEIM, MT',\n",
       " 'PIE': 'PIEGAN, MT',\n",
       " 'RAY': 'RAYMOND, MT',\n",
       " 'ROO': 'ROOSVILLE, MT',\n",
       " 'SCO': 'SCOBEY, MT',\n",
       " 'SWE': 'SWEETGTASS, MT',\n",
       " 'TRL': 'TRIAL CREEK, MT',\n",
       " 'TUR': 'TURNER, MT',\n",
       " 'WCM': 'WILLOW CREEK, MT',\n",
       " 'CLT': 'CHARLOTTE, NC',\n",
       " 'FAY': 'FAYETTEVILLE, NC',\n",
       " 'MRH': 'MOREHEAD CITY, NC',\n",
       " 'FOP': 'MORRIS FIELDS AAF, NC',\n",
       " 'GSO': 'PIEDMONT TRIAD INTL AIRPORT, NC',\n",
       " 'RDU': 'RALEIGH/DURHAM, NC',\n",
       " 'SSC': 'SHAW AFB - SUMTER, NC',\n",
       " 'WIL': 'WILMINGTON, NC',\n",
       " 'AMB': 'AMBROSE, ND',\n",
       " 'ANT': 'ANTLER, ND',\n",
       " 'CRY': 'CARBURY, ND',\n",
       " 'DNS': 'DUNSEITH, ND',\n",
       " 'FAR': 'FARGO, ND',\n",
       " 'FRT': 'FORTUNA, ND',\n",
       " 'GRF': 'GRAND FORKS, ND',\n",
       " 'HNN': 'HANNAH, ND',\n",
       " 'HNS': 'HANSBORO, ND',\n",
       " 'MAI': 'MAIDA, ND',\n",
       " 'MND': 'MINOT, ND',\n",
       " 'NEC': 'NECHE, ND',\n",
       " 'NOO': 'NOONAN, ND',\n",
       " 'NRG': 'NORTHGATE, ND',\n",
       " 'PEM': 'PEMBINA, ND',\n",
       " 'SAR': 'SARLES, ND',\n",
       " 'SHR': 'SHERWOOD, ND',\n",
       " 'SJO': 'ST JOHN, ND',\n",
       " 'WAL': 'WALHALLA, ND',\n",
       " 'WHO': 'WESTHOPE, ND',\n",
       " 'WND': 'WILLISTON, ND',\n",
       " 'OMA': 'OMAHA, NE',\n",
       " 'LEB': 'LEBANON, NH',\n",
       " 'MHT': 'MANCHESTER, NH',\n",
       " 'PNH': 'PITTSBURG, NH',\n",
       " 'PSM': 'PORTSMOUTH, NH',\n",
       " 'BYO': 'BAYONNE, NJ',\n",
       " 'CNJ': 'CAMDEN, NJ',\n",
       " 'HOB': 'HOBOKEN, NJ',\n",
       " 'JER': 'JERSEY CITY, NJ',\n",
       " 'WRI': 'MC GUIRE AFB - WRIGHTSOWN, NJ',\n",
       " 'MMU': 'MORRISTOWN, NJ',\n",
       " 'NEW': 'NEWARK/TETERBORO, NJ',\n",
       " 'PER': 'PERTH AMBOY, NJ',\n",
       " 'ACY': 'POMONA FIELD - ATLANTIC CITY, NJ',\n",
       " 'ALA': 'ALAMAGORDO, NM (BPS)',\n",
       " 'ABQ': 'ALBUQUERQUE, NM',\n",
       " 'ANP': 'ANTELOPE WELLS, NM',\n",
       " 'CRL': 'CARLSBAD, NM',\n",
       " 'COL': 'COLUMBUS, NM',\n",
       " 'CDD': 'CRANE LAKE - ST. LOUIS CNTY, NM',\n",
       " 'DNM': 'DEMING, NM (BPS)',\n",
       " 'LAS': 'LAS CRUCES, NM',\n",
       " 'LOB': 'LORDSBURG, NM (BPS)',\n",
       " 'RUI': 'RUIDOSO, NM',\n",
       " 'STR': 'SANTA TERESA, NM',\n",
       " 'RNO': 'CANNON INTL - RENO/TAHOE, NV',\n",
       " 'FLX': 'FALLON MUNICIPAL AIRPORT, NV',\n",
       " 'LVG': 'LAS VEGAS, NV',\n",
       " 'REN': 'RENO, NV',\n",
       " 'ALB': 'ALBANY, NY',\n",
       " 'AXB': 'ALEXANDRIA BAY, NY',\n",
       " 'BUF': 'BUFFALO, NY',\n",
       " 'CNH': 'CANNON CORNERS, NY',\n",
       " 'CAP': 'CAPE VINCENT, NY',\n",
       " 'CHM': 'CHAMPLAIN, NY',\n",
       " 'CHT': 'CHATEAUGAY, NY',\n",
       " 'CLA': 'CLAYTON, NY',\n",
       " 'FTC': 'FORT COVINGTON, NY',\n",
       " 'LAG': 'LA GUARDIA, NY',\n",
       " 'LEW': 'LEWISTON, NY',\n",
       " 'MAS': 'MASSENA, NY',\n",
       " 'MAG': 'MCGUIRE AFB, NY',\n",
       " 'MOO': 'MOORES, NY',\n",
       " 'MRR': 'MORRISTOWN, NY',\n",
       " 'NYC': 'NEW YORK, NY',\n",
       " 'NIA': 'NIAGARA FALLS, NY',\n",
       " 'OGD': 'OGDENSBURG, NY',\n",
       " 'OSW': 'OSWEGO, NY',\n",
       " 'ELM': 'REGIONAL ARPT - HORSEHEAD, NY',\n",
       " 'ROC': 'ROCHESTER, NY',\n",
       " 'ROU': 'ROUSES POINT, NY',\n",
       " 'SWF': 'STEWART - ORANGE CNTY, NY',\n",
       " 'SYR': 'SYRACUSE, NY',\n",
       " 'THO': 'THOUSAND ISLAND BRIDGE, NY',\n",
       " 'TRO': 'TROUT RIVER, NY',\n",
       " 'WAT': 'WATERTOWN, NY',\n",
       " 'HPN': 'WESTCHESTER - WHITE PLAINS, NY',\n",
       " 'WRB': 'WHIRLPOOL BRIDGE, NY',\n",
       " 'YOU': 'YOUNGSTOWN, NY',\n",
       " 'AKR': 'AKRON, OH',\n",
       " 'ATB': 'ASHTABULA, OH',\n",
       " 'CIN': 'CINCINNATI, OH',\n",
       " 'CLE': 'CLEVELAND, OH',\n",
       " 'CLM': 'COLUMBUS, OH',\n",
       " 'LOR': 'LORAIN, OH',\n",
       " 'MBO': 'MARBLE HEADS, OH',\n",
       " 'SDY': 'SANDUSKY, OH',\n",
       " 'TOL': 'TOLEDO, OH',\n",
       " 'OKC': 'OKLAHOMA CITY, OK',\n",
       " 'TUL': 'TULSA, OK',\n",
       " 'AST': 'ASTORIA, OR',\n",
       " 'COO': 'COOS BAY, OR',\n",
       " 'HIO': 'HILLSBORO, OR',\n",
       " 'MED': 'MEDFORD, OR',\n",
       " 'NPT': 'NEWPORT, OR',\n",
       " 'POO': 'PORTLAND, OR',\n",
       " 'PUT': 'PUT-IN-BAY, OH',\n",
       " 'RDM': 'ROBERTS FIELDS - REDMOND, OR',\n",
       " 'ERI': 'ERIE, PA',\n",
       " 'MDT': 'HARRISBURG, PA',\n",
       " 'HSB': 'HARRISONBURG, PA',\n",
       " 'PHI': 'PHILADELPHIA, PA',\n",
       " 'PIT': 'PITTSBURG, PA',\n",
       " 'AGU': 'AGUADILLA, PR',\n",
       " 'BQN': 'BORINQUEN - AGUADILLO, PR',\n",
       " 'JCP': 'CULEBRA - BENJAMIN RIVERA, PR',\n",
       " 'ENS': 'ENSENADA, PR',\n",
       " 'FAJ': 'FAJARDO, PR',\n",
       " 'HUM': 'HUMACAO, PR',\n",
       " 'JOB': 'JOBOS, PR',\n",
       " 'MAY': 'MAYAGUEZ, PR',\n",
       " 'PON': 'PONCE, PR',\n",
       " 'PSE': 'PONCE-MERCEDITA, PR',\n",
       " 'SAJ': 'SAN JUAN, PR',\n",
       " 'VQS': 'VIEQUES-ARPT, PR',\n",
       " 'PRO': 'PROVIDENCE, RI',\n",
       " 'PVD': 'THEODORE FRANCIS - WARWICK, RI',\n",
       " 'CHL': 'CHARLESTON, SC',\n",
       " 'CAE': 'COLUMBIA, SC #ARPT',\n",
       " 'GEO': 'GEORGETOWN, SC',\n",
       " 'GSP': 'GREENVILLE, SC',\n",
       " 'GRR': 'GREER, SC',\n",
       " 'MYR': 'MYRTLE BEACH, SC',\n",
       " 'SPF': 'BLACK HILLS, SPEARFISH, SD',\n",
       " 'HON': 'HOWES REGIONAL ARPT - HURON, SD',\n",
       " 'SAI': 'SAIPAN, SPN',\n",
       " 'TYS': 'MC GHEE TYSON - ALCOA, TN',\n",
       " 'MEM': 'MEMPHIS, TN',\n",
       " 'NSV': 'NASHVILLE, TN',\n",
       " 'TRI': 'TRI CITY ARPT, TN',\n",
       " 'ADS': 'ADDISON AIRPORT- ADDISON, TX',\n",
       " 'ADT': 'AMISTAD DAM, TX',\n",
       " 'ANZ': 'ANZALDUAS, TX',\n",
       " 'AUS': 'AUSTIN, TX',\n",
       " 'BEA': 'BEAUMONT, TX',\n",
       " 'BBP': 'BIG BEND PARK, TX (BPS)',\n",
       " 'SCC': 'BP SPEC COORD. CTR, TX',\n",
       " 'BTC': 'BP TACTICAL UNIT, TX',\n",
       " 'BOA': 'BRIDGE OF AMERICAS, TX',\n",
       " 'BRO': 'BROWNSVILLE, TX',\n",
       " 'CRP': 'CORPUS CHRISTI, TX',\n",
       " 'DAL': 'DALLAS, TX',\n",
       " 'DLR': 'DEL RIO, TX',\n",
       " 'DNA': 'DONNA, TX',\n",
       " 'EGP': 'EAGLE PASS, TX',\n",
       " 'ELP': 'EL PASO, TX',\n",
       " 'FAB': 'FABENS, TX',\n",
       " 'FAL': 'FALCON HEIGHTS, TX',\n",
       " 'FTH': 'FORT HANCOCK, TX',\n",
       " 'AFW': 'FORT WORTH ALLIANCE, TX',\n",
       " 'FPT': 'FREEPORT, TX',\n",
       " 'GAL': 'GALVESTON, TX',\n",
       " 'HLG': 'HARLINGEN, TX',\n",
       " 'HID': 'HIDALGO, TX',\n",
       " 'HOU': 'HOUSTON, TX',\n",
       " 'SGR': 'HULL FIELD, SUGAR LAND ARPT, TX',\n",
       " 'LLB': 'JUAREZ-LINCOLN BRIDGE, TX',\n",
       " 'LCB': 'LAREDO COLUMBIA BRIDGE, TX',\n",
       " 'LRN': 'LAREDO NORTH, TX',\n",
       " 'LAR': 'LAREDO, TX',\n",
       " 'LSE': 'LOS EBANOS, TX',\n",
       " 'IND': 'LOS INDIOS, TX',\n",
       " 'LOI': 'LOS INDIOS, TX',\n",
       " 'MRS': 'MARFA, TX (BPS)',\n",
       " 'MCA': 'MCALLEN, TX',\n",
       " 'MAF': 'ODESSA REGIONAL, TX',\n",
       " 'PDN': 'PASO DEL NORTE,TX',\n",
       " 'PBB': 'PEACE BRIDGE, NY',\n",
       " 'PHR': 'PHARR, TX',\n",
       " 'PAR': 'PORT ARTHUR, TX',\n",
       " 'ISB': 'PORT ISABEL, TX',\n",
       " 'POE': 'PORT OF EL PASO, TX',\n",
       " 'PRE': 'PRESIDIO, TX',\n",
       " 'PGR': 'PROGRESO, TX',\n",
       " 'RIO': 'RIO GRANDE CITY, TX',\n",
       " 'ROM': 'ROMA, TX',\n",
       " 'SNA': 'SAN ANTONIO, TX',\n",
       " 'SNN': 'SANDERSON, TX',\n",
       " 'VIB': 'VETERAN INTL BRIDGE, TX',\n",
       " 'YSL': 'YSLETA, TX',\n",
       " 'CHA': 'CHARLOTTE AMALIE, VI',\n",
       " 'CHR': 'CHRISTIANSTED, VI',\n",
       " 'CRU': 'CRUZ BAY, ST JOHN, VI',\n",
       " 'FRK': 'FREDERIKSTED, VI',\n",
       " 'STT': 'ST THOMAS, VI',\n",
       " 'LGU': 'CACHE AIRPORT - LOGAN, UT',\n",
       " 'SLC': 'SALT LAKE CITY, UT',\n",
       " 'CHO': 'ALBEMARLE CHARLOTTESVILLE, VA',\n",
       " 'DAA': 'DAVISON AAF - FAIRFAX CNTY, VA',\n",
       " 'HOP': 'HOPEWELL, VA',\n",
       " 'HEF': 'MANASSAS, VA #ARPT',\n",
       " 'NWN': 'NEWPORT, VA',\n",
       " 'NOR': 'NORFOLK, VA',\n",
       " 'RCM': 'RICHMOND, VA',\n",
       " 'ABS': 'ALBURG SPRINGS, VT',\n",
       " 'ABG': 'ALBURG, VT',\n",
       " 'BEB': 'BEEBE PLAIN, VT',\n",
       " 'BEE': 'BEECHER FALLS, VT',\n",
       " 'BRG': 'BURLINGTON, VT',\n",
       " 'CNA': 'CANAAN, VT',\n",
       " 'DER': 'DERBY LINE, VT (I-91)',\n",
       " 'DLV': 'DERBY LINE, VT (RT. 5)',\n",
       " 'ERC': 'EAST RICHFORD, VT',\n",
       " 'HIG': 'HIGHGATE SPRINGS, VT',\n",
       " 'MOR': 'MORSES LINE, VT',\n",
       " 'NPV': 'NEWPORT, VT',\n",
       " 'NRT': 'NORTH TROY, VT',\n",
       " 'NRN': 'NORTON, VT',\n",
       " 'PIV': 'PINNACLE ROAD, VT',\n",
       " 'RIF': 'RICHFORT, VT',\n",
       " 'STA': 'ST ALBANS, VT',\n",
       " 'SWB': 'SWANTON, VT (BP - SECTOR HQ)',\n",
       " 'WBE': 'WEST BERKSHIRE, VT',\n",
       " 'ABE': 'ABERDEEN, WA',\n",
       " 'ANA': 'ANACORTES, WA',\n",
       " 'BEL': 'BELLINGHAM, WA',\n",
       " 'BLI': 'BELLINGHAM, WASHINGTON #INTL',\n",
       " 'BLA': 'BLAINE, WA',\n",
       " 'BWA': 'BOUNDARY, WA',\n",
       " 'CUR': 'CURLEW, WA (BPS)',\n",
       " 'DVL': 'DANVILLE, WA',\n",
       " 'EVE': 'EVERETT, WA',\n",
       " 'FER': 'FERRY, WA',\n",
       " 'FRI': 'FRIDAY HARBOR, WA',\n",
       " 'FWA': 'FRONTIER, WA',\n",
       " 'KLM': 'KALAMA, WA',\n",
       " 'LAU': 'LAURIER, WA',\n",
       " 'LON': 'LONGVIEW, WA',\n",
       " 'MET': 'METALINE FALLS, WA',\n",
       " 'MWH': 'MOSES LAKE GRANT COUNTY ARPT, WA',\n",
       " 'NEA': 'NEAH BAY, WA',\n",
       " 'NIG': 'NIGHTHAWK, WA',\n",
       " 'OLY': 'OLYMPIA, WA',\n",
       " 'ORO': 'OROVILLE, WA',\n",
       " 'PWB': 'PASCO, WA',\n",
       " 'PIR': 'POINT ROBERTS, WA',\n",
       " 'PNG': 'PORT ANGELES, WA',\n",
       " 'PTO': 'PORT TOWNSEND, WA',\n",
       " 'SEA': 'SEATTLE, WA',\n",
       " 'SPO': 'SPOKANE, WA',\n",
       " 'SUM': 'SUMAS, WA',\n",
       " 'TAC': 'TACOMA, WA',\n",
       " 'PSC': 'TRI-CITIES - PASCO, WA',\n",
       " 'VAN': 'VANCOUVER, WA',\n",
       " 'AGM': 'ALGOMA, WI',\n",
       " 'BAY': 'BAYFIELD, WI',\n",
       " 'GRB': 'GREEN BAY, WI',\n",
       " 'MNW': 'MANITOWOC, WI',\n",
       " 'MIL': 'MILWAUKEE, WI',\n",
       " 'MSN': 'TRUAX FIELD - DANE COUNTY, WI',\n",
       " 'CHS': 'CHARLESTON, WV',\n",
       " 'CLK': 'CLARKSBURG, WV',\n",
       " 'BLF': 'MERCER COUNTY, WV',\n",
       " 'CSP': 'CASPER, WY',\n",
       " 'XXX': 'NOT REPORTED/UNKNOWN',\n",
       " 888: 'UNIDENTIFED AIR / SEAPORT',\n",
       " 'UNK': 'UNKNOWN POE',\n",
       " 'CLG': 'CALGARY, CANADA',\n",
       " 'EDA': 'EDMONTON, CANADA',\n",
       " 'YHC': 'HAKAI PASS, CANADA',\n",
       " 'HAL': 'Halifax, NS, Canada',\n",
       " 'MON': 'MONTREAL, CANADA',\n",
       " 'OTT': 'OTTAWA, CANADA',\n",
       " 'YXE': 'SASKATOON, CANADA',\n",
       " 'TOR': 'TORONTO, CANADA',\n",
       " 'VCV': 'VANCOUVER, CANADA',\n",
       " 'VIC': 'VICTORIA, CANADA',\n",
       " 'WIN': 'WINNIPEG, CANADA',\n",
       " 'AMS': 'AMSTERDAM-SCHIPHOL, NETHERLANDS',\n",
       " 'ARB': 'ARUBA, NETH ANTILLES',\n",
       " 'BAN': 'BANKOK, THAILAND',\n",
       " 'BEI': 'BEICA #ARPT, ETHIOPIA',\n",
       " 'PEK': 'BEIJING CAPITAL INTL, PRC',\n",
       " 'BDA': 'KINDLEY FIELD, BERMUDA',\n",
       " 'BOG': 'BOGOTA, EL DORADO #ARPT, COLOMBIA',\n",
       " 'EZE': 'BUENOS AIRES, MINISTRO PIST, ARGENTINA',\n",
       " 'CUN': 'CANCUN, MEXICO',\n",
       " 'CRQ': 'CARAVELAS, BA #ARPT, BRAZIL',\n",
       " 'MVD': 'CARRASCO, URUGUAY',\n",
       " 'DUB': 'DUBLIN, IRELAND',\n",
       " 'FOU': 'FOUGAMOU #ARPT, GABON',\n",
       " 'FBA': 'FREEPORT, BAHAMAS',\n",
       " 'MTY': 'GEN M. ESCOBEDO, Monterrey, MX',\n",
       " 'HMO': 'GEN PESQUEIRA GARCIA, MX',\n",
       " 'GCM': 'GRAND CAYMAN, CAYMAN ISLAND',\n",
       " 'GDL': 'GUADALAJARA, MIGUEL HIDAL, MX',\n",
       " 'HAM': 'HAMILTON, BERMUDA',\n",
       " 'ICN': 'INCHON, SEOUL KOREA',\n",
       " 'IWA': 'INVALID - IWAKUNI, JAPAN',\n",
       " 'CND': 'KOGALNICEANU, ROMANIA',\n",
       " 'LAH': 'LABUHA ARPT, INDONESIA',\n",
       " 'DUR': 'LOUIS BOTHA, SOUTH AFRICA',\n",
       " 'MAL': 'MANGOLE ARPT, INDONESIA',\n",
       " 'MDE': 'MEDELLIN, COLOMBIA',\n",
       " 'MEX': 'JUAREZ INTL, MEXICO CITY, MX',\n",
       " 'LHR': 'MIDDLESEX, ENGLAND',\n",
       " 'NBO': 'NAIROBI, KENYA',\n",
       " 'NAS': 'NASSAU, BAHAMAS',\n",
       " 'NCA': 'NORTH CAICOS, TURK & CAIMAN',\n",
       " 'PTY': 'OMAR TORRIJOS, PANAMA',\n",
       " 'SPV': 'PAPUA, NEW GUINEA',\n",
       " 'UIO': 'QUITO (MARISCAL SUCR), ECUADOR',\n",
       " 'RIT': 'ROME, ITALY',\n",
       " 'SNO': 'SAKON NAKHON #ARPT, THAILAND',\n",
       " 'SLP': 'SAN LUIS POTOSI #ARPT, MEXICO',\n",
       " 'SAN': 'SAN SALVADOR, EL SALVADOR',\n",
       " 'SRO': 'SANTANA RAMOS #ARPT, COLOMBIA',\n",
       " 'GRU': 'GUARULHOS INTL, SAO PAULO, BRAZIL',\n",
       " 'SHA': 'SHANNON, IRELAND',\n",
       " 'HIL': 'SHILLAVO, ETHIOPIA',\n",
       " 'TOK': 'TOROKINA #ARPT, PAPUA, NEW GUINEA',\n",
       " 'VER': 'VERACRUZ, MEXICO',\n",
       " 'LGW': 'WEST SUSSEX, ENGLAND',\n",
       " 'ZZZ': 'MEXICO Land (Banco de Mexico)',\n",
       " 'CHN': 'No PORT Code (CHN)',\n",
       " 'CNC': 'CANNON CORNERS, NY',\n",
       " 'MAA': 'Abu Dhabi',\n",
       " 'AG0': 'MAGNOLIA, AR',\n",
       " 'BHM': 'BAR HARBOR, ME',\n",
       " 'BHX': 'BIRMINGHAM, AL',\n",
       " 'CAK': 'AKRON, OH',\n",
       " 'FOK': 'SUFFOLK COUNTY, NY',\n",
       " 'LND': 'LANDER, WY',\n",
       " 'MAR': 'MARFA, TX',\n",
       " 'MLI': 'MOLINE, IL',\n",
       " 'RIV': 'RIVERSIDE, CA',\n",
       " 'RME': 'ROME, NY',\n",
       " 'VNY': 'VAN NUYS, CA',\n",
       " 'YUM': 'YUMA, AZ',\n",
       " 'FRG': 'Collapsed (FOK) 06/15',\n",
       " 'HRL': 'Collapsed (HLG) 06/15',\n",
       " 'ISP': 'Collapsed (FOK) 06/15',\n",
       " 'JSJ': 'Collapsed (SAJ) 06/15',\n",
       " 'BUS': 'Collapsed (BUF) 06/15',\n",
       " 'IAG': 'Collapsed (NIA) 06/15',\n",
       " 'PHN': 'Collapsed (PHU) 06/15',\n",
       " 'STN': 'Collapsed (STR) 06/15',\n",
       " 'VMB': 'Collapsed (VNB) 06/15',\n",
       " 'T01': 'Collapsed (SEA) 06/15',\n",
       " 'PHF': 'No PORT Code (PHF)',\n",
       " 'DRV': 'No PORT Code (DRV)',\n",
       " 'FTB': 'No PORT Code (FTB)',\n",
       " 'GAC': 'No PORT Code (GAC)',\n",
       " 'GMT': 'No PORT Code (GMT)',\n",
       " 'JFA': 'No PORT Code (JFA)',\n",
       " 'JMZ': 'No PORT Code (JMZ)',\n",
       " 'NC8': 'No PORT Code (NC8)',\n",
       " 'NYL': 'No PORT Code (NYL)',\n",
       " 'OAI': 'No PORT Code (OAI)',\n",
       " 'PCW': 'No PORT Code (PCW)',\n",
       " 'WA5': 'No PORT Code (WAS)',\n",
       " 'WTR': 'No PORT Code (WTR)',\n",
       " 'X96': 'No PORT Code (X96)',\n",
       " 'XNA': 'No PORT Code (XNA)',\n",
       " 'YGF': 'No PORT Code (YGF)',\n",
       " '5T6': 'No PORT Code (5T6)',\n",
       " 60: 'No PORT Code (60)',\n",
       " 'SP0': 'No PORT Code (SP0)',\n",
       " 'W55': 'No PORT Code (W55)',\n",
       " 'X44': 'No PORT Code (X44)',\n",
       " 'AUH': 'No PORT Code (AUH)',\n",
       " 'RYY': 'No PORT Code (RYY)',\n",
       " 'SUS': 'No PORT Code (SUS)',\n",
       " '74S': 'No PORT Code (74S)',\n",
       " 'ATW': 'No PORT Code (ATW)',\n",
       " 'CPX': 'No PORT Code (CPX)',\n",
       " 'MTH': 'No PORT Code (MTH)',\n",
       " 'PFN': 'No PORT Code (PFN)',\n",
       " 'SCH': 'No PORT Code (SCH)',\n",
       " 'ASI': 'No PORT Code (ASI)',\n",
       " 'BKF': 'No PORT Code (BKF)',\n",
       " 'DAY': 'No PORT Code (DAY)',\n",
       " 'Y62': 'No PORT Code (Y62)',\n",
       " 'AG': 'No PORT Code (AG)',\n",
       " 'BCM': 'No PORT Code (BCM)',\n",
       " 'DEC': 'No PORT Code (DEC)',\n",
       " 'PLB': 'No PORT Code (PLB)',\n",
       " 'CXO': 'No PORT Code (CXO)',\n",
       " 'JBQ': 'No PORT Code (JBQ)',\n",
       " 'JIG': 'No PORT Code (JIG)',\n",
       " 'OGS': 'No PORT Code (OGS)',\n",
       " 'TIW': 'No PORT Code (TIW)',\n",
       " 'OTS': 'No PORT Code (OTS)',\n",
       " 'AMT': 'No PORT Code (AMT)',\n",
       " 'EGE': 'No PORT Code (EGE)',\n",
       " 'GPI': 'No PORT Code (GPI)',\n",
       " 'NGL': 'No PORT Code (NGL)',\n",
       " 'OLM': 'No PORT Code (OLM)',\n",
       " '.GA': 'No PORT Code (.GA)',\n",
       " 'CLX': 'No PORT Code (CLX)',\n",
       " 'CP': 'No PORT Code (CP)',\n",
       " 'FSC': 'No PORT Code (FSC)',\n",
       " 'NK': 'No PORT Code (NK)',\n",
       " 'ADU': 'No PORT Code (ADU)',\n",
       " 'AKT': 'No PORT Code (AKT)',\n",
       " 'LIT': 'No PORT Code (LIT)',\n",
       " 'A2A': 'No PORT Code (A2A)',\n",
       " 'OSN': 'No PORT Code (OSN)'}"
      ]
     },
     "execution_count": 74,
     "metadata": {},
     "output_type": "execute_result"
    }
   ],
   "source": [
    "i94port = labels.get(\"I94PORT\").get(\"values\")\n",
    "i94port"
   ]
  },
  {
   "cell_type": "code",
   "execution_count": 75,
   "metadata": {
    "editable": true
   },
   "outputs": [
    {
     "data": {
      "text/plain": [
       "{1: 'Business', 2: 'Pleasure', 3: 'Student'}"
      ]
     },
     "execution_count": 75,
     "metadata": {},
     "output_type": "execute_result"
    }
   ],
   "source": [
    "i94visa = labels.get(\"I94VISA\").get(\"values\")\n",
    "i94visa"
   ]
  },
  {
   "cell_type": "code",
   "execution_count": 76,
   "metadata": {
    "editable": true
   },
   "outputs": [
    {
     "data": {
      "text/plain": [
       "{1: 'Air', 2: 'Sea', 3: 'Land', 9: 'Not reported'}"
      ]
     },
     "execution_count": 76,
     "metadata": {},
     "output_type": "execute_result"
    }
   ],
   "source": [
    "i94modes = labels.get(\"I94MODE\").get(\"values\")\n",
    "i94modes"
   ]
  },
  {
   "cell_type": "code",
   "execution_count": 77,
   "metadata": {
    "editable": true
   },
   "outputs": [
    {
     "data": {
      "text/plain": [
       "1"
      ]
     },
     "execution_count": 77,
     "metadata": {},
     "output_type": "execute_result"
    }
   ],
   "source": [
    "mode_air_key = get_key_by_value(i94modes, \"Air\")\n",
    "mode_air_key"
   ]
  },
  {
   "cell_type": "markdown",
   "metadata": {
    "editable": true
   },
   "source": [
    "Clean the immigration dataset"
   ]
  },
  {
   "cell_type": "code",
   "execution_count": 78,
   "metadata": {
    "editable": true
   },
   "outputs": [],
   "source": [
    "@F.udf(T.DateType())\n",
    "def udf_sas_numeric_to_datetime(x):\n",
    "    try:\n",
    "        return datetime.datetime(1960, 1, 1) + datetime.timedelta(days=int(float(x)))\n",
    "    except:\n",
    "        return None"
   ]
  },
  {
   "cell_type": "code",
   "execution_count": 79,
   "metadata": {
    "editable": true
   },
   "outputs": [],
   "source": [
    "def extract_state_code_from_port(x):\n",
    "    return x.split(\",\")[-1].replace(\"WASHINGTON DC\",\"DC\").replace(\"WASHINGTON #INTL\", \"DC\").split(\"(\")[0].split(\"#\")[0].strip()"
   ]
  },
  {
   "cell_type": "code",
   "execution_count": 80,
   "metadata": {
    "editable": true
   },
   "outputs": [],
   "source": [
    "def extract_city_from_port(x):\n",
    "    comma_split = x.split(\",\")\n",
    "    last_seq_comma_split_removed = \",\".join(comma_split[:-1]) if len(comma_split) > 1 else x\n",
    "    return last_seq_comma_split_removed.strip()"
   ]
  },
  {
   "cell_type": "code",
   "execution_count": 81,
   "metadata": {
    "editable": true
   },
   "outputs": [],
   "source": [
    "def clean_city(city):\n",
    "    blacklist = [\"HWY. STATION\", \"#\", \"INTL\", \"Collapsed\", \"AIRP\", \"No PORT Code\", \"UNIDENTIFED\", \"UNKNOWN\"]\n",
    "    for sub_str in blacklist:\n",
    "        if sub_str.lower() in city.lower():\n",
    "            return None\n",
    "    return city.replace(\"MUNICIPAL\", \"\")"
   ]
  },
  {
   "cell_type": "code",
   "execution_count": 82,
   "metadata": {
    "editable": true
   },
   "outputs": [],
   "source": [
    "@F.udf(T.StringType())\n",
    "def udf_get_missing_us_state_codes(x):\n",
    "    try:\n",
    "        port = x[0]\n",
    "        state_code = x[1]\n",
    "        extracted_state_code = extract_state_code_from_port(i94port.get(port)) if port else None\n",
    "        return extracted_state_code if extracted_state_code in i94addr.keys() else state_code\n",
    "    except:\n",
    "        return state_code"
   ]
  },
  {
   "cell_type": "code",
   "execution_count": 83,
   "metadata": {
    "editable": true
   },
   "outputs": [],
   "source": [
    "@F.udf(T.StringType())\n",
    "def udf_get_city_based_on_port(x):\n",
    "    try:\n",
    "        port = i94port.get(x)\n",
    "        city = extract_city_from_port(port)\n",
    "        return clean_city(city)\n",
    "    except:\n",
    "        return None"
   ]
  },
  {
   "cell_type": "code",
   "execution_count": 84,
   "metadata": {
    "editable": true
   },
   "outputs": [],
   "source": [
    "def clean_df_immigration(df):\n",
    "    # Define relevant columns and new name\n",
    "    relevant_old_to_new_cols = collections.OrderedDict({\n",
    "        \"i94yr\": \"year\",\n",
    "        \"i94mon\": \"month\",\n",
    "        \"i94addr\": \"state_code\",\n",
    "        \"cicid\": \"cicid\", \n",
    "        \"i94cit\": \"citizenship_country_id\", \n",
    "                            \"i94res\": \"residency_country_id\", \n",
    "                            \"i94port\": \"port_id\", \n",
    "                            \"arrdate\": \"arrival_date\", \n",
    "                            \"i94mode\": \"mode\",  \n",
    "                            \"depdate\": \"departure_date\", \n",
    "                            \"i94bir\": \"age\", \n",
    "                            \"biryear\": \"birth_year\", \n",
    "                            \"i94visa\": \"visa_id\", \n",
    "                            \"gender\": \"gender\"})\n",
    "    # Select old columns\n",
    "    df_cleaned = df.select(*relevant_old_to_new_cols.keys())\n",
    "    \n",
    "    # Rename columns\n",
    "    df_cleaned = df_cleaned.toDF(*relevant_old_to_new_cols.values())\n",
    "    \n",
    "    # Cast the data types\n",
    "    df_cleaned = df_cleaned \\\n",
    "        .withColumn(\"year\", df_cleaned.year.cast('int')) \\\n",
    "        .withColumn(\"month\", df_cleaned.month.cast('int')) \\\n",
    "        .withColumn(\"cicid\", df_cleaned.cicid.cast('int')) \\\n",
    "        .withColumn(\"citizenship_country_id\", df_cleaned.citizenship_country_id.cast('int')) \\\n",
    "        .withColumn(\"residency_country_id\", df_cleaned.residency_country_id.cast('int')) \\\n",
    "        .withColumn(\"mode\", df_cleaned.mode.cast('int')) \\\n",
    "        .withColumn(\"visa_id\", df_cleaned.visa_id.cast('int')) \\\n",
    "        .withColumn(\"age\", df_cleaned.age.cast('int')) \\\n",
    "        .withColumn(\"birth_year\", df_cleaned.birth_year.cast('int')) \\\n",
    "        .withColumn(\"arrival_date\", udf_sas_numeric_to_datetime(\"arrival_date\")) \\\n",
    "        .withColumn(\"departure_date\", udf_sas_numeric_to_datetime(\"departure_date\")) \\\n",
    "        .filter( F.col(\"mode\") == mode_air_key) \\\n",
    "        .dropDuplicates()\n",
    "    \n",
    "    # Compute missing us state codes\n",
    "    df_cleaned = df_cleaned \\\n",
    "        .withColumn(\"state_code\", udf_get_missing_us_state_codes(F.struct([\"port_id\", \"state_code\"])))\n",
    "    \n",
    "    # Compute city based on port\n",
    "    df_cleaned = df_cleaned \\\n",
    "        .withColumn(\"city\", udf_get_city_based_on_port(\"port_id\"))\n",
    "    \n",
    "    return df_cleaned"
   ]
  },
  {
   "cell_type": "code",
   "execution_count": 85,
   "metadata": {
    "editable": true
   },
   "outputs": [],
   "source": [
    "df_immigration_cleaned = clean_df_immigration(df_immigration)"
   ]
  },
  {
   "cell_type": "markdown",
   "metadata": {
    "editable": true
   },
   "source": [
    "Inspect the dataset after cleaning"
   ]
  },
  {
   "cell_type": "code",
   "execution_count": 86,
   "metadata": {
    "editable": true
   },
   "outputs": [
    {
     "name": "stdout",
     "output_type": "stream",
     "text": [
      "root\n",
      " |-- year: integer (nullable = true)\n",
      " |-- month: integer (nullable = true)\n",
      " |-- state_code: string (nullable = true)\n",
      " |-- cicid: integer (nullable = true)\n",
      " |-- citizenship_country_id: integer (nullable = true)\n",
      " |-- residency_country_id: integer (nullable = true)\n",
      " |-- port_id: string (nullable = true)\n",
      " |-- arrival_date: date (nullable = true)\n",
      " |-- mode: integer (nullable = true)\n",
      " |-- departure_date: date (nullable = true)\n",
      " |-- age: integer (nullable = true)\n",
      " |-- birth_year: integer (nullable = true)\n",
      " |-- visa_id: integer (nullable = true)\n",
      " |-- gender: string (nullable = true)\n",
      " |-- city: string (nullable = true)\n",
      "\n"
     ]
    }
   ],
   "source": [
    "df_immigration_cleaned.printSchema()"
   ]
  },
  {
   "cell_type": "code",
   "execution_count": 87,
   "metadata": {
    "editable": true
   },
   "outputs": [
    {
     "data": {
      "text/plain": [
       "[Row(year=2016, month=4, state_code='CA', cicid=861557, citizenship_country_id=209, residency_country_id=209, port_id='SDP', arrival_date=datetime.date(2016, 4, 5), mode=1, departure_date=datetime.date(2016, 4, 8), age=46, birth_year=1970, visa_id=2, gender='M', city='SAN DIEGO'),\n",
       " Row(year=2016, month=4, state_code='NY', cicid=2161755, citizenship_country_id=123, residency_country_id=123, port_id='NYC', arrival_date=datetime.date(2016, 4, 12), mode=1, departure_date=datetime.date(2016, 4, 14), age=60, birth_year=1956, visa_id=1, gender=None, city='NEW YORK'),\n",
       " Row(year=2016, month=4, state_code='DC', cicid=2903779, citizenship_country_id=135, residency_country_id=135, port_id='WAS', arrival_date=datetime.date(2016, 4, 16), mode=1, departure_date=datetime.date(2016, 6, 8), age=60, birth_year=1956, visa_id=2, gender='F', city='WASHINGTON DC'),\n",
       " Row(year=2016, month=4, state_code='CA', cicid=3380572, citizenship_country_id=266, residency_country_id=266, port_id='LOS', arrival_date=datetime.date(2016, 4, 18), mode=1, departure_date=None, age=23, birth_year=1993, visa_id=3, gender='M', city='LOS ANGELES'),\n",
       " Row(year=2016, month=4, state_code='CA', cicid=4344944, citizenship_country_id=464, residency_country_id=438, port_id='LOS', arrival_date=datetime.date(2016, 4, 23), mode=1, departure_date=datetime.date(2016, 5, 1), age=47, birth_year=1969, visa_id=1, gender='M', city='LOS ANGELES'),\n",
       " Row(year=2016, month=4, state_code='FL', cicid=3548734, citizenship_country_id=332, residency_country_id=332, port_id='ORL', arrival_date=datetime.date(2016, 4, 19), mode=1, departure_date=datetime.date(2016, 4, 30), age=9, birth_year=2007, visa_id=2, gender='F', city='ORLANDO'),\n",
       " Row(year=2016, month=4, state_code='CA', cicid=54324, citizenship_country_id=209, residency_country_id=209, port_id='LOS', arrival_date=datetime.date(2016, 4, 1), mode=1, departure_date=datetime.date(2016, 4, 6), age=59, birth_year=1957, visa_id=2, gender='F', city='LOS ANGELES'),\n",
       " Row(year=2016, month=4, state_code='NJ', cicid=687285, citizenship_country_id=213, residency_country_id=131, port_id='NEW', arrival_date=datetime.date(2016, 4, 4), mode=1, departure_date=datetime.date(2016, 4, 15), age=42, birth_year=1974, visa_id=1, gender='M', city='NEWARK/TETERBORO'),\n",
       " Row(year=2016, month=4, state_code='IL', cicid=3112694, citizenship_country_id=130, residency_country_id=130, port_id='CHI', arrival_date=datetime.date(2016, 4, 17), mode=1, departure_date=datetime.date(2016, 4, 21), age=44, birth_year=1972, visa_id=1, gender='M', city='CHICAGO'),\n",
       " Row(year=2016, month=4, state_code='FL', cicid=3849271, citizenship_country_id=124, residency_country_id=124, port_id='MIA', arrival_date=datetime.date(2016, 4, 21), mode=1, departure_date=datetime.date(2016, 4, 22), age=64, birth_year=1952, visa_id=2, gender=None, city='MIAMI')]"
      ]
     },
     "execution_count": 87,
     "metadata": {},
     "output_type": "execute_result"
    }
   ],
   "source": [
    "df_immigration_cleaned.head(10)"
   ]
  },
  {
   "cell_type": "code",
   "execution_count": 88,
   "metadata": {
    "editable": true
   },
   "outputs": [
    {
     "data": {
      "text/plain": [
       "962"
      ]
     },
     "execution_count": 88,
     "metadata": {},
     "output_type": "execute_result"
    }
   ],
   "source": [
    "df_immigration_cleaned.count()"
   ]
  },
  {
   "cell_type": "code",
   "execution_count": 89,
   "metadata": {
    "editable": true
   },
   "outputs": [
    {
     "name": "stdout",
     "output_type": "stream",
     "text": [
      "+----+-----+----------+-----+----------------------+--------------------+-------+----+---+----------+-------+------+----+\n",
      "|year|month|state_code|cicid|citizenship_country_id|residency_country_id|port_id|mode|age|birth_year|visa_id|gender|city|\n",
      "+----+-----+----------+-----+----------------------+--------------------+-------+----+---+----------+-------+------+----+\n",
      "|   0|    0|        10|    0|                     0|                   0|      0|   0|  0|         0|      0|   140|   1|\n",
      "+----+-----+----------+-----+----------------------+--------------------+-------+----+---+----------+-------+------+----+\n",
      "\n"
     ]
    }
   ],
   "source": [
    "print_null_nan_values(df_immigration_cleaned)"
   ]
  },
  {
   "cell_type": "code",
   "execution_count": 90,
   "metadata": {
    "editable": true
   },
   "outputs": [
    {
     "name": "stdout",
     "output_type": "stream",
     "text": [
      "+------------+--------------+\n",
      "|arrival_date|departure_date|\n",
      "+------------+--------------+\n",
      "|           0|            40|\n",
      "+------------+--------------+\n",
      "\n"
     ]
    }
   ],
   "source": [
    "print_null_values_date(df_immigration_cleaned)"
   ]
  },
  {
   "cell_type": "code",
   "execution_count": 91,
   "metadata": {
    "editable": true
   },
   "outputs": [
    {
     "data": {
      "text/plain": [
       "[Row(year=2016, month=4, state_code=None, cicid=6045611, citizenship_country_id=254, residency_country_id=276, port_id='SAI', arrival_date=datetime.date(2016, 4, 23), mode=1, departure_date=datetime.date(2016, 4, 26), age=4, birth_year=2012, visa_id=2, gender='M', city='SAIPAN'),\n",
       " Row(year=2016, month=4, state_code=None, cicid=5963522, citizenship_country_id=245, residency_country_id=245, port_id='SAI', arrival_date=datetime.date(2016, 4, 9), mode=1, departure_date=datetime.date(2016, 4, 11), age=28, birth_year=1988, visa_id=2, gender='F', city='SAIPAN'),\n",
       " Row(year=2016, month=4, state_code=None, cicid=6046172, citizenship_country_id=254, residency_country_id=276, port_id='SAI', arrival_date=datetime.date(2016, 4, 25), mode=1, departure_date=datetime.date(2016, 4, 28), age=11, birth_year=2005, visa_id=2, gender='X', city='SAIPAN'),\n",
       " Row(year=2016, month=4, state_code=None, cicid=5963414, citizenship_country_id=245, residency_country_id=245, port_id='SAI', arrival_date=datetime.date(2016, 4, 9), mode=1, departure_date=datetime.date(2016, 4, 11), age=44, birth_year=1972, visa_id=2, gender='F', city='SAIPAN'),\n",
       " Row(year=2016, month=4, state_code=None, cicid=4116830, citizenship_country_id=438, residency_country_id=438, port_id='VCV', arrival_date=datetime.date(2016, 4, 22), mode=1, departure_date=datetime.date(2016, 4, 23), age=39, birth_year=1977, visa_id=2, gender=None, city='VANCOUVER')]"
      ]
     },
     "execution_count": 91,
     "metadata": {},
     "output_type": "execute_result"
    }
   ],
   "source": [
    "df_immigration_cleaned.filter( F.col(\"state_code\").isNull()).head(5)"
   ]
  },
  {
   "cell_type": "code",
   "execution_count": 92,
   "metadata": {
    "editable": true
   },
   "outputs": [
    {
     "data": {
      "text/plain": [
       "[Row(year=2016, month=4, state_code='NV', cicid=2424686, citizenship_country_id=582, residency_country_id=582, port_id='RNO', arrival_date=datetime.date(2016, 4, 13), mode=1, departure_date=datetime.date(2016, 4, 20), age=16, birth_year=2000, visa_id=2, gender='M', city=None)]"
      ]
     },
     "execution_count": 92,
     "metadata": {},
     "output_type": "execute_result"
    }
   ],
   "source": [
    "df_immigration_cleaned.filter(F.col(\"city\").isNull()).head(1)"
   ]
  },
  {
   "cell_type": "code",
   "execution_count": 93,
   "metadata": {
    "editable": true
   },
   "outputs": [
    {
     "name": "stdout",
     "output_type": "stream",
     "text": [
      "RNO CANNON INTL - RENO/TAHOE, NV CANNON INTL - RENO/TAHOE None\n"
     ]
    }
   ],
   "source": [
    "port_id_no_city = df_immigration_cleaned.filter( F.col(\"city\").isNull()).head(1)[0][df_immigration_cleaned.columns.index('port_id')]\n",
    "p = i94port.get(port_id_no_city)\n",
    "c = extract_city_from_port(p)\n",
    "cc = clean_city(c)\n",
    "print(port_id_no_city, p, c, cc)"
   ]
  },
  {
   "cell_type": "code",
   "execution_count": 94,
   "metadata": {
    "editable": true
   },
   "outputs": [
    {
     "data": {
      "text/plain": [
       "[Row(year=2016, month=4, state_code='NY', cicid=2161755, citizenship_country_id=123, residency_country_id=123, port_id='NYC', arrival_date=datetime.date(2016, 4, 12), mode=1, departure_date=datetime.date(2016, 4, 14), age=60, birth_year=1956, visa_id=1, gender=None, city='NEW YORK'),\n",
       " Row(year=2016, month=4, state_code='FL', cicid=3849271, citizenship_country_id=124, residency_country_id=124, port_id='MIA', arrival_date=datetime.date(2016, 4, 21), mode=1, departure_date=datetime.date(2016, 4, 22), age=64, birth_year=1952, visa_id=2, gender=None, city='MIAMI'),\n",
       " Row(year=2016, month=4, state_code='GA', cicid=3870400, citizenship_country_id=148, residency_country_id=112, port_id='ATL', arrival_date=datetime.date(2016, 4, 21), mode=1, departure_date=datetime.date(2016, 4, 27), age=35, birth_year=1981, visa_id=2, gender=None, city='ATLANTA'),\n",
       " Row(year=2016, month=4, state_code='CA', cicid=3722852, citizenship_country_id=438, residency_country_id=438, port_id='LOS', arrival_date=datetime.date(2016, 4, 20), mode=1, departure_date=datetime.date(2016, 4, 27), age=72, birth_year=1944, visa_id=2, gender=None, city='LOS ANGELES'),\n",
       " Row(year=2016, month=4, state_code='FL', cicid=38637, citizenship_country_id=135, residency_country_id=135, port_id='ORL', arrival_date=datetime.date(2016, 4, 1), mode=1, departure_date=datetime.date(2016, 4, 16), age=14, birth_year=2002, visa_id=2, gender=None, city='ORLANDO')]"
      ]
     },
     "execution_count": 94,
     "metadata": {},
     "output_type": "execute_result"
    }
   ],
   "source": [
    "df_immigration_cleaned.filter(F.col(\"gender\").isNull()).head(5)"
   ]
  },
  {
   "cell_type": "code",
   "execution_count": 95,
   "metadata": {
    "editable": true
   },
   "outputs": [
    {
     "data": {
      "text/plain": [
       "[Row(year=2016, month=4, state_code='CA', cicid=3380572, citizenship_country_id=266, residency_country_id=266, port_id='LOS', arrival_date=datetime.date(2016, 4, 18), mode=1, departure_date=None, age=23, birth_year=1993, visa_id=3, gender='M', city='LOS ANGELES'),\n",
       " Row(year=2016, month=4, state_code='NY', cicid=5020169, citizenship_country_id=113, residency_country_id=113, port_id='NYC', arrival_date=datetime.date(2016, 4, 27), mode=1, departure_date=None, age=33, birth_year=1983, visa_id=2, gender='M', city='NEW YORK'),\n",
       " Row(year=2016, month=4, state_code='NY', cicid=1553520, citizenship_country_id=692, residency_country_id=692, port_id='NYC', arrival_date=datetime.date(2016, 4, 8), mode=1, departure_date=None, age=1, birth_year=2015, visa_id=2, gender='F', city='NEW YORK'),\n",
       " Row(year=2016, month=4, state_code='GU', cicid=5957654, citizenship_country_id=254, residency_country_id=276, port_id='SAI', arrival_date=datetime.date(2016, 4, 12), mode=1, departure_date=None, age=20, birth_year=1996, visa_id=2, gender='M', city='SAIPAN'),\n",
       " Row(year=2016, month=4, state_code='GU', cicid=6034994, citizenship_country_id=252, residency_country_id=209, port_id='AGA', arrival_date=datetime.date(2016, 4, 29), mode=1, departure_date=None, age=23, birth_year=1993, visa_id=2, gender='M', city='AGANA')]"
      ]
     },
     "execution_count": 95,
     "metadata": {},
     "output_type": "execute_result"
    }
   ],
   "source": [
    "df_immigration_cleaned.filter(F.col(\"departure_date\").isNull()).head(5)"
   ]
  },
  {
   "cell_type": "code",
   "execution_count": 96,
   "metadata": {
    "editable": true
   },
   "outputs": [],
   "source": [
    "assert df_immigration_cleaned.count() == df_immigration_cleaned.select(F.countDistinct(\"cicid\")).collect()[0][0]"
   ]
  },
  {
   "cell_type": "markdown",
   "metadata": {
    "editable": true
   },
   "source": [
    "Save the cleaned dataset"
   ]
  },
  {
   "cell_type": "code",
   "execution_count": 97,
   "metadata": {
    "editable": true
   },
   "outputs": [],
   "source": [
    "df_immigration_cleaned.write.partitionBy(\"year\", \"month\", \"state_code\").mode(\"overwrite\").parquet(DATA_CLEANED_IMMIGRATION_PARQUET)"
   ]
  },
  {
   "cell_type": "markdown",
   "metadata": {
    "editable": true
   },
   "source": [
    "<a id='c-airport'></a>\n",
    "#### 3.2.2. Airport Codes"
   ]
  },
  {
   "cell_type": "markdown",
   "metadata": {
    "editable": true
   },
   "source": [
    "Inspect the mapping of immigration and airport df"
   ]
  },
  {
   "cell_type": "code",
   "execution_count": 98,
   "metadata": {
    "editable": true
   },
   "outputs": [],
   "source": [
    "def get_df_map_immigration_airport(df_us_airport, i94port_unique_sample):\n",
    "    json_map_immigration_airport = {\"i94p\": [], \"city\": [], \"cleaned_city\": [], \"airport_name_codes\": [], \"airport_index_codes\": [], \"airport_codes\": [],\n",
    "                                    \"airport_index_municipality\": [], \"airport_municipality\": []}\n",
    "    airport_code_query = \"iata_code == '{port}' or local_code == '{port}' or gps_code == '{port}' or ident == '{port}'\"\n",
    "    for i94p in i94port_unique_sample:\n",
    "        cq = df_us_airport.query(airport_code_query.format(port=i94p))\n",
    "        ic = cq.index.values\n",
    "        an = df_us_airport.loc[ic][[\"name\"]].values if len(ic) > 0 else None\n",
    "        ac = df_us_airport.loc[ic][[\"local_code\", \"iata_code\", \"ident\", \"gps_code\"]].values if len(ic) > 0 else None\n",
    "        p = i94port.get(i94p)\n",
    "        c = extract_city_from_port(p)\n",
    "        cc = clean_city(c)\n",
    "        mm = df_us_airport.municipality.notnull() & df_us_airport.municipality.str.upper().str.contains(cc) if cc else None\n",
    "        mq = df_us_airport[mm] if cc else None\n",
    "        im = mq.index.values if cc else None\n",
    "        am = mq.municipality.values if cc and len(im) > 0 else None\n",
    "        json_map_immigration_airport[\"i94p\"].append(i94p)\n",
    "        json_map_immigration_airport[\"city\"].append(c)\n",
    "        json_map_immigration_airport[\"cleaned_city\"].append(cc)\n",
    "        json_map_immigration_airport[\"airport_index_codes\"].append(ic)\n",
    "        json_map_immigration_airport[\"airport_name_codes\"].append(an)\n",
    "        json_map_immigration_airport[\"airport_codes\"].append(ac)\n",
    "        json_map_immigration_airport[\"airport_index_municipality\"].append(im)\n",
    "        json_map_immigration_airport[\"airport_municipality\"].append(am)\n",
    "    return pd.DataFrame(json_map_immigration_airport)"
   ]
  },
  {
   "cell_type": "code",
   "execution_count": 99,
   "metadata": {
    "editable": true
   },
   "outputs": [
    {
     "name": "stdout",
     "output_type": "stream",
     "text": [
      "(70, 8)\n"
     ]
    },
    {
     "data": {
      "text/html": [
       "<div>\n",
       "<style scoped>\n",
       "    .dataframe tbody tr th:only-of-type {\n",
       "        vertical-align: middle;\n",
       "    }\n",
       "\n",
       "    .dataframe tbody tr th {\n",
       "        vertical-align: top;\n",
       "    }\n",
       "\n",
       "    .dataframe thead th {\n",
       "        text-align: right;\n",
       "    }\n",
       "</style>\n",
       "<table border=\"1\" class=\"dataframe\">\n",
       "  <thead>\n",
       "    <tr style=\"text-align: right;\">\n",
       "      <th></th>\n",
       "      <th>i94p</th>\n",
       "      <th>city</th>\n",
       "      <th>cleaned_city</th>\n",
       "      <th>airport_name_codes</th>\n",
       "      <th>airport_index_codes</th>\n",
       "      <th>airport_codes</th>\n",
       "      <th>airport_index_municipality</th>\n",
       "      <th>airport_municipality</th>\n",
       "    </tr>\n",
       "  </thead>\n",
       "  <tbody>\n",
       "    <tr>\n",
       "      <th>0</th>\n",
       "      <td>HHW</td>\n",
       "      <td>HONOLULU</td>\n",
       "      <td>HONOLULU</td>\n",
       "      <td>[[Stan Stamper Municipal Airport]]</td>\n",
       "      <td>[27465]</td>\n",
       "      <td>[[HHW, HUJ, KHHW, KHHW]]</td>\n",
       "      <td>[22948, 22954, 22962, 22963, 22970, 22971, 387...</td>\n",
       "      <td>[Honolulu, Honolulu, Honolulu, Honolulu, Honol...</td>\n",
       "    </tr>\n",
       "    <tr>\n",
       "      <th>1</th>\n",
       "      <td>MCA</td>\n",
       "      <td>MCALLEN</td>\n",
       "      <td>MCALLEN</td>\n",
       "      <td>None</td>\n",
       "      <td>[]</td>\n",
       "      <td>None</td>\n",
       "      <td>[]</td>\n",
       "      <td>None</td>\n",
       "    </tr>\n",
       "    <tr>\n",
       "      <th>2</th>\n",
       "      <td>OGG</td>\n",
       "      <td>KAHULUI - MAUI</td>\n",
       "      <td>KAHULUI - MAUI</td>\n",
       "      <td>[[Kahului Airport]]</td>\n",
       "      <td>[38756]</td>\n",
       "      <td>[[OGG, OGG, PHOG, PHOG]]</td>\n",
       "      <td>[]</td>\n",
       "      <td>None</td>\n",
       "    </tr>\n",
       "    <tr>\n",
       "      <th>3</th>\n",
       "      <td>LOS</td>\n",
       "      <td>LOS ANGELES</td>\n",
       "      <td>LOS ANGELES</td>\n",
       "      <td>None</td>\n",
       "      <td>[]</td>\n",
       "      <td>None</td>\n",
       "      <td>[71, 639, 641, 666, 1459, 2500, 2565, 2751, 29...</td>\n",
       "      <td>[Los Angeles, Los Angeles, West Los Angeles, L...</td>\n",
       "    </tr>\n",
       "    <tr>\n",
       "      <th>4</th>\n",
       "      <td>CHM</td>\n",
       "      <td>CHAMPLAIN</td>\n",
       "      <td>CHAMPLAIN</td>\n",
       "      <td>None</td>\n",
       "      <td>[]</td>\n",
       "      <td>None</td>\n",
       "      <td>[]</td>\n",
       "      <td>None</td>\n",
       "    </tr>\n",
       "    <tr>\n",
       "      <th>5</th>\n",
       "      <td>ATL</td>\n",
       "      <td>ATLANTA</td>\n",
       "      <td>ATLANTA</td>\n",
       "      <td>[[Hartsfield Jackson Atlanta International Air...</td>\n",
       "      <td>[26128]</td>\n",
       "      <td>[[ATL, ATL, KATL, KATL]]</td>\n",
       "      <td>[1914, 3708, 3956, 4313, 5840, 5869, 5978, 632...</td>\n",
       "      <td>[Atlanta, Atlanta, Atlanta, Atlanta, Atlanta, ...</td>\n",
       "    </tr>\n",
       "    <tr>\n",
       "      <th>6</th>\n",
       "      <td>SFR</td>\n",
       "      <td>SAN FRANCISCO</td>\n",
       "      <td>SAN FRANCISCO</td>\n",
       "      <td>[[San Fernando Airport]]</td>\n",
       "      <td>[42481]</td>\n",
       "      <td>[[nan, SFR, SFR, nan]]</td>\n",
       "      <td>[1560, 13681, 13682, 13685, 15239, 29940, 4920...</td>\n",
       "      <td>[San Francisco, San Francisco, San Francisco, ...</td>\n",
       "    </tr>\n",
       "    <tr>\n",
       "      <th>7</th>\n",
       "      <td>NYC</td>\n",
       "      <td>NEW YORK</td>\n",
       "      <td>NEW YORK</td>\n",
       "      <td>None</td>\n",
       "      <td>[]</td>\n",
       "      <td>None</td>\n",
       "      <td>[2746, 5445, 7431, 7432, 7433, 25070, 25072, 2...</td>\n",
       "      <td>[New York Mills, New York Mills, New York, New...</td>\n",
       "    </tr>\n",
       "    <tr>\n",
       "      <th>8</th>\n",
       "      <td>CHI</td>\n",
       "      <td>CHICAGO</td>\n",
       "      <td>CHICAGO</td>\n",
       "      <td>None</td>\n",
       "      <td>[]</td>\n",
       "      <td>None</td>\n",
       "      <td>[4748, 5326, 5350, 5366, 6937, 7333, 9996, 239...</td>\n",
       "      <td>[Chicago, Chicago/Schaumburg, West Chicago, Ch...</td>\n",
       "    </tr>\n",
       "    <tr>\n",
       "      <th>9</th>\n",
       "      <td>PHI</td>\n",
       "      <td>PHILADELPHIA</td>\n",
       "      <td>PHILADELPHIA</td>\n",
       "      <td>None</td>\n",
       "      <td>[]</td>\n",
       "      <td>None</td>\n",
       "      <td>[292, 353, 1238, 1359, 2082, 2218, 2219, 2235,...</td>\n",
       "      <td>[Philadelphia, Philadelphia, Philadelphia, Phi...</td>\n",
       "    </tr>\n",
       "  </tbody>\n",
       "</table>\n",
       "</div>"
      ],
      "text/plain": [
       "  i94p            city    cleaned_city  \\\n",
       "0  HHW        HONOLULU        HONOLULU   \n",
       "1  MCA         MCALLEN         MCALLEN   \n",
       "2  OGG  KAHULUI - MAUI  KAHULUI - MAUI   \n",
       "3  LOS     LOS ANGELES     LOS ANGELES   \n",
       "4  CHM       CHAMPLAIN       CHAMPLAIN   \n",
       "5  ATL         ATLANTA         ATLANTA   \n",
       "6  SFR   SAN FRANCISCO   SAN FRANCISCO   \n",
       "7  NYC        NEW YORK        NEW YORK   \n",
       "8  CHI         CHICAGO         CHICAGO   \n",
       "9  PHI    PHILADELPHIA    PHILADELPHIA   \n",
       "\n",
       "                                  airport_name_codes airport_index_codes  \\\n",
       "0                 [[Stan Stamper Municipal Airport]]             [27465]   \n",
       "1                                               None                  []   \n",
       "2                                [[Kahului Airport]]             [38756]   \n",
       "3                                               None                  []   \n",
       "4                                               None                  []   \n",
       "5  [[Hartsfield Jackson Atlanta International Air...             [26128]   \n",
       "6                           [[San Fernando Airport]]             [42481]   \n",
       "7                                               None                  []   \n",
       "8                                               None                  []   \n",
       "9                                               None                  []   \n",
       "\n",
       "              airport_codes  \\\n",
       "0  [[HHW, HUJ, KHHW, KHHW]]   \n",
       "1                      None   \n",
       "2  [[OGG, OGG, PHOG, PHOG]]   \n",
       "3                      None   \n",
       "4                      None   \n",
       "5  [[ATL, ATL, KATL, KATL]]   \n",
       "6    [[nan, SFR, SFR, nan]]   \n",
       "7                      None   \n",
       "8                      None   \n",
       "9                      None   \n",
       "\n",
       "                          airport_index_municipality  \\\n",
       "0  [22948, 22954, 22962, 22963, 22970, 22971, 387...   \n",
       "1                                                 []   \n",
       "2                                                 []   \n",
       "3  [71, 639, 641, 666, 1459, 2500, 2565, 2751, 29...   \n",
       "4                                                 []   \n",
       "5  [1914, 3708, 3956, 4313, 5840, 5869, 5978, 632...   \n",
       "6  [1560, 13681, 13682, 13685, 15239, 29940, 4920...   \n",
       "7  [2746, 5445, 7431, 7432, 7433, 25070, 25072, 2...   \n",
       "8  [4748, 5326, 5350, 5366, 6937, 7333, 9996, 239...   \n",
       "9  [292, 353, 1238, 1359, 2082, 2218, 2219, 2235,...   \n",
       "\n",
       "                                airport_municipality  \n",
       "0  [Honolulu, Honolulu, Honolulu, Honolulu, Honol...  \n",
       "1                                               None  \n",
       "2                                               None  \n",
       "3  [Los Angeles, Los Angeles, West Los Angeles, L...  \n",
       "4                                               None  \n",
       "5  [Atlanta, Atlanta, Atlanta, Atlanta, Atlanta, ...  \n",
       "6  [San Francisco, San Francisco, San Francisco, ...  \n",
       "7  [New York Mills, New York Mills, New York, New...  \n",
       "8  [Chicago, Chicago/Schaumburg, West Chicago, Ch...  \n",
       "9  [Philadelphia, Philadelphia, Philadelphia, Phi...  "
      ]
     },
     "execution_count": 99,
     "metadata": {},
     "output_type": "execute_result"
    }
   ],
   "source": [
    "df_map_immigration_airport = get_df_map_immigration_airport(df_us_airport, i94port_unique_sample)\n",
    "print(df_map_immigration_airport.shape)\n",
    "df_map_immigration_airport.head(10)"
   ]
  },
  {
   "cell_type": "markdown",
   "metadata": {
    "editable": true
   },
   "source": [
    "Clean the airport dataset"
   ]
  },
  {
   "cell_type": "code",
   "execution_count": 100,
   "metadata": {
    "editable": true
   },
   "outputs": [],
   "source": [
    "def clean_df_airport(csv_file):\n",
    "    df_cleaned = spark.read.option(\"header\", True).csv(csv_file)\n",
    "    airport_columns = [\"iso_region\", \"municipality\", \"iata_code\", \"local_code\", \"name\", \"type\", \"iso_country\"]\n",
    "    df_cleaned = df_cleaned \\\n",
    "        .select(*airport_columns) \\\n",
    "        .filter( F.col(\"iso_country\") == \"US\") \\\n",
    "        .withColumnRenamed(\"iso_region\", \"state_Code\") \\\n",
    "        .withColumn(\"municipality\", F.upper( F.col(\"municipality\"))) \\\n",
    "        .dropDuplicates()\n",
    "    airport_columns.remove(\"iso_region\") \n",
    "    airport_columns.append(\"state_code\")\n",
    "    df_cleaned = df_cleaned \\\n",
    "        .select(*airport_columns) \\\n",
    "        .withColumn(\"state_code\", F.regexp_replace(\"state_code\", \"US-\", \"\")) \n",
    "    airport_spark_obsolete_columns = [\"iso_country\"]\n",
    "    return df_cleaned.drop(*airport_spark_obsolete_columns)"
   ]
  },
  {
   "cell_type": "code",
   "execution_count": 101,
   "metadata": {
    "editable": true
   },
   "outputs": [],
   "source": [
    "df_airport_cleaned = clean_df_airport(str(DATA_RAW_AIRPORT_CSV))"
   ]
  },
  {
   "cell_type": "markdown",
   "metadata": {
    "editable": true
   },
   "source": [
    "Inspect the dataset after cleaning"
   ]
  },
  {
   "cell_type": "code",
   "execution_count": 102,
   "metadata": {
    "editable": true
   },
   "outputs": [
    {
     "name": "stdout",
     "output_type": "stream",
     "text": [
      "root\n",
      " |-- municipality: string (nullable = true)\n",
      " |-- iata_code: string (nullable = true)\n",
      " |-- local_code: string (nullable = true)\n",
      " |-- name: string (nullable = true)\n",
      " |-- type: string (nullable = true)\n",
      " |-- state_code: string (nullable = true)\n",
      "\n"
     ]
    }
   ],
   "source": [
    "df_airport_cleaned.printSchema()"
   ]
  },
  {
   "cell_type": "code",
   "execution_count": 103,
   "metadata": {
    "editable": true
   },
   "outputs": [
    {
     "data": {
      "text/plain": [
       "22754"
      ]
     },
     "execution_count": 103,
     "metadata": {},
     "output_type": "execute_result"
    }
   ],
   "source": [
    "df_airport_cleaned.count()"
   ]
  },
  {
   "cell_type": "code",
   "execution_count": 104,
   "metadata": {
    "editable": true
   },
   "outputs": [
    {
     "data": {
      "text/plain": [
       "[Row(municipality='VICTORY BIBLE CAMP', iata_code=None, local_code='0AK6', name='Victory Airport', type='small_airport', state_code='AK'),\n",
       " Row(municipality='BROADVIEW', iata_code=None, local_code='0IL1', name='Loyola University Medical Center Heliport', type='heliport', state_code='IL'),\n",
       " Row(municipality='SEQUIM', iata_code=None, local_code='0WN0', name=\"Rucilla's Roost Airport\", type='small_airport', state_code='WA'),\n",
       " Row(municipality='MONTPELIER', iata_code=None, local_code='16ID', name='Bear Lake Memorial Hospital Helipad', type='heliport', state_code='ID'),\n",
       " Row(municipality='LANCASTER', iata_code=None, local_code='1CL1', name='Little Buttes Antique Airfield', type='small_airport', state_code='CA'),\n",
       " Row(municipality='MOJAVE', iata_code=None, local_code='1CL2', name='Pontious Airport', type='small_airport', state_code='CA'),\n",
       " Row(municipality='CAMBRIDGE', iata_code=None, local_code='1MD1', name='Big Oak Farm Airport', type='small_airport', state_code='MD'),\n",
       " Row(municipality='NEW BRUNSWICK', iata_code=None, local_code='1NJ2', name='New Brunswick Gas Distn Heliport', type='heliport', state_code='NJ'),\n",
       " Row(municipality='CENTERVILLE', iata_code=None, local_code='24TA', name='Moore Ranch Airport', type='small_airport', state_code='TX'),\n",
       " Row(municipality='PINEHURST', iata_code=None, local_code='2GA3', name='Wrights Field', type='small_airport', state_code='GA')]"
      ]
     },
     "execution_count": 104,
     "metadata": {},
     "output_type": "execute_result"
    }
   ],
   "source": [
    "df_airport_cleaned.head(10)"
   ]
  },
  {
   "cell_type": "code",
   "execution_count": 105,
   "metadata": {
    "editable": true
   },
   "outputs": [
    {
     "name": "stdout",
     "output_type": "stream",
     "text": [
      "+------------+---------+----------+----+----+----------+\n",
      "|municipality|iata_code|local_code|name|type|state_code|\n",
      "+------------+---------+----------+----+----+----------+\n",
      "|         102|    20736|      1520|   0|   0|         0|\n",
      "+------------+---------+----------+----+----+----------+\n",
      "\n"
     ]
    }
   ],
   "source": [
    "print_null_nan_values(df_airport_cleaned)"
   ]
  },
  {
   "cell_type": "markdown",
   "metadata": {
    "editable": true
   },
   "source": [
    "Save the cleaned dataset"
   ]
  },
  {
   "cell_type": "code",
   "execution_count": 106,
   "metadata": {
    "editable": true
   },
   "outputs": [],
   "source": [
    "df_airport_cleaned.write.partitionBy(\"state_code\", \"municipality\").mode(\"overwrite\").parquet(DATA_CLEANED_AIRPORT_PARQUET)"
   ]
  },
  {
   "cell_type": "markdown",
   "metadata": {
    "editable": true
   },
   "source": [
    "<a id='c-demographic'></a>\n",
    "#### 3.2.3. US City Demographic"
   ]
  },
  {
   "cell_type": "markdown",
   "metadata": {
    "editable": true
   },
   "source": [
    "Inspect the mapping of immigration and demographic dataset"
   ]
  },
  {
   "cell_type": "code",
   "execution_count": 107,
   "metadata": {
    "editable": true
   },
   "outputs": [],
   "source": [
    "def get_immigration_sample_cleaned_cities(i94port_unique_sample):\n",
    "    immigration_sample_cleaned_cities = set()\n",
    "    for i94p in i94port_unique_sample:\n",
    "        p = i94port.get(i94p)\n",
    "        c = extract_city_from_port(p)\n",
    "        cc = clean_city(c)\n",
    "        if cc:\n",
    "            immigration_sample_cleaned_cities.add(cc)\n",
    "    print(f\"Number of cleaned cities in immigration sample df: {len(immigration_sample_cleaned_cities)}\")\n",
    "    return immigration_sample_cleaned_cities"
   ]
  },
  {
   "cell_type": "code",
   "execution_count": 108,
   "metadata": {
    "editable": true
   },
   "outputs": [],
   "source": [
    "def get_demo_uniq_cities_set(df_demo_uniq_city):\n",
    "    demo_uniq_city_set = set(df_demo_uniq_city.str.upper().values)\n",
    "    print(f\"Number of cities in demo df: {len(demo_uniq_city_set)}\")\n",
    "    return demo_uniq_city_set"
   ]
  },
  {
   "cell_type": "code",
   "execution_count": 109,
   "metadata": {
    "editable": true
   },
   "outputs": [
    {
     "name": "stdout",
     "output_type": "stream",
     "text": [
      "Number of cleaned cities in immigration sample df: 68\n",
      "Number of cities in demo df: 567\n",
      "Number of immigration cities in demographic df: 36 (52.94117647058824%)\n"
     ]
    }
   ],
   "source": [
    "i_cities = get_immigration_sample_cleaned_cities(i94port_unique_sample)\n",
    "d_cities = get_demo_uniq_cities_set(df_demo_uniq_city)\n",
    "i_cities_in_d = {ic for ic in i_cities for dc in d_cities if ic in dc}\n",
    "print(f\"Number of immigration cities in demographic df: {len(i_cities_in_d)} ({len(i_cities_in_d)/len(i_cities)*100}%)\")"
   ]
  },
  {
   "cell_type": "markdown",
   "metadata": {
    "editable": true
   },
   "source": [
    "Clean the demographic df"
   ]
  },
  {
   "cell_type": "code",
   "execution_count": 110,
   "metadata": {
    "editable": true
   },
   "outputs": [],
   "source": [
    "def clean_df_demo(csv_file):\n",
    "    df_cleaned = spark.read.csv(csv_file, sep=\";\", header=True)\n",
    "    demo_org_columns = [\"State Code\", \"City\", \"Median Age\", \"Male Population\", \"Female Population\", \"Total Population\", \n",
    "                        \"Average Household Size\", \"Foreign-born\", \"Number of Veterans\"]\n",
    "    demo_unordered_cols = dict()\n",
    "    for c in demo_org_columns:\n",
    "        demo_unordered_cols[c] = c.replace(\"-\",\"_\").replace(\" \",\"_\").lower()\n",
    "    demo_relevant_old_to_new_cols = collections.OrderedDict(demo_unordered_cols)\n",
    "    df_cleaned = df_cleaned.select(*demo_relevant_old_to_new_cols.keys()).dropDuplicates()\n",
    "    df_cleaned = df_cleaned.toDF(*demo_relevant_old_to_new_cols.values())\n",
    "    df_cleaned = df_cleaned \\\n",
    "        .withColumn(\"city\", F.upper( F.col(\"city\"))) \\\n",
    "        .withColumn(\"median_age\", df_cleaned.median_age.cast('int')) \\\n",
    "        .withColumn(\"male_population\", df_cleaned.male_population.cast('int')) \\\n",
    "        .withColumn(\"female_population\", df_cleaned.female_population.cast('int')) \\\n",
    "        .withColumn(\"total_population\", df_cleaned.total_population.cast('int')) \\\n",
    "        .withColumn(\"foreign_born\", df_cleaned.foreign_born.cast('int')) \\\n",
    "        .withColumn(\"number_of_veterans\", df_cleaned.number_of_veterans.cast('int')) \\\n",
    "        .withColumn(\"average_household_size\", df_cleaned.average_household_size.cast('double'))\n",
    "    return df_cleaned"
   ]
  },
  {
   "cell_type": "code",
   "execution_count": 111,
   "metadata": {
    "editable": true
   },
   "outputs": [],
   "source": [
    "df_demo_cleaned = clean_df_demo(str(DATA_RAW_US_DEMO_CSV))"
   ]
  },
  {
   "cell_type": "markdown",
   "metadata": {
    "editable": true
   },
   "source": [
    "Inspect the dataset after cleaning"
   ]
  },
  {
   "cell_type": "code",
   "execution_count": 112,
   "metadata": {
    "editable": true
   },
   "outputs": [
    {
     "name": "stdout",
     "output_type": "stream",
     "text": [
      "root\n",
      " |-- state_code: string (nullable = true)\n",
      " |-- city: string (nullable = true)\n",
      " |-- median_age: integer (nullable = true)\n",
      " |-- male_population: integer (nullable = true)\n",
      " |-- female_population: integer (nullable = true)\n",
      " |-- total_population: integer (nullable = true)\n",
      " |-- average_household_size: double (nullable = true)\n",
      " |-- foreign_born: integer (nullable = true)\n",
      " |-- number_of_veterans: integer (nullable = true)\n",
      "\n"
     ]
    }
   ],
   "source": [
    "df_demo_cleaned.printSchema()"
   ]
  },
  {
   "cell_type": "code",
   "execution_count": 113,
   "metadata": {
    "editable": true
   },
   "outputs": [
    {
     "data": {
      "text/plain": [
       "596"
      ]
     },
     "execution_count": 113,
     "metadata": {},
     "output_type": "execute_result"
    }
   ],
   "source": [
    "df_demo_cleaned.count()"
   ]
  },
  {
   "cell_type": "code",
   "execution_count": 114,
   "metadata": {
    "editable": true
   },
   "outputs": [
    {
     "name": "stdout",
     "output_type": "stream",
     "text": [
      "+----------+----+----------+---------------+-----------------+----------------+----------------------+------------+------------------+\n",
      "|state_code|city|median_age|male_population|female_population|total_population|average_household_size|foreign_born|number_of_veterans|\n",
      "+----------+----+----------+---------------+-----------------+----------------+----------------------+------------+------------------+\n",
      "|         0|   0|         0|              1|                1|               0|                     8|           7|                 7|\n",
      "+----------+----+----------+---------------+-----------------+----------------+----------------------+------------+------------------+\n",
      "\n"
     ]
    }
   ],
   "source": [
    "df_demo_cleaned.select([F.count(F.when(F.isnan(c) |  F.col(c).isNull(), c)).alias(c) for c in df_demo_cleaned.columns]).show()"
   ]
  },
  {
   "cell_type": "code",
   "execution_count": 115,
   "metadata": {
    "editable": true
   },
   "outputs": [
    {
     "data": {
      "text/plain": [
       "[Row(state_code='RI', city='PROVIDENCE', median_age=29, male_population=89090, female_population=90114, total_population=179204, average_household_size=2.72, foreign_born=53532, number_of_veterans=4933),\n",
       " Row(state_code='TX', city='LEWISVILLE', median_age=31, male_population=52776, female_population=52032, total_population=104808, average_household_size=2.78, foreign_born=24865, number_of_veterans=4211),\n",
       " Row(state_code='UT', city='LAYTON', median_age=29, male_population=37748, female_population=36394, total_population=74142, average_household_size=3.24, foreign_born=4268, number_of_veterans=3811),\n",
       " Row(state_code='PR', city='SAN JUAN', median_age=41, male_population=155408, female_population=186829, total_population=342237, average_household_size=None, foreign_born=None, number_of_veterans=None),\n",
       " Row(state_code='FL', city='WESTON', median_age=38, male_population=32956, female_population=36991, total_population=69947, average_household_size=3.34, foreign_born=30876, number_of_veterans=1507),\n",
       " Row(state_code='NC', city='FAYETTEVILLE', median_age=30, male_population=101051, female_population=100914, total_population=201965, average_household_size=2.5, foreign_born=12863, number_of_veterans=28089),\n",
       " Row(state_code='KS', city='TOPEKA', median_age=37, male_population=60879, female_population=66378, total_population=127257, average_household_size=2.32, foreign_born=6711, number_of_veterans=9608),\n",
       " Row(state_code='FL', city='HIALEAH', median_age=43, male_population=111530, female_population=125552, total_population=237082, average_household_size=3.31, foreign_born=170148, number_of_veterans=1844),\n",
       " Row(state_code='FL', city='FORT MYERS', median_age=37, male_population=36850, female_population=37165, total_population=74015, average_household_size=2.45, foreign_born=15365, number_of_veterans=4312),\n",
       " Row(state_code='MN', city='WOODBURY', median_age=37, male_population=31982, female_population=35868, total_population=67850, average_household_size=2.72, foreign_born=9477, number_of_veterans=2732)]"
      ]
     },
     "execution_count": 115,
     "metadata": {},
     "output_type": "execute_result"
    }
   ],
   "source": [
    "df_demo_cleaned.head(10)"
   ]
  },
  {
   "cell_type": "markdown",
   "metadata": {
    "editable": true
   },
   "source": [
    "Save the cleaned dataset"
   ]
  },
  {
   "cell_type": "code",
   "execution_count": 116,
   "metadata": {
    "editable": true
   },
   "outputs": [],
   "source": [
    "df_demo_cleaned.write.partitionBy(\"state_code\").mode(\"overwrite\").parquet(DATA_CLEANED_DEMO_PARQUET)"
   ]
  },
  {
   "cell_type": "markdown",
   "metadata": {
    "editable": true
   },
   "source": [
    "<a id='model-definition'></a>\n",
    "## 4. Data Model Definition\n",
    "<a id='model-conceptual'></a>\n",
    "### 4.1. Conceptual Data Model\n",
    "\n",
    "![](docs/conceptual_erd_star.drawio.png)\n",
    "\n",
    "The illustration above shows a conceptual ERD of the database. A star schema with fact and dimension tables was defined to allow analytic queries as stated within the project scope. The schema is optimized for OLAP and BI.\n",
    "\n",
    "\n",
    "<a id='etl-definition'></a>\n",
    "### 4.2. ETL Definition\n",
    "\n",
    "The prequisite for the ETL pipeline is that the raw data was cleaned and stored in Apache parquet format as described in step 3.2. within this notebook.\n",
    "\n",
    "The tree of the data directory is illustrated and described in the [README.md](README.md#data-directory-tree).\n",
    "\n",
    "The ETL will consists of the following steps to pipeline the cleaned data into the chosen data model:\n",
    "1. Select the data of the cleaned immigration dataset `df_immigration_cleaned` to create the `d_visitors` dimension table and compute a uniqe id for each record. Partition the data by `year` and `month`. Without the unique id the records would look like that they contains duplicates, since the column `cicid` has been dropped (i.e. 2 persons with the same characteristics visited the US on the same date and port). \n",
    "1. Select the data of the cleaned immigration dataset `df_immigration_cleaned` to create the `f_us_immigrations` fact table. Drop duplicate records. Afterwards compute a uniqe id for each record. Partion the data by `year`, `month` and `state_code`. \n",
    "1. Select the data of the cleaned airport dataset `df_airport_cleaned` to create the `d_us_airports` dimension table. Drop duplicate records. Afterwards compute a uniqe id for each record. Partion the data by `state_code` and `municipality`.\n",
    "1. Select the data of the cleaned US city demographic dataset `df_demo_cleaned` to create the `d_us_demo` dimension table. Drop duplicate records. Afterwards compute a uniqe id for each record. Partion the data by `state_code`.\n",
    "1. Finally, compute checks to assure data quality."
   ]
  },
  {
   "cell_type": "markdown",
   "metadata": {
    "editable": true
   },
   "source": [
    "<a id='etl'></a>\n",
    "## 5. Run ETL Pipeline\n",
    "<a id='model-creation'></a>\n",
    "### 5.1. Data Model Creation"
   ]
  },
  {
   "cell_type": "code",
   "execution_count": 117,
   "metadata": {
    "editable": true
   },
   "outputs": [],
   "source": [
    "# Uncomment the following lines to read the parquet files and skip the previous cleaning steps\n",
    "# df_immigration_cleaned = spark.read.parquet(DATA_CLEANED_IMMIGRATION_PARQUET)\n",
    "# df_airport_cleaned = spark.read.parquet(DATA_CLEANED_AIRPORT_PARQUET)\n",
    "# df_demo_cleaned = spark.read.parquet(DATA_CLEANED_DEMO_PARQUET)"
   ]
  },
  {
   "cell_type": "markdown",
   "metadata": {
    "editable": true
   },
   "source": [
    "Compute dimension table d_visitor"
   ]
  },
  {
   "cell_type": "code",
   "execution_count": 118,
   "metadata": {
    "editable": true
   },
   "outputs": [],
   "source": [
    "def generate_d_visitors(df_immigration_cleaned):\n",
    "    d_visitors_partition_cols = [\"year\", \"month\"]\n",
    "    d_visitors_cols = d_visitors_partition_cols + [\"id\", \"port_id\", \"arrival_date\", \"departure_date\", \"citizenship_country_id\",\n",
    "                                                   \"residency_country_id\", \"age\", \"birth_year\", \"gender\", \"visa_id\"]\n",
    "    d_visitors = df_immigration_cleaned.select(*df_immigration_cleaned.columns) \\\n",
    "        .withColumn(\"monotonically_increasing_id\", F.monotonically_increasing_id())\n",
    "    window = Window.orderBy( F.col('monotonically_increasing_id'))\n",
    "    d_visitors = d_visitors.withColumn('id', F.row_number().over(window))\n",
    "    d_visitors = d_visitors.drop(*[c for c in d_visitors.columns if c not in d_visitors_cols]).select(*d_visitors_cols)\n",
    "    d_visitors.write.partitionBy(*d_visitors_partition_cols).mode(\"overwrite\").parquet(DATA_PROCESSED_D_VISITORS)\n",
    "    return d_visitors"
   ]
  },
  {
   "cell_type": "code",
   "execution_count": 119,
   "metadata": {
    "editable": true
   },
   "outputs": [],
   "source": [
    "d_visitors = generate_d_visitors(df_immigration_cleaned)"
   ]
  },
  {
   "cell_type": "markdown",
   "metadata": {
    "editable": true
   },
   "source": [
    "Compute fact table f_us_immigrations"
   ]
  },
  {
   "cell_type": "code",
   "execution_count": 120,
   "metadata": {
    "editable": true
   },
   "outputs": [],
   "source": [
    "def generate_f_us_immigrations(df_immigration_cleaned):\n",
    "    f_us_immigrations_partition_cols = [\"year\", \"month\", \"state_code\"]\n",
    "    f_us_immigrations_cols = f_us_immigrations_partition_cols + [\"id\", \"city\", \"port_id\"]\n",
    "    f_us_immigrations = df_immigration_cleaned.select(*[c for c in f_us_immigrations_cols if c != \"id\"]) \\\n",
    "        .dropDuplicates() \\\n",
    "        .withColumn(\"monotonically_increasing_id\", F.monotonically_increasing_id())\n",
    "    window = Window.orderBy( F.col('monotonically_increasing_id'))\n",
    "    f_us_immigrations = f_us_immigrations.withColumn('id', F.row_number().over(window))\n",
    "    f_us_immigrations = f_us_immigrations.drop(*[c for c in f_us_immigrations.columns if c not in f_us_immigrations_cols]).select(*f_us_immigrations_cols)\n",
    "    f_us_immigrations.write.partitionBy(*f_us_immigrations_partition_cols).mode(\"overwrite\").parquet(DATA_PROCESSED_F_IMMIGRATIONS)\n",
    "    return f_us_immigrations"
   ]
  },
  {
   "cell_type": "code",
   "execution_count": 121,
   "metadata": {
    "editable": true
   },
   "outputs": [],
   "source": [
    "f_us_immigrations = generate_f_us_immigrations(df_immigration_cleaned)"
   ]
  },
  {
   "cell_type": "markdown",
   "metadata": {
    "editable": true
   },
   "source": [
    "Compute dimension table d_us_airports"
   ]
  },
  {
   "cell_type": "code",
   "execution_count": 122,
   "metadata": {
    "editable": true
   },
   "outputs": [],
   "source": [
    "def generate_d_us_airports(df_airport_cleaned):\n",
    "    d_us_airports_partition_cols = [\"state_code\", \"municipality\"]\n",
    "    d_us_airports_cols = d_us_airports_partition_cols + [\"id\", \"iata_code\", \"local_code\", \"name\", \"type\"]\n",
    "    d_us_airports = df_airport_cleaned.select(*[c for c in d_us_airports_cols if c != \"id\"]) \\\n",
    "        .dropDuplicates() \\\n",
    "        .withColumn(\"monotonically_increasing_id\", F.monotonically_increasing_id())\n",
    "    window = Window.orderBy( F.col('monotonically_increasing_id'))\n",
    "    d_us_airports = d_us_airports.withColumn('id', F.row_number().over(window))\n",
    "    d_us_airports = d_us_airports.drop(*[c for c in d_us_airports.columns if c not in d_us_airports_cols]).select(*d_us_airports_cols)\n",
    "    d_us_airports.write.partitionBy(*d_us_airports_partition_cols).mode(\"overwrite\").parquet(DATA_PROCESSED_D_AIRPORTS)\n",
    "    return d_us_airports"
   ]
  },
  {
   "cell_type": "code",
   "execution_count": 123,
   "metadata": {
    "editable": true
   },
   "outputs": [],
   "source": [
    "d_us_airports = generate_d_us_airports(df_airport_cleaned)"
   ]
  },
  {
   "cell_type": "markdown",
   "metadata": {
    "editable": true
   },
   "source": [
    "Compute dimension table d_us_demo"
   ]
  },
  {
   "cell_type": "code",
   "execution_count": 124,
   "metadata": {
    "editable": true
   },
   "outputs": [],
   "source": [
    "def generate_d_us_demo(df_demo_cleaned):\n",
    "    d_us_demo_partition_cols = [\"state_code\"]\n",
    "    d_us_demo_cols = d_us_demo_partition_cols + [\"id\", \"city\", \"median_age\", \"male_population\", \"female_population\", \n",
    "                                                 \"total_population\", \"average_household_size\", \n",
    "                                                 \"foreign_born\", \"number_of_veterans\"]\n",
    "    d_us_demo = df_demo_cleaned.select(*[c for c in d_us_demo_cols if c != \"id\"]) \\\n",
    "        .dropDuplicates() \\\n",
    "        .withColumn(\"monotonically_increasing_id\", F.monotonically_increasing_id())\n",
    "    window = Window.orderBy( F.col('monotonically_increasing_id'))\n",
    "    d_us_demo = d_us_demo.withColumn('id', F.row_number().over(window))\n",
    "    d_us_demo = d_us_demo.drop(*[c for c in d_us_demo.columns if c not in d_us_demo_cols]).select(*d_us_demo_cols)\n",
    "    d_us_demo.write.partitionBy(*d_us_demo_partition_cols).mode(\"overwrite\").parquet(DATA_PROCESSED_D_DEMOGRAPHIC)\n",
    "    return d_us_demo"
   ]
  },
  {
   "cell_type": "code",
   "execution_count": 125,
   "metadata": {
    "editable": true
   },
   "outputs": [],
   "source": [
    "d_us_demo = generate_d_us_demo(df_demo_cleaned)"
   ]
  },
  {
   "cell_type": "markdown",
   "metadata": {
    "editable": true
   },
   "source": [
    "<a id='dict'></a>\n",
    "### 5.2. Data Dictionary \n",
    "\n",
    "Below is for each analytic table of the data model the column name, data type and a short description listed. Some columns only represent an id for which the value can be retrieved using the json dictionaries stored in `data/processed/immigration_data_dict`.\n",
    "\n",
    "Since Pyspark was used, the listed data types for each table below refer to [Spark data types](https://spark.apache.org/docs/latest/sql-ref-datatypes.html). \n",
    "\n",
    "### US Immigration Fact Table: `f_us_immigrations`\n",
    "\n",
    "| Table Column | Data Type    | Description  |\n",
    "| ------------ | ------------ | ------------ |\n",
    "| year | `IntegerType`  | 4-digit year, primary partition key |\n",
    "| month | `IntegerType` | Numeric month, secondary partition key |\n",
    "| state_code | `StringType` | US state code, tertiary partition key, use the json dictionary `data/processed/immigration_data_dict/I94ADDR.json` to retrieve the US state name based on the code |\n",
    "| id | `IntegerType` | Auto generated unique id  |\n",
    "| city | `StringType` | Name of city extracted from json dictionary `data/processed/immigration_data_dict/I94PORT.json` based on the `port_id` |\n",
    "| port_id | `StringType` |  Port id for which the name can be retrieved using the json dictionary `data/processed/immigration_data_dict/I94PORT.json` |\n",
    "\n",
    "\n",
    "### Visitor Dimension Table: `d_visitors`\n",
    "\n",
    "| Table Column | Data Type    | Description  |\n",
    "| ------------ | ------------ | ------------ |\n",
    "| year | `IntegerType`  | 4-digit year, primary partition key |\n",
    "| month | `IntegerType` | Numeric month, secondary partition key |\n",
    "| id | `IntegerType` | Auto generated unique id  |\n",
    "| port_id | `StringType` |  Port id for which the name can be retrieved using the json dictionary `data/processed/immigration_data_dict/I94PORT.json` |\n",
    "| arrival_date | `DateType` |  Arrival date \n",
    "| departure_date |  `DateType` |  Departure date |\n",
    "| citizenship_country_id | `IntegerType` | Citizenship country id for which the name can be retrieved using the json dictionary `data/processed/immigration_data_dict/I94CIT_I94RES.json` |\n",
    "| residency_country_id | `IntegerType` |  Residency country id for which the name can be retrieved using the json dictionary `data/processed/immigration_data_dict/I94CIT_I94RES.json` |\n",
    "| age | `IntegerType`|  Age on arrival date |\n",
    "| birth_year | `IntegerType`|  Birth year |\n",
    "| gender | `StringType` |  Sex |\n",
    "| visa_id | `IntegerType` |  Visa id for which the name can be retrieved using the json dictionary `data/processed/immigration_data_dict/I94VISA.json` |\n",
    "\n",
    "\n",
    "### US Airport Dimension Table: `d_us_airports`\n",
    "\n",
    "| Table Column | Data Type    | Description  |\n",
    "| ------------ | ------------ | ------------ |\n",
    "| state_code | `StringType` | US state code, primary partition key, use the json dictionary `data/processed/immigration_data_dict/I94ADDR.json` to retrieve the US state name based on the code |\n",
    "| municipality | `StringType` | Municipality in which the Airport is located, secondary partition key |\n",
    "| id | `IntegerType` | Auto generated unique id  |\n",
    "| iata_code | `StringType` | \"International Air Transport Association\" code |\n",
    "| local_code | `StringType` | Local code used in the US |\n",
    "| name | `StringType` |  Name |\n",
    "| type | `StringType` |  Type, e.g. large, small, closed Airport |\n",
    "\n",
    "### US City Demographic Dimension Table: `d_us_demo`\n",
    "\n",
    "| Table Column | Data Type    | Description  |\n",
    "| ------------ | ------------ | ------------ |\n",
    "| state_code | `StringType` | US state code, primary partition key, use the json dictionary `data/processed/immigration_data_dict/I94ADDR.json` to retrieve the US state name based on the code |\n",
    "| id | `IntegerType` | Auto generated unique id  |\n",
    "| city | `StringType` | Name of city |\n",
    "| median_age | `IntegerType` | Media age of the city population |\n",
    "| male_population | `IntegerType` | Male population of the city |\n",
    "| female_population | `IntegerType` | Female population of the city |\n",
    "| total_population | `IntegerType` | Total population of the city |\n",
    "| average_household_size | `DoubleType` | Average household size of the city |\n",
    "| foreign_born | `IntegerType` | Persons not born in the US with residency in the city|\n",
    "| number_of_veterans | `IntegerType` | Number of veterans with residency in the city|\n"
   ]
  },
  {
   "cell_type": "markdown",
   "metadata": {
    "editable": true
   },
   "source": [
    "<a id='quality'></a>\n",
    "### 5.3. Data Quality Checks\n",
    "\n",
    "To assure data quality, the following check will be performed:\n",
    "1. Verify that each table is not empty\n",
    "1. Verify that for each table a unique id per row has been computed\n",
    "1. Manually verify that the tables match the defined data model and data types\n",
    "1. Run an analytics query joining multiple table to provide evidence: Are immigrants travel to cities with generally more immigrants and more Airports?\n",
    "\n",
    "**5.3.1. Verify that each table is not empty**"
   ]
  },
  {
   "cell_type": "code",
   "execution_count": 126,
   "metadata": {
    "editable": true
   },
   "outputs": [
    {
     "data": {
      "text/plain": [
       "962"
      ]
     },
     "execution_count": 126,
     "metadata": {},
     "output_type": "execute_result"
    }
   ],
   "source": [
    "d_visitors_count = d_visitors.count()\n",
    "d_visitors_count"
   ]
  },
  {
   "cell_type": "code",
   "execution_count": 127,
   "metadata": {
    "editable": true
   },
   "outputs": [],
   "source": [
    "assert d_visitors_count > 0"
   ]
  },
  {
   "cell_type": "code",
   "execution_count": 128,
   "metadata": {
    "editable": true
   },
   "outputs": [
    {
     "data": {
      "text/plain": [
       "68"
      ]
     },
     "execution_count": 128,
     "metadata": {},
     "output_type": "execute_result"
    }
   ],
   "source": [
    "f_us_immigrations_count = f_us_immigrations.count()\n",
    "f_us_immigrations_count"
   ]
  },
  {
   "cell_type": "code",
   "execution_count": 129,
   "metadata": {
    "editable": true
   },
   "outputs": [],
   "source": [
    "assert f_us_immigrations_count > 0"
   ]
  },
  {
   "cell_type": "code",
   "execution_count": 130,
   "metadata": {
    "editable": true
   },
   "outputs": [
    {
     "data": {
      "text/plain": [
       "22754"
      ]
     },
     "execution_count": 130,
     "metadata": {},
     "output_type": "execute_result"
    }
   ],
   "source": [
    "d_us_airports_count = d_us_airports.count()\n",
    "d_us_airports_count"
   ]
  },
  {
   "cell_type": "code",
   "execution_count": 131,
   "metadata": {
    "editable": true
   },
   "outputs": [],
   "source": [
    "assert d_us_airports_count > 0"
   ]
  },
  {
   "cell_type": "code",
   "execution_count": 132,
   "metadata": {
    "editable": true
   },
   "outputs": [
    {
     "data": {
      "text/plain": [
       "596"
      ]
     },
     "execution_count": 132,
     "metadata": {},
     "output_type": "execute_result"
    }
   ],
   "source": [
    "d_us_demo_count = d_us_demo.count()\n",
    "d_us_demo_count"
   ]
  },
  {
   "cell_type": "code",
   "execution_count": 133,
   "metadata": {
    "editable": true
   },
   "outputs": [],
   "source": [
    "assert d_us_demo_count > 0"
   ]
  },
  {
   "cell_type": "markdown",
   "metadata": {
    "editable": true
   },
   "source": [
    "**5.3.2. Verify that for each table a unique id per row has been computed**"
   ]
  },
  {
   "cell_type": "code",
   "execution_count": 134,
   "metadata": {
    "editable": true
   },
   "outputs": [
    {
     "data": {
      "text/plain": [
       "962"
      ]
     },
     "execution_count": 134,
     "metadata": {},
     "output_type": "execute_result"
    }
   ],
   "source": [
    "d_visitors_count_id = d_visitors.select(F.countDistinct(\"id\")).collect()[0][0]\n",
    "d_visitors_count_id"
   ]
  },
  {
   "cell_type": "code",
   "execution_count": 135,
   "metadata": {
    "editable": true
   },
   "outputs": [],
   "source": [
    "assert d_visitors_count == d_visitors_count_id"
   ]
  },
  {
   "cell_type": "code",
   "execution_count": 136,
   "metadata": {
    "editable": true
   },
   "outputs": [
    {
     "data": {
      "text/plain": [
       "68"
      ]
     },
     "execution_count": 136,
     "metadata": {},
     "output_type": "execute_result"
    }
   ],
   "source": [
    "f_us_immigrations_count_id = f_us_immigrations.select(F.countDistinct(\"id\")).collect()[0][0]\n",
    "f_us_immigrations_count_id"
   ]
  },
  {
   "cell_type": "code",
   "execution_count": 137,
   "metadata": {
    "editable": true
   },
   "outputs": [],
   "source": [
    "assert f_us_immigrations_count == f_us_immigrations_count_id"
   ]
  },
  {
   "cell_type": "code",
   "execution_count": 138,
   "metadata": {
    "editable": true
   },
   "outputs": [
    {
     "data": {
      "text/plain": [
       "22754"
      ]
     },
     "execution_count": 138,
     "metadata": {},
     "output_type": "execute_result"
    }
   ],
   "source": [
    "d_us_airports_count_id = d_us_airports.select(F.countDistinct(\"id\")).collect()[0][0]\n",
    "d_us_airports_count_id"
   ]
  },
  {
   "cell_type": "code",
   "execution_count": 139,
   "metadata": {
    "editable": true
   },
   "outputs": [],
   "source": [
    "assert d_us_airports_count == d_us_airports_count_id"
   ]
  },
  {
   "cell_type": "code",
   "execution_count": 140,
   "metadata": {
    "editable": true
   },
   "outputs": [
    {
     "data": {
      "text/plain": [
       "596"
      ]
     },
     "execution_count": 140,
     "metadata": {},
     "output_type": "execute_result"
    }
   ],
   "source": [
    "d_us_demo_count_id = d_us_demo.select(F.countDistinct(\"id\")).collect()[0][0]\n",
    "d_us_demo_count_id"
   ]
  },
  {
   "cell_type": "code",
   "execution_count": 141,
   "metadata": {
    "editable": true
   },
   "outputs": [],
   "source": [
    "assert d_us_demo_count == d_us_demo_count_id"
   ]
  },
  {
   "cell_type": "markdown",
   "metadata": {
    "editable": true
   },
   "source": [
    "**5.3.3. Manually verify that the tables match the defined data model and data types**"
   ]
  },
  {
   "cell_type": "code",
   "execution_count": 142,
   "metadata": {
    "editable": true
   },
   "outputs": [
    {
     "name": "stdout",
     "output_type": "stream",
     "text": [
      "root\n",
      " |-- year: integer (nullable = true)\n",
      " |-- month: integer (nullable = true)\n",
      " |-- id: integer (nullable = true)\n",
      " |-- port_id: string (nullable = true)\n",
      " |-- arrival_date: date (nullable = true)\n",
      " |-- departure_date: date (nullable = true)\n",
      " |-- citizenship_country_id: integer (nullable = true)\n",
      " |-- residency_country_id: integer (nullable = true)\n",
      " |-- age: integer (nullable = true)\n",
      " |-- birth_year: integer (nullable = true)\n",
      " |-- gender: string (nullable = true)\n",
      " |-- visa_id: integer (nullable = true)\n",
      "\n"
     ]
    }
   ],
   "source": [
    "d_visitors.printSchema()"
   ]
  },
  {
   "cell_type": "code",
   "execution_count": 143,
   "metadata": {
    "editable": true
   },
   "outputs": [
    {
     "name": "stdout",
     "output_type": "stream",
     "text": [
      "root\n",
      " |-- year: integer (nullable = true)\n",
      " |-- month: integer (nullable = true)\n",
      " |-- state_code: string (nullable = true)\n",
      " |-- id: integer (nullable = true)\n",
      " |-- city: string (nullable = true)\n",
      " |-- port_id: string (nullable = true)\n",
      "\n"
     ]
    }
   ],
   "source": [
    "f_us_immigrations.printSchema()"
   ]
  },
  {
   "cell_type": "code",
   "execution_count": 144,
   "metadata": {
    "editable": true
   },
   "outputs": [
    {
     "name": "stdout",
     "output_type": "stream",
     "text": [
      "root\n",
      " |-- state_code: string (nullable = true)\n",
      " |-- municipality: string (nullable = true)\n",
      " |-- id: integer (nullable = true)\n",
      " |-- iata_code: string (nullable = true)\n",
      " |-- local_code: string (nullable = true)\n",
      " |-- name: string (nullable = true)\n",
      " |-- type: string (nullable = true)\n",
      "\n"
     ]
    }
   ],
   "source": [
    "d_us_airports.printSchema()"
   ]
  },
  {
   "cell_type": "code",
   "execution_count": 145,
   "metadata": {
    "editable": true
   },
   "outputs": [
    {
     "name": "stdout",
     "output_type": "stream",
     "text": [
      "root\n",
      " |-- state_code: string (nullable = true)\n",
      " |-- id: integer (nullable = true)\n",
      " |-- city: string (nullable = true)\n",
      " |-- median_age: integer (nullable = true)\n",
      " |-- male_population: integer (nullable = true)\n",
      " |-- female_population: integer (nullable = true)\n",
      " |-- total_population: integer (nullable = true)\n",
      " |-- average_household_size: double (nullable = true)\n",
      " |-- foreign_born: integer (nullable = true)\n",
      " |-- number_of_veterans: integer (nullable = true)\n",
      "\n"
     ]
    }
   ],
   "source": [
    "d_us_demo.printSchema()"
   ]
  },
  {
   "cell_type": "markdown",
   "metadata": {
    "editable": true
   },
   "source": [
    "**5.3.4. Run an analytics query joining multiple table to provide evidence**\n",
    "\n",
    "Are immigrants travel to cities with generally more immigrants or US states with most Airports?"
   ]
  },
  {
   "cell_type": "code",
   "execution_count": 146,
   "metadata": {
    "editable": true
   },
   "outputs": [
    {
     "name": "stdout",
     "output_type": "stream",
     "text": [
      "+-------------+---------------------------+----------------------------+\n",
      "|         City|Foreign Born Count per Year|Visitor Count for April 2016|\n",
      "+-------------+---------------------------+----------------------------+\n",
      "|     NEW YORK|                    3212500|                         155|\n",
      "|  LOS ANGELES|                    1485425|                         104|\n",
      "|      HOUSTON|                     696210|                          30|\n",
      "|      CHICAGO|                     573463|                          45|\n",
      "|     SAN JOSE|                     401493|                           2|\n",
      "|    SAN DIEGO|                     373842|                           2|\n",
      "|       DALLAS|                     326825|                          18|\n",
      "|      PHOENIX|                     300702|                          15|\n",
      "|SAN FRANCISCO|                     297199|                          54|\n",
      "|        MIAMI|                     260789|                         110|\n",
      "|  SAN ANTONIO|                     208046|                           1|\n",
      "| PHILADELPHIA|                     205339|                          11|\n",
      "|       BOSTON|                     190123|                          18|\n",
      "|    CHARLOTTE|                     128897|                           6|\n",
      "|    LAS VEGAS|                     127609|                          22|\n",
      "|      SEATTLE|                     119840|                          16|\n",
      "|      OAKLAND|                     113896|                           2|\n",
      "|       DENVER|                     113222|                           2|\n",
      "|     COLUMBUS|                     101129|                           1|\n",
      "|     PORTLAND|                      86041|                           4|\n",
      "+-------------+---------------------------+----------------------------+\n",
      "only showing top 20 rows\n",
      "\n"
     ]
    }
   ],
   "source": [
    "count_visitors_per_city = f_us_immigrations.alias(\"f\") \\\n",
    "    .join(d_visitors.alias(\"dv\"), f_us_immigrations.port_id == d_visitors.port_id) \\\n",
    "    .select(\"f.year\", \"f.month\", F.col(\"f.city\").alias(\"City\")) \\\n",
    "    .filter((f_us_immigrations.year == 2016) & (f_us_immigrations.month == 4)) \\\n",
    "    .groupBy(\"City\").count() \\\n",
    "    .distinct() \\\n",
    "    .orderBy(F.desc(\"count\"))\n",
    "\n",
    "count_visitor_city_foreign_born = count_visitors_per_city.alias(\"cvpc\") \\\n",
    "    .join(d_us_demo.alias(\"dd\"), count_visitors_per_city.City == d_us_demo.city) \\\n",
    "    .select(\"cvpc.City\", F.col(\"dd.foreign_born\").alias(\"Foreign Born Count per Year\"), F.col(\"count\").alias(\"Visitor Count for April 2016\")) \\\n",
    "    .distinct() \\\n",
    "    .orderBy(F.desc(\"Foreign Born Count per Year\"))\n",
    "\n",
    "count_visitor_city_foreign_born.show()"
   ]
  },
  {
   "cell_type": "code",
   "execution_count": 147,
   "metadata": {
    "editable": true
   },
   "outputs": [
    {
     "name": "stdout",
     "output_type": "stream",
     "text": [
      "+---------------+---------------------------+----------------------------+\n",
      "|           City|Foreign Born Count per Year|Visitor Count for April 2016|\n",
      "+---------------+---------------------------+----------------------------+\n",
      "|       PORTLAND|                       9229|                           4|\n",
      "|       COLUMBUS|                      10376|                           1|\n",
      "|     FORT MYERS|                      15365|                           6|\n",
      "|    NEW ORLEANS|                      21679|                           1|\n",
      "|      VANCOUVER|                      21748|                           6|\n",
      "|WEST PALM BEACH|                      30675|                           3|\n",
      "|        ATLANTA|                      32016|                          37|\n",
      "| SALT LAKE CITY|                      32166|                           1|\n",
      "|        MCALLEN|                      37691|                           1|\n",
      "|        DETROIT|                      39861|                          12|\n",
      "|FORT LAUDERDALE|                      47582|                          26|\n",
      "|        ONTARIO|                      48557|                           1|\n",
      "|      BALTIMORE|                      49857|                           2|\n",
      "|        ORLANDO|                      50558|                          39|\n",
      "|      MILWAUKEE|                      58321|                           1|\n",
      "|          TAMPA|                      58795|                          10|\n",
      "|       PORTLAND|                      86041|                           4|\n",
      "|       COLUMBUS|                     101129|                           1|\n",
      "|         DENVER|                     113222|                           2|\n",
      "|        OAKLAND|                     113896|                           2|\n",
      "+---------------+---------------------------+----------------------------+\n",
      "only showing top 20 rows\n",
      "\n"
     ]
    }
   ],
   "source": [
    "count_visitor_city_foreign_born.orderBy(\"Foreign Born Count per Year\").show()"
   ]
  },
  {
   "cell_type": "code",
   "execution_count": 148,
   "metadata": {
    "editable": true
   },
   "outputs": [
    {
     "name": "stdout",
     "output_type": "stream",
     "text": [
      "+----------+-------------+----------------------------+\n",
      "|State Code|Airport Count|Visitor Count for April 2016|\n",
      "+----------+-------------+----------------------------+\n",
      "|        TX|         2276|                          51|\n",
      "|        CA|         1088|                         183|\n",
      "|        FL|          967|                         206|\n",
      "|        PA|          918|                          11|\n",
      "|        IL|          902|                          60|\n",
      "|        OH|          799|                           5|\n",
      "|        NY|          668|                         169|\n",
      "|        WI|          624|                           1|\n",
      "|        LA|          592|                           1|\n",
      "|        WA|          578|                          16|\n",
      "|        MN|          569|                           4|\n",
      "|        MI|          549|                          12|\n",
      "|        GA|          522|                          41|\n",
      "|        CO|          505|                           2|\n",
      "|        OR|          492|                           4|\n",
      "|        NC|          473|                           6|\n",
      "|        NJ|          442|                          45|\n",
      "|        AZ|          359|                          15|\n",
      "|        MA|          257|                          29|\n",
      "|        MD|          257|                           2|\n",
      "+----------+-------------+----------------------------+\n",
      "only showing top 20 rows\n",
      "\n"
     ]
    }
   ],
   "source": [
    "count_visitors_per_state = f_us_immigrations.alias(\"f\") \\\n",
    "    .join(d_visitors.alias(\"dv\"), f_us_immigrations.port_id == d_visitors.port_id) \\\n",
    "    .select(\"f.year\", \"f.month\", F.col(\"f.state_code\").alias(\"state_code\")) \\\n",
    "    .filter((f_us_immigrations.year == 2016) & (f_us_immigrations.month == 4)) \\\n",
    "    .groupBy(\"state_code\").count() \\\n",
    "    .distinct() \\\n",
    "    .orderBy(F.desc(\"count\"))\n",
    "\n",
    "count_airports_per_state = d_us_airports.alias(\"da\") \\\n",
    "    .select(\"state_code\") \\\n",
    "    .groupBy(\"state_code\").count() \\\n",
    "    .distinct() \\\n",
    "    .orderBy(F.desc(\"count\"))\n",
    "\n",
    "count_visitor_state_airports = count_visitors_per_state.alias(\"cvps\") \\\n",
    "    .join(count_airports_per_state.alias(\"caps\"), count_visitors_per_state.state_code == count_airports_per_state.state_code) \\\n",
    "    .select(F.col(\"cvps.state_code\").alias(\"State Code\"), F.col(\"caps.count\").alias(\"Airport Count\"), F.col(\"cvps.count\").alias(\"Visitor Count for April 2016\")) \\\n",
    "    .distinct() \\\n",
    "    .orderBy(F.desc(\"Airport Count\"))\n",
    "\n",
    "count_visitor_state_airports.show()"
   ]
  },
  {
   "cell_type": "code",
   "execution_count": 149,
   "metadata": {
    "editable": true
   },
   "outputs": [
    {
     "name": "stdout",
     "output_type": "stream",
     "text": [
      "+----------+-------------+----------------------------+\n",
      "|State Code|Airport Count|Visitor Count for April 2016|\n",
      "+----------+-------------+----------------------------+\n",
      "|        DC|           21|                          24|\n",
      "|        HI|           64|                          52|\n",
      "|        VT|          102|                           9|\n",
      "|        NV|          156|                          23|\n",
      "|        UT|          170|                           1|\n",
      "|        MD|          257|                           2|\n",
      "|        MA|          257|                          29|\n",
      "|        AZ|          359|                          15|\n",
      "|        NJ|          442|                          45|\n",
      "|        NC|          473|                           6|\n",
      "|        OR|          492|                           4|\n",
      "|        CO|          505|                           2|\n",
      "|        GA|          522|                          41|\n",
      "|        MI|          549|                          12|\n",
      "|        MN|          569|                           4|\n",
      "|        WA|          578|                          16|\n",
      "|        LA|          592|                           1|\n",
      "|        WI|          624|                           1|\n",
      "|        NY|          668|                         169|\n",
      "|        OH|          799|                           5|\n",
      "+----------+-------------+----------------------------+\n",
      "only showing top 20 rows\n",
      "\n"
     ]
    }
   ],
   "source": [
    "count_visitor_state_airports.orderBy(\"Airport Count\").show()"
   ]
  },
  {
   "cell_type": "markdown",
   "metadata": {
    "editable": true
   },
   "source": [
    "<a id='scenarios'></a>\n",
    "## 6. Further Scenarios and Approaches\n",
    "\n",
    "### Data Update Frequency\n",
    "1. The immigration data is grouped by year and month so that it would make sense to append new data on a monthly basis. It would be important to ensure that the id columns for the visitors dimension and us immigrations fact table stay unique.\n",
    "1. The airport data can be independently updated of the other datasets, if new information is available existing records should either be updated (i.e. an Airport closes) or new records added (a new Airport opened). Anyways, it would make sense to align the update frequency with the immigration data as long as it is part of the same data pipeline.\n",
    "1. The processed US demographic data covers the year 2015. The table should be updated based on the frequency of the US census surveys. An additional column to group and partition the data by year or month would be required. This would allow to append new survey data. The updates can be done independently of the other raw dataset updates, which would require an additional pipeline.\n",
    "\n",
    "Independently it would require to change the cleaning and ETL implementation so that the existing database will be updated. Tools like Airflow could be used to schedule those updates and to allow multiple pipelines.\n",
    " \n",
    "### The data was increased by 100x.\n",
    "For a smooth data assessment Pyspark instead of Pandas would be required. Pandas could still be used on sample data. Currently, a Spark single-node (standalone installation) can be used to process the data in an appropriate time. This won't be possible anymore when the data increased by 100x. A Spark cluster to compute the processing using multiple nodes would be required, e.g. AWS EMR could be leveraged. The use of AWS S3 would be mandatory as data storage layer for the Spark cluster. The usage of a local disk would not be recommended, because of network latency, disk io, S3 options like backup, lifecycle rules and data tiering.\n",
    "\n",
    "### The pipelines would be run on a daily basis by 7 am every day.\n",
    "A workflow engine, e.g. Airflow or Luigi, should be used to create a DAG (direct acyclic graph) defining the data pipeline steps. Such tools are made for scheduling tasks or workflows described as DAG. Additionally, they provide monitoring of data pipelines and a Web GUI, which increases maintainability and accessibility.\n",
    "\n",
    "### The database needed to be accessed by 100+ people.\n",
    "A large analytics teams should use a Spark cluster instead of a Spark single-node (standalone installation) so that the processing can be distributed within the cluster, e.g. AWS EMR. Additionally, AWS S3 data lake will be mandatory. Furthermore, the ETL could be adapted to load the data into a traditional Cloud Data Warehouse (i.e. AWS Redshift), which is made for massive parallel processing. The costs and organization data engineering knowledge as well as the data consumers (BI apps, e.g. Metabase, Superset) are factors to consider for such a decision.\n",
    "\n",
    "<a id='issues'></a>\n",
    "## 7. Known Issues\n",
    "1. No global temparature data for US cities for the year 2016 available, so that no average temperature data was considered in the target data model.\n",
    "1. The `port_id` in `f_us_immigrations` not necessarily matches `iata_code` or `local_code` in `d_us_airports`, because of that partially another encoding was used in immigration dataset.\n",
    "1. The `city` in `f_us_immigrations` not necessarily matches the `municipality` in `d_us_airports`. Further cleaning would be required.\n",
    "1. The `city` and `port_id` in `f_us_immigrations` contain cities and ports not in the US. Further cleaning would be required.\n",
    "1. Some `state_code` not exists in all datasets, e.g. `U-A` only exists in `d_us_airports`, but not in `f_us_immigrations` and `d_us_demo`."
   ]
  },
  {
   "cell_type": "code",
   "execution_count": null,
   "metadata": {
    "editable": true
   },
   "outputs": [],
   "source": []
  }
 ],
 "metadata": {
  "kernelspec": {
   "display_name": "Python 3",
   "language": "python",
   "name": "python3"
  },
  "language_info": {
   "codemirror_mode": {
    "name": "ipython",
    "version": 3
   },
   "file_extension": ".py",
   "mimetype": "text/x-python",
   "name": "python",
   "nbconvert_exporter": "python",
   "pygments_lexer": "ipython3",
   "version": "3.6.3"
  }
 },
 "nbformat": 4,
 "nbformat_minor": 4
}
